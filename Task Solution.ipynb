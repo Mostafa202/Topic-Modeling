{
 "cells": [
  {
   "cell_type": "code",
   "execution_count": 1,
   "id": "be6bd6b3",
   "metadata": {},
   "outputs": [],
   "source": [
    "#import libraries\n",
    "import numpy as np\n",
    "import pandas as pd\n",
    "import matplotlib.pyplot as plt\n",
    "import re\n",
    "import gensim\n",
    "import spacy\n",
    "from gensim.utils import simple_preprocess\n",
    "from sklearn.model_selection import train_test_split\n",
    "from gensim.models import CoherenceModel"
   ]
  },
  {
   "cell_type": "markdown",
   "id": "3dc47532",
   "metadata": {},
   "source": [
    "## Dataset Exploration"
   ]
  },
  {
   "cell_type": "code",
   "execution_count": 2,
   "id": "c699c124",
   "metadata": {},
   "outputs": [],
   "source": [
    "#read dataset from excel file\n",
    "dataset = pd.read_excel('Pubmed5k.xlsx')"
   ]
  },
  {
   "cell_type": "code",
   "execution_count": 3,
   "id": "c539a0f7",
   "metadata": {},
   "outputs": [
    {
     "data": {
      "text/html": [
       "<div>\n",
       "<style scoped>\n",
       "    .dataframe tbody tr th:only-of-type {\n",
       "        vertical-align: middle;\n",
       "    }\n",
       "\n",
       "    .dataframe tbody tr th {\n",
       "        vertical-align: top;\n",
       "    }\n",
       "\n",
       "    .dataframe thead th {\n",
       "        text-align: right;\n",
       "    }\n",
       "</style>\n",
       "<table border=\"1\" class=\"dataframe\">\n",
       "  <thead>\n",
       "    <tr style=\"text-align: right;\">\n",
       "      <th></th>\n",
       "      <th>ArticleID</th>\n",
       "      <th>Title</th>\n",
       "      <th>Abstract</th>\n",
       "    </tr>\n",
       "  </thead>\n",
       "  <tbody>\n",
       "    <tr>\n",
       "      <th>0</th>\n",
       "      <td>34153941</td>\n",
       "      <td>Stable Coordination Variability in Overground ...</td>\n",
       "      <td>Coordination variability (CV) is commonly anal...</td>\n",
       "    </tr>\n",
       "    <tr>\n",
       "      <th>1</th>\n",
       "      <td>34153942</td>\n",
       "      <td>Weak Hip Strength Increases Dynamic Knee Valgu...</td>\n",
       "      <td>Clinical Scenario: Dynamic knee valgus (DKV) i...</td>\n",
       "    </tr>\n",
       "    <tr>\n",
       "      <th>2</th>\n",
       "      <td>34153964</td>\n",
       "      <td>Current and Future Projections of Amyotrophic ...</td>\n",
       "      <td>Various methodologies have been reported to as...</td>\n",
       "    </tr>\n",
       "    <tr>\n",
       "      <th>3</th>\n",
       "      <td>34153968</td>\n",
       "      <td>Disparities between Asian and Non-Asian Thromb...</td>\n",
       "      <td>As outcomes for acute ischemic stroke (AIS) va...</td>\n",
       "    </tr>\n",
       "    <tr>\n",
       "      <th>4</th>\n",
       "      <td>34153978</td>\n",
       "      <td>Maternal Factors Predicting Loss to Follow-Up ...</td>\n",
       "      <td>Because hearing loss in children can result in...</td>\n",
       "    </tr>\n",
       "  </tbody>\n",
       "</table>\n",
       "</div>"
      ],
      "text/plain": [
       "   ArticleID                                              Title  \\\n",
       "0   34153941  Stable Coordination Variability in Overground ...   \n",
       "1   34153942  Weak Hip Strength Increases Dynamic Knee Valgu...   \n",
       "2   34153964  Current and Future Projections of Amyotrophic ...   \n",
       "3   34153968  Disparities between Asian and Non-Asian Thromb...   \n",
       "4   34153978  Maternal Factors Predicting Loss to Follow-Up ...   \n",
       "\n",
       "                                            Abstract  \n",
       "0  Coordination variability (CV) is commonly anal...  \n",
       "1  Clinical Scenario: Dynamic knee valgus (DKV) i...  \n",
       "2  Various methodologies have been reported to as...  \n",
       "3  As outcomes for acute ischemic stroke (AIS) va...  \n",
       "4  Because hearing loss in children can result in...  "
      ]
     },
     "execution_count": 3,
     "metadata": {},
     "output_type": "execute_result"
    }
   ],
   "source": [
    "dataset.head()"
   ]
  },
  {
   "cell_type": "code",
   "execution_count": 4,
   "id": "64ab4da0",
   "metadata": {},
   "outputs": [
    {
     "data": {
      "text/plain": [
       "(4999, 3)"
      ]
     },
     "execution_count": 4,
     "metadata": {},
     "output_type": "execute_result"
    }
   ],
   "source": [
    "#check size of dataset\n",
    "dataset.shape"
   ]
  },
  {
   "cell_type": "code",
   "execution_count": 5,
   "id": "fbf9fbbe",
   "metadata": {},
   "outputs": [
    {
     "data": {
      "text/plain": [
       "'Stable Coordination Variability in Overground Walking and Running at Preferred and Fixed Speeds.'"
      ]
     },
     "execution_count": 5,
     "metadata": {},
     "output_type": "execute_result"
    }
   ],
   "source": [
    "#show sample of titles\n",
    "dataset.iloc[0]['Title']"
   ]
  },
  {
   "cell_type": "code",
   "execution_count": 6,
   "id": "d9359822",
   "metadata": {},
   "outputs": [
    {
     "data": {
      "text/plain": [
       "'Coordination variability (CV) is commonly analyzed to understand dynamical qualities of human locomotion. The purpose of this study was to develop guidelines for the number of trials required to inform the calculation of a stable mean lower limb CV during overground locomotion. Three-dimensional lower limb kinematics were captured for 10 recreational runners performing 20 trials each of preferred and fixed speed walking and running. Stance phase CV was calculated for 9 segment and joint couplings using a modified vector coding technique. The number of trials required to achieve a CV mean within 10% of 20 strides average was determined for each coupling and individual. The statistical outputs of mode (walking vs running) and speed (preferred vs fixed) were compared when informed by differing numbers of trials. A minimum of 11 trials were required for stable mean stance phase CV. With fewer than 11 trials, CV was underestimated and led to an oversight of significant differences between mode and speed. Future overground locomotion CV research in healthy populations using a vector coding approach should use 11 trials as a standard minimum. Researchers should be aware of the notable consequences of an insufficient number of trials for overall study findings.'"
      ]
     },
     "execution_count": 6,
     "metadata": {},
     "output_type": "execute_result"
    }
   ],
   "source": [
    "#show sample of abstract\n",
    "dataset.iloc[0]['Abstract']"
   ]
  },
  {
   "cell_type": "code",
   "execution_count": 7,
   "id": "8a98caa1",
   "metadata": {},
   "outputs": [
    {
     "name": "stdout",
     "output_type": "stream",
     "text": [
      "<class 'pandas.core.frame.DataFrame'>\n",
      "RangeIndex: 4999 entries, 0 to 4998\n",
      "Data columns (total 3 columns):\n",
      " #   Column     Non-Null Count  Dtype \n",
      "---  ------     --------------  ----- \n",
      " 0   ArticleID  4999 non-null   int64 \n",
      " 1   Title      4999 non-null   object\n",
      " 2   Abstract   4999 non-null   object\n",
      "dtypes: int64(1), object(2)\n",
      "memory usage: 117.3+ KB\n"
     ]
    }
   ],
   "source": [
    "#check dataset info\n",
    "dataset.info()"
   ]
  },
  {
   "cell_type": "code",
   "execution_count": 8,
   "id": "54d36852",
   "metadata": {},
   "outputs": [
    {
     "data": {
      "text/plain": [
       "ArticleID    0\n",
       "Title        0\n",
       "Abstract     0\n",
       "dtype: int64"
      ]
     },
     "execution_count": 8,
     "metadata": {},
     "output_type": "execute_result"
    }
   ],
   "source": [
    "#check null values\n",
    "dataset.isnull().sum()"
   ]
  },
  {
   "cell_type": "code",
   "execution_count": 9,
   "id": "eb990dd0",
   "metadata": {},
   "outputs": [
    {
     "data": {
      "text/plain": [
       "0"
      ]
     },
     "execution_count": 9,
     "metadata": {},
     "output_type": "execute_result"
    }
   ],
   "source": [
    "#check duplicates\n",
    "dataset.duplicated().sum()"
   ]
  },
  {
   "cell_type": "code",
   "execution_count": 10,
   "id": "9ffecb18",
   "metadata": {},
   "outputs": [
    {
     "data": {
      "text/plain": [
       "10"
      ]
     },
     "execution_count": 10,
     "metadata": {},
     "output_type": "execute_result"
    }
   ],
   "source": [
    "#check duplicates in columns\n",
    "dataset['Abstract'].duplicated().sum()"
   ]
  },
  {
   "cell_type": "markdown",
   "id": "834919a9",
   "metadata": {},
   "source": [
    "* there are duplicates in Abstract column"
   ]
  },
  {
   "cell_type": "code",
   "execution_count": 11,
   "id": "a4a55e81",
   "metadata": {},
   "outputs": [
    {
     "data": {
      "text/plain": [
       "0"
      ]
     },
     "execution_count": 11,
     "metadata": {},
     "output_type": "execute_result"
    }
   ],
   "source": [
    "#check duplicates in columns\n",
    "dataset['Title'].duplicated().sum()"
   ]
  },
  {
   "cell_type": "code",
   "execution_count": 12,
   "id": "e8e7b932",
   "metadata": {},
   "outputs": [
    {
     "data": {
      "text/plain": [
       "0"
      ]
     },
     "execution_count": 12,
     "metadata": {},
     "output_type": "execute_result"
    }
   ],
   "source": [
    "#check duplicates in columns\n",
    "dataset['ArticleID'].duplicated().sum()"
   ]
  },
  {
   "cell_type": "markdown",
   "id": "53f40bb2",
   "metadata": {},
   "source": [
    "## Dataset Preprocessing"
   ]
  },
  {
   "cell_type": "code",
   "execution_count": 13,
   "id": "dc14f402",
   "metadata": {},
   "outputs": [
    {
     "data": {
      "text/html": [
       "<div>\n",
       "<style scoped>\n",
       "    .dataframe tbody tr th:only-of-type {\n",
       "        vertical-align: middle;\n",
       "    }\n",
       "\n",
       "    .dataframe tbody tr th {\n",
       "        vertical-align: top;\n",
       "    }\n",
       "\n",
       "    .dataframe thead th {\n",
       "        text-align: right;\n",
       "    }\n",
       "</style>\n",
       "<table border=\"1\" class=\"dataframe\">\n",
       "  <thead>\n",
       "    <tr style=\"text-align: right;\">\n",
       "      <th></th>\n",
       "      <th>ArticleID</th>\n",
       "      <th>Title</th>\n",
       "      <th>Abstract</th>\n",
       "    </tr>\n",
       "  </thead>\n",
       "  <tbody>\n",
       "    <tr>\n",
       "      <th>2590</th>\n",
       "      <td>34669440</td>\n",
       "      <td>Peptide-based urinary monitoring of fibrotic n...</td>\n",
       "      <td>[Figure: see text].</td>\n",
       "    </tr>\n",
       "    <tr>\n",
       "      <th>2591</th>\n",
       "      <td>34669441</td>\n",
       "      <td>A rapid assay provides on-site quantification ...</td>\n",
       "      <td>[Figure: see text].</td>\n",
       "    </tr>\n",
       "    <tr>\n",
       "      <th>2592</th>\n",
       "      <td>34669442</td>\n",
       "      <td>Fatal enhanced respiratory syncytial virus dis...</td>\n",
       "      <td>[Figure: see text].</td>\n",
       "    </tr>\n",
       "    <tr>\n",
       "      <th>2593</th>\n",
       "      <td>34669443</td>\n",
       "      <td>Macrophage migration inhibitory factor drives ...</td>\n",
       "      <td>[Figure: see text].</td>\n",
       "    </tr>\n",
       "    <tr>\n",
       "      <th>2594</th>\n",
       "      <td>34669444</td>\n",
       "      <td>Development of ICT01, a first-in-class, anti-B...</td>\n",
       "      <td>[Figure: see text].</td>\n",
       "    </tr>\n",
       "    <tr>\n",
       "      <th>3872</th>\n",
       "      <td>34258891</td>\n",
       "      <td>Too much of a good thing in ischemic mitral: l...</td>\n",
       "      <td>No abstract present.</td>\n",
       "    </tr>\n",
       "    <tr>\n",
       "      <th>3873</th>\n",
       "      <td>34258892</td>\n",
       "      <td>COVID-19 infection and cardiometabolic complic...</td>\n",
       "      <td>No abstract present.</td>\n",
       "    </tr>\n",
       "    <tr>\n",
       "      <th>3874</th>\n",
       "      <td>34258893</td>\n",
       "      <td>Comments on Cardiovascular effects of waterpip...</td>\n",
       "      <td>No abstract present.</td>\n",
       "    </tr>\n",
       "    <tr>\n",
       "      <th>3875</th>\n",
       "      <td>34258894</td>\n",
       "      <td>A case of COVID-19 infection quickly relieved ...</td>\n",
       "      <td>No abstract present.</td>\n",
       "    </tr>\n",
       "    <tr>\n",
       "      <th>4757</th>\n",
       "      <td>34425679</td>\n",
       "      <td>Study of anabolic activity of dry extracts of ...</td>\n",
       "      <td>This article presents the results of the study...</td>\n",
       "    </tr>\n",
       "  </tbody>\n",
       "</table>\n",
       "</div>"
      ],
      "text/plain": [
       "      ArticleID                                              Title  \\\n",
       "2590   34669440  Peptide-based urinary monitoring of fibrotic n...   \n",
       "2591   34669441  A rapid assay provides on-site quantification ...   \n",
       "2592   34669442  Fatal enhanced respiratory syncytial virus dis...   \n",
       "2593   34669443  Macrophage migration inhibitory factor drives ...   \n",
       "2594   34669444  Development of ICT01, a first-in-class, anti-B...   \n",
       "3872   34258891  Too much of a good thing in ischemic mitral: l...   \n",
       "3873   34258892  COVID-19 infection and cardiometabolic complic...   \n",
       "3874   34258893  Comments on Cardiovascular effects of waterpip...   \n",
       "3875   34258894  A case of COVID-19 infection quickly relieved ...   \n",
       "4757   34425679  Study of anabolic activity of dry extracts of ...   \n",
       "\n",
       "                                               Abstract  \n",
       "2590                                [Figure: see text].  \n",
       "2591                                [Figure: see text].  \n",
       "2592                                [Figure: see text].  \n",
       "2593                                [Figure: see text].  \n",
       "2594                                [Figure: see text].  \n",
       "3872                               No abstract present.  \n",
       "3873                               No abstract present.  \n",
       "3874                               No abstract present.  \n",
       "3875                               No abstract present.  \n",
       "4757  This article presents the results of the study...  "
      ]
     },
     "execution_count": 13,
     "metadata": {},
     "output_type": "execute_result"
    }
   ],
   "source": [
    "#check for Abstract Duplicates\n",
    "dataset[dataset['Abstract'].duplicated()]"
   ]
  },
  {
   "cell_type": "code",
   "execution_count": 14,
   "id": "46316f0f",
   "metadata": {},
   "outputs": [
    {
     "data": {
      "text/html": [
       "<div>\n",
       "<style scoped>\n",
       "    .dataframe tbody tr th:only-of-type {\n",
       "        vertical-align: middle;\n",
       "    }\n",
       "\n",
       "    .dataframe tbody tr th {\n",
       "        vertical-align: top;\n",
       "    }\n",
       "\n",
       "    .dataframe thead th {\n",
       "        text-align: right;\n",
       "    }\n",
       "</style>\n",
       "<table border=\"1\" class=\"dataframe\">\n",
       "  <thead>\n",
       "    <tr style=\"text-align: right;\">\n",
       "      <th></th>\n",
       "      <th>ArticleID</th>\n",
       "      <th>Title</th>\n",
       "      <th>Abstract</th>\n",
       "    </tr>\n",
       "  </thead>\n",
       "  <tbody>\n",
       "    <tr>\n",
       "      <th>446</th>\n",
       "      <td>34237945</td>\n",
       "      <td>Studium anabolické aktivity suchých extrakt&amp;#3...</td>\n",
       "      <td>This article presents the results of the study...</td>\n",
       "    </tr>\n",
       "    <tr>\n",
       "      <th>4757</th>\n",
       "      <td>34425679</td>\n",
       "      <td>Study of anabolic activity of dry extracts of ...</td>\n",
       "      <td>This article presents the results of the study...</td>\n",
       "    </tr>\n",
       "  </tbody>\n",
       "</table>\n",
       "</div>"
      ],
      "text/plain": [
       "      ArticleID                                              Title  \\\n",
       "446    34237945  Studium anabolické aktivity suchých extrakt&#3...   \n",
       "4757   34425679  Study of anabolic activity of dry extracts of ...   \n",
       "\n",
       "                                               Abstract  \n",
       "446   This article presents the results of the study...  \n",
       "4757  This article presents the results of the study...  "
      ]
     },
     "execution_count": 14,
     "metadata": {},
     "output_type": "execute_result"
    }
   ],
   "source": [
    "dataset[dataset['Abstract']==dataset.iloc[4757]['Abstract']]"
   ]
  },
  {
   "cell_type": "code",
   "execution_count": 15,
   "id": "feb03aac",
   "metadata": {},
   "outputs": [
    {
     "data": {
      "text/plain": [
       "'Studium anabolické aktivity suchých extrakt&#367; list&#367; a oddenk&#367; Iris hungarica na modelu hydrokortizonem navozeného katabolismu bílkovin.'"
      ]
     },
     "execution_count": 15,
     "metadata": {},
     "output_type": "execute_result"
    }
   ],
   "source": [
    "dataset.iloc[446]['Title']"
   ]
  },
  {
   "cell_type": "markdown",
   "id": "2dfd303d",
   "metadata": {},
   "source": [
    "* We notice that there are not abstract data in some samples\n",
    "* There is a duplicated instance, but its title written in another language "
   ]
  },
  {
   "cell_type": "code",
   "execution_count": 16,
   "id": "feb33231",
   "metadata": {},
   "outputs": [],
   "source": [
    "#droping these instances\n",
    "indices = dataset[dataset['Abstract'].duplicated()].index\n",
    "#replace index of an instance with another written in another language \n",
    "indices = indices.to_list()\n",
    "del(indices[-1])\n",
    "indices.append(446)\n",
    "indices = np.array(indices)"
   ]
  },
  {
   "cell_type": "code",
   "execution_count": 17,
   "id": "afbba668",
   "metadata": {},
   "outputs": [],
   "source": [
    "#drop duplicates\n",
    "dataset.drop(index = indices,inplace=True)"
   ]
  },
  {
   "cell_type": "code",
   "execution_count": 18,
   "id": "0665e9d1",
   "metadata": {},
   "outputs": [
    {
     "data": {
      "text/html": [
       "<div>\n",
       "<style scoped>\n",
       "    .dataframe tbody tr th:only-of-type {\n",
       "        vertical-align: middle;\n",
       "    }\n",
       "\n",
       "    .dataframe tbody tr th {\n",
       "        vertical-align: top;\n",
       "    }\n",
       "\n",
       "    .dataframe thead th {\n",
       "        text-align: right;\n",
       "    }\n",
       "</style>\n",
       "<table border=\"1\" class=\"dataframe\">\n",
       "  <thead>\n",
       "    <tr style=\"text-align: right;\">\n",
       "      <th></th>\n",
       "      <th>ArticleID</th>\n",
       "      <th>Title</th>\n",
       "      <th>Abstract</th>\n",
       "    </tr>\n",
       "  </thead>\n",
       "  <tbody>\n",
       "  </tbody>\n",
       "</table>\n",
       "</div>"
      ],
      "text/plain": [
       "Empty DataFrame\n",
       "Columns: [ArticleID, Title, Abstract]\n",
       "Index: []"
      ]
     },
     "execution_count": 18,
     "metadata": {},
     "output_type": "execute_result"
    }
   ],
   "source": [
    "#check after remove duplicates\n",
    "dataset[dataset['Abstract'].duplicated()]"
   ]
  },
  {
   "cell_type": "code",
   "execution_count": 19,
   "id": "ee83d365",
   "metadata": {},
   "outputs": [
    {
     "data": {
      "text/html": [
       "<div>\n",
       "<style scoped>\n",
       "    .dataframe tbody tr th:only-of-type {\n",
       "        vertical-align: middle;\n",
       "    }\n",
       "\n",
       "    .dataframe tbody tr th {\n",
       "        vertical-align: top;\n",
       "    }\n",
       "\n",
       "    .dataframe thead th {\n",
       "        text-align: right;\n",
       "    }\n",
       "</style>\n",
       "<table border=\"1\" class=\"dataframe\">\n",
       "  <thead>\n",
       "    <tr style=\"text-align: right;\">\n",
       "      <th></th>\n",
       "      <th>ArticleID</th>\n",
       "      <th>Title</th>\n",
       "      <th>Abstract</th>\n",
       "    </tr>\n",
       "  </thead>\n",
       "  <tbody>\n",
       "    <tr>\n",
       "      <th>2589</th>\n",
       "      <td>34669439</td>\n",
       "      <td>DNA binding to TLR9 expressed by red blood cel...</td>\n",
       "      <td>[Figure: see text].</td>\n",
       "    </tr>\n",
       "  </tbody>\n",
       "</table>\n",
       "</div>"
      ],
      "text/plain": [
       "      ArticleID                                              Title  \\\n",
       "2589   34669439  DNA binding to TLR9 expressed by red blood cel...   \n",
       "\n",
       "                 Abstract  \n",
       "2589  [Figure: see text].  "
      ]
     },
     "execution_count": 19,
     "metadata": {},
     "output_type": "execute_result"
    }
   ],
   "source": [
    "#check for instances that have not abstract data\n",
    "dataset[dataset['Abstract']=='[Figure: see text].']"
   ]
  },
  {
   "cell_type": "code",
   "execution_count": 20,
   "id": "6d1f9936",
   "metadata": {},
   "outputs": [
    {
     "data": {
      "text/html": [
       "<div>\n",
       "<style scoped>\n",
       "    .dataframe tbody tr th:only-of-type {\n",
       "        vertical-align: middle;\n",
       "    }\n",
       "\n",
       "    .dataframe tbody tr th {\n",
       "        vertical-align: top;\n",
       "    }\n",
       "\n",
       "    .dataframe thead th {\n",
       "        text-align: right;\n",
       "    }\n",
       "</style>\n",
       "<table border=\"1\" class=\"dataframe\">\n",
       "  <thead>\n",
       "    <tr style=\"text-align: right;\">\n",
       "      <th></th>\n",
       "      <th>ArticleID</th>\n",
       "      <th>Title</th>\n",
       "      <th>Abstract</th>\n",
       "    </tr>\n",
       "  </thead>\n",
       "  <tbody>\n",
       "    <tr>\n",
       "      <th>3871</th>\n",
       "      <td>34258890</td>\n",
       "      <td>Closing gaps in the care of patients with hear...</td>\n",
       "      <td>No abstract present.</td>\n",
       "    </tr>\n",
       "  </tbody>\n",
       "</table>\n",
       "</div>"
      ],
      "text/plain": [
       "      ArticleID                                              Title  \\\n",
       "3871   34258890  Closing gaps in the care of patients with hear...   \n",
       "\n",
       "                  Abstract  \n",
       "3871  No abstract present.  "
      ]
     },
     "execution_count": 20,
     "metadata": {},
     "output_type": "execute_result"
    }
   ],
   "source": [
    "dataset[dataset['Abstract']=='No abstract present.']"
   ]
  },
  {
   "cell_type": "code",
   "execution_count": 21,
   "id": "fb21ea6a",
   "metadata": {},
   "outputs": [],
   "source": [
    "dataset.drop(index = dataset[(dataset['Abstract']=='[Figure: see text].')|(dataset['Abstract']=='No abstract present.')].index,inplace=True)"
   ]
  },
  {
   "cell_type": "code",
   "execution_count": 22,
   "id": "7db476c2",
   "metadata": {},
   "outputs": [
    {
     "data": {
      "text/html": [
       "<div>\n",
       "<style scoped>\n",
       "    .dataframe tbody tr th:only-of-type {\n",
       "        vertical-align: middle;\n",
       "    }\n",
       "\n",
       "    .dataframe tbody tr th {\n",
       "        vertical-align: top;\n",
       "    }\n",
       "\n",
       "    .dataframe thead th {\n",
       "        text-align: right;\n",
       "    }\n",
       "</style>\n",
       "<table border=\"1\" class=\"dataframe\">\n",
       "  <thead>\n",
       "    <tr style=\"text-align: right;\">\n",
       "      <th></th>\n",
       "      <th>ArticleID</th>\n",
       "      <th>Title</th>\n",
       "      <th>Abstract</th>\n",
       "    </tr>\n",
       "  </thead>\n",
       "  <tbody>\n",
       "  </tbody>\n",
       "</table>\n",
       "</div>"
      ],
      "text/plain": [
       "Empty DataFrame\n",
       "Columns: [ArticleID, Title, Abstract]\n",
       "Index: []"
      ]
     },
     "execution_count": 22,
     "metadata": {},
     "output_type": "execute_result"
    }
   ],
   "source": [
    "#check after dropping\n",
    "dataset[(dataset['Abstract']=='[Figure: see text].')|(dataset['Abstract']=='No abstract present.')]"
   ]
  },
  {
   "cell_type": "code",
   "execution_count": 23,
   "id": "e471e0ab",
   "metadata": {},
   "outputs": [
    {
     "data": {
      "text/plain": [
       "(4987, 3)"
      ]
     },
     "execution_count": 23,
     "metadata": {},
     "output_type": "execute_result"
    }
   ],
   "source": [
    "dataset.shape"
   ]
  },
  {
   "cell_type": "code",
   "execution_count": 24,
   "id": "734dd1fb",
   "metadata": {},
   "outputs": [],
   "source": [
    "preprocessed_data = dataset.copy()"
   ]
  },
  {
   "cell_type": "code",
   "execution_count": 25,
   "id": "54a1633e",
   "metadata": {},
   "outputs": [],
   "source": [
    "#filter dataset using regex\n",
    "def filter_data(text):\n",
    "    '''\n",
    "     Removing special characters and digits.\n",
    "     * Parameters:\n",
    "         Text: (String) \n",
    "     * Return:\n",
    "         Text: (String)\n",
    "    '''\n",
    "    return re.sub('\\s+',' ',re.sub('\\d+','',re.sub('[^\\w+\\s]','',text))).lower()"
   ]
  },
  {
   "cell_type": "code",
   "execution_count": 26,
   "id": "a445cc0d",
   "metadata": {},
   "outputs": [],
   "source": [
    "#remove digits and special characters\n",
    "preprocessed_data['Title']    = preprocessed_data['Title'].apply(filter_data)\n",
    "preprocessed_data['Abstract'] = preprocessed_data['Abstract'].apply(filter_data)"
   ]
  },
  {
   "cell_type": "code",
   "execution_count": 27,
   "id": "2c56d947",
   "metadata": {},
   "outputs": [
    {
     "data": {
      "text/plain": [
       "'coordination variability cv is commonly analyzed to understand dynamical qualities of human locomotion the purpose of this study was to develop guidelines for the number of trials required to inform the calculation of a stable mean lower limb cv during overground locomotion threedimensional lower limb kinematics were captured for recreational runners performing trials each of preferred and fixed speed walking and running stance phase cv was calculated for segment and joint couplings using a modified vector coding technique the number of trials required to achieve a cv mean within of strides average was determined for each coupling and individual the statistical outputs of mode walking vs running and speed preferred vs fixed were compared when informed by differing numbers of trials a minimum of trials were required for stable mean stance phase cv with fewer than trials cv was underestimated and led to an oversight of significant differences between mode and speed future overground locomotion cv research in healthy populations using a vector coding approach should use trials as a standard minimum researchers should be aware of the notable consequences of an insufficient number of trials for overall study findings'"
      ]
     },
     "execution_count": 27,
     "metadata": {},
     "output_type": "execute_result"
    }
   ],
   "source": [
    "preprocessed_data.iloc[0]['Abstract']"
   ]
  },
  {
   "cell_type": "markdown",
   "id": "62003d6d",
   "metadata": {},
   "source": [
    "### Extract topics from Abstract column\n",
    "###### preprocessing: \n",
    "* remove stop words after filtering from special characters and digits\n",
    "* lemmatize the words after splitting sentences into tokens\n",
    "* use bigram to concatenate the most frequent words together"
   ]
  },
  {
   "cell_type": "code",
   "execution_count": 28,
   "id": "26f54cd2",
   "metadata": {},
   "outputs": [],
   "source": [
    "#remove stop words and split sentences into tokens\n",
    "def sent_to_words(sentences):\n",
    "    result,data = [],[]\n",
    "    for sentence in sentences:\n",
    "        for token in gensim.utils.simple_preprocess(sentence) :\n",
    "            if token not in gensim.parsing.preprocessing.STOPWORDS:\n",
    "                result.append(token)\n",
    "        data.append(result)\n",
    "        result = []\n",
    "    return data\n",
    " "
   ]
  },
  {
   "cell_type": "code",
   "execution_count": 29,
   "id": "244ee684",
   "metadata": {},
   "outputs": [],
   "source": [
    "#load spacy to lemmatize words\n",
    "nlp = spacy.load('en_core_web_md',disable=['parser', 'ner'])"
   ]
  },
  {
   "cell_type": "code",
   "execution_count": 30,
   "id": "c4b53311",
   "metadata": {},
   "outputs": [],
   "source": [
    "def lemmatization(texts, allowed_postags=['NOUN', 'ADJ', 'VERB', 'ADV']):\n",
    "    texts_out = []\n",
    "    allowed_postags=['NOUN', 'ADJ', 'VERB', 'ADV']\n",
    "    for sent in texts:\n",
    "        doc = nlp(\" \".join(sent)) \n",
    "        texts_out.append([token.lemma_ for token in doc if token.pos_ in allowed_postags])\n",
    "    return texts_out"
   ]
  },
  {
   "cell_type": "code",
   "execution_count": 31,
   "id": "8a5393c5",
   "metadata": {},
   "outputs": [],
   "source": [
    "def make_bigrams(texts):\n",
    "    return [bigram_mod[doc] for doc in texts]"
   ]
  },
  {
   "cell_type": "markdown",
   "id": "5f3c15c6",
   "metadata": {},
   "source": [
    "### Split dataset into train and test"
   ]
  },
  {
   "cell_type": "code",
   "execution_count": 32,
   "id": "8cbf61d3",
   "metadata": {},
   "outputs": [],
   "source": [
    "#split dataset\n",
    "train_data,test_data = train_test_split(preprocessed_data,test_size=0.01,random_state=0)"
   ]
  },
  {
   "cell_type": "code",
   "execution_count": 33,
   "id": "bc40adbd",
   "metadata": {},
   "outputs": [
    {
     "data": {
      "text/plain": [
       "4937"
      ]
     },
     "execution_count": 33,
     "metadata": {},
     "output_type": "execute_result"
    }
   ],
   "source": [
    "#size of training data\n",
    "len(train_data)"
   ]
  },
  {
   "cell_type": "code",
   "execution_count": 34,
   "id": "faf09123",
   "metadata": {},
   "outputs": [
    {
     "data": {
      "text/plain": [
       "50"
      ]
     },
     "execution_count": 34,
     "metadata": {},
     "output_type": "execute_result"
    }
   ],
   "source": [
    "#size of testing data\n",
    "len(test_data)"
   ]
  },
  {
   "cell_type": "code",
   "execution_count": 35,
   "id": "68abf8e2",
   "metadata": {},
   "outputs": [],
   "source": [
    "#training data\n",
    "data = train_data.iloc[:,-1].values.tolist()\n",
    "train_data_words = sent_to_words(data)\n",
    "#testing data\n",
    "data = test_data.iloc[:,-1].values.tolist()\n",
    "test_data_words = sent_to_words(data)"
   ]
  },
  {
   "cell_type": "code",
   "execution_count": 36,
   "id": "181dbb2b",
   "metadata": {},
   "outputs": [],
   "source": [
    "# Build the bigram and trigram models\n",
    "bigram = gensim.models.Phrases(train_data_words, min_count=3, threshold=10) # higher threshold fewer phrases.\n",
    "# Faster way to get a sentence clubbed as a trigram/bigram\n",
    "bigram_mod = gensim.models.phrases.Phraser(bigram)"
   ]
  },
  {
   "cell_type": "code",
   "execution_count": 37,
   "id": "bebcbecc",
   "metadata": {},
   "outputs": [],
   "source": [
    "train_data_words_bigrams = make_bigrams(train_data_words)\n",
    "test_data_words_bigrams = make_bigrams(test_data_words)"
   ]
  },
  {
   "cell_type": "code",
   "execution_count": 38,
   "id": "bb46a336",
   "metadata": {},
   "outputs": [],
   "source": [
    "train_data_lemmatized = lemmatization(train_data_words_bigrams)\n",
    "test_data_lemmatized = lemmatization(test_data_words_bigrams)"
   ]
  },
  {
   "cell_type": "code",
   "execution_count": 39,
   "id": "4fd089be",
   "metadata": {},
   "outputs": [
    {
     "name": "stdout",
     "output_type": "stream",
     "text": [
      "['evaluate_effect', 'lowcalorie', 'diet', 'hour_urinary', 'metabolic', 'parameter', 'obese', 'adult', 'idiopathic', 'calcium_oxalate', 'kidney', 'stonesadult', 'idiopathic', 'calcium_oxalate', 'stone', 'former', 'body_mass', 'index_bmi', 'kgm', 'know', 'lithogenic', 'metabolic', 'abnormality', 'submit', 'lowcalorie', 'diet', 'week', 'enrolment', 'anthropometric', 'measure', 'serum', 'exam', 'hour_urinary', 'metabolic', 'parameter', 'body', 'impedance', 'collect', 'month', 'prior', 'dietary', 'intervention', 'end', 'week', 'correlation', 'waist_circumference', 'loss', 'fat', 'loss', 'variation', 'hour_urinary', 'lithogenic', 'parameter', 'calcium_oxalate', 'urinary', 'supersaturation', 'equation', 'patients_enrolle', 'participate', 'study', 'prescribe', 'diet', 'kcalday', 'mean_age', 'female', 'participant', 'shift', 'obesity', 'bmi_kgm', 'bmi_kgm', 'significant_correlation', 'baseline', 'hour_urinary', 'oxalate', 'weight', 'correlation', 'variation', 'weight', 'waist_circumference', 'fat_mass', 'urinary', 'stone', 'risk_factor', 'caox', 'ssshortterm', 'modest', 'induce', 'week', 'lowcalorie', 'diet', 'associate', 'decrease', 'hour_urinary', 'lithogenic', 'parameter', 'idiopathic', 'calcium_oxalate', 'stone', 'former', 'calcium_oxalate', 'urinary', 'stone', 'formation', 'probably', 'multifactorial', 'drive', 'factor', 'weight']\n"
     ]
    }
   ],
   "source": [
    "print(train_data_lemmatized[0])"
   ]
  },
  {
   "cell_type": "markdown",
   "id": "f4f2ce9b",
   "metadata": {},
   "source": [
    "### Data preparation for model"
   ]
  },
  {
   "cell_type": "code",
   "execution_count": 40,
   "id": "c67c947b",
   "metadata": {},
   "outputs": [],
   "source": [
    "dictionary = gensim.corpora.Dictionary(train_data_lemmatized)"
   ]
  },
  {
   "cell_type": "code",
   "execution_count": 41,
   "id": "389c4798",
   "metadata": {},
   "outputs": [
    {
     "name": "stdout",
     "output_type": "stream",
     "text": [
      "0 abnormality\n",
      "1 adult\n",
      "2 anthropometric\n",
      "3 associate\n",
      "4 baseline\n",
      "5 bmi_kgm\n",
      "6 body\n",
      "7 body_mass\n",
      "8 calcium_oxalate\n",
      "9 caox\n",
      "10 collect\n"
     ]
    }
   ],
   "source": [
    "'''\n",
    "Checking dictionary created\n",
    "'''\n",
    "count = 0\n",
    "for k, v in dictionary.iteritems():\n",
    "    print(k, v)\n",
    "    count += 1\n",
    "    if count > 10:\n",
    "        break"
   ]
  },
  {
   "cell_type": "code",
   "execution_count": 42,
   "id": "fb4841a3",
   "metadata": {},
   "outputs": [
    {
     "data": {
      "text/plain": [
       "42654"
      ]
     },
     "execution_count": 42,
     "metadata": {},
     "output_type": "execute_result"
    }
   ],
   "source": [
    "len(dictionary)"
   ]
  },
  {
   "cell_type": "code",
   "execution_count": 43,
   "id": "f7b4d1fd",
   "metadata": {},
   "outputs": [],
   "source": [
    "dictionary.filter_extremes(no_below=5, no_above=0.1, keep_n= None)"
   ]
  },
  {
   "cell_type": "code",
   "execution_count": 44,
   "id": "12d0ed31",
   "metadata": {},
   "outputs": [
    {
     "data": {
      "text/plain": [
       "8680"
      ]
     },
     "execution_count": 44,
     "metadata": {},
     "output_type": "execute_result"
    }
   ],
   "source": [
    "len(dictionary)"
   ]
  },
  {
   "cell_type": "code",
   "execution_count": 45,
   "id": "3e3f8a0d",
   "metadata": {},
   "outputs": [],
   "source": [
    "bow_corpus = [dictionary.doc2bow(doc) for doc in train_data_lemmatized]"
   ]
  },
  {
   "cell_type": "code",
   "execution_count": 46,
   "id": "bfc90d9d",
   "metadata": {},
   "outputs": [
    {
     "data": {
      "text/plain": [
       "4937"
      ]
     },
     "execution_count": 46,
     "metadata": {},
     "output_type": "execute_result"
    }
   ],
   "source": [
    "len(bow_corpus)"
   ]
  },
  {
   "cell_type": "code",
   "execution_count": 47,
   "id": "69649d46",
   "metadata": {},
   "outputs": [
    {
     "name": "stdout",
     "output_type": "stream",
     "text": [
      "Word 37 (\"parameter\") appears 1 time.\n",
      "Word 56 (\"condition\") appears 1 time.\n",
      "Word 78 (\"interaction\") appears 1 time.\n",
      "Word 81 (\"observation\") appears 2 time.\n",
      "Word 94 (\"suggest\") appears 1 time.\n",
      "Word 182 (\"review\") appears 2 time.\n",
      "Word 191 (\"water\") appears 1 time.\n"
     ]
    }
   ],
   "source": [
    "'''\n",
    "Preview BOW for our sample preprocessed document\n",
    "'''\n",
    "document_num = 5\n",
    "bow_doc_x = bow_corpus[document_num]\n",
    "\n",
    "for i in range(7):\n",
    "    print(\"Word {} (\\\"{}\\\") appears {} time.\".format(bow_doc_x[i][0], \n",
    "                                                     dictionary[bow_doc_x[i][0]], \n",
    "                                                     bow_doc_x[i][1]))"
   ]
  },
  {
   "cell_type": "markdown",
   "id": "84faf889",
   "metadata": {},
   "source": [
    "### Train the model on training data"
   ]
  },
  {
   "cell_type": "code",
   "execution_count": 64,
   "id": "d23bea2a",
   "metadata": {},
   "outputs": [],
   "source": [
    "lda_model =  gensim.models.LdaMulticore(bow_corpus, \n",
    "                                   num_topics = 8, \n",
    "                                   id2word = dictionary,\n",
    "                                   random_state=42,\n",
    "                                   passes = 10,\n",
    "                                   workers = 2)"
   ]
  },
  {
   "cell_type": "code",
   "execution_count": 65,
   "id": "3d8fdf89",
   "metadata": {},
   "outputs": [
    {
     "name": "stdout",
     "output_type": "stream",
     "text": [
      "Topic: 0 \n",
      "Words: 0.008*\"covid\" + 0.007*\"risk\" + 0.006*\"outcome\" + 0.006*\"score\" + 0.006*\"woman\" + 0.005*\"symptom\" + 0.005*\"month\" + 0.005*\"day\" + 0.005*\"rate\" + 0.005*\"mortality\"\n",
      "\n",
      "\n",
      "Topic: 1 \n",
      "Words: 0.005*\"stress\" + 0.005*\"performance\" + 0.004*\"network\" + 0.004*\"exposure\" + 0.004*\"difference\" + 0.004*\"impact\" + 0.003*\"condition\" + 0.003*\"activity\" + 0.003*\"area\" + 0.003*\"temperature\"\n",
      "\n",
      "\n",
      "Topic: 2 \n",
      "Words: 0.012*\"child\" + 0.006*\"intervention\" + 0.005*\"rate\" + 0.005*\"score\" + 0.004*\"participant\" + 0.004*\"student\" + 0.003*\"mother\" + 0.003*\"pain\" + 0.003*\"month\" + 0.003*\"number\"\n",
      "\n",
      "\n",
      "Topic: 3 \n",
      "Words: 0.004*\"design\" + 0.004*\"product\" + 0.004*\"region\" + 0.004*\"technology\" + 0.004*\"application\" + 0.003*\"information\" + 0.003*\"system\" + 0.003*\"quality\" + 0.003*\"efficiency\" + 0.003*\"property\"\n",
      "\n",
      "\n",
      "Topic: 4 \n",
      "Words: 0.006*\"protein\" + 0.005*\"specie\" + 0.004*\"population\" + 0.004*\"concentration\" + 0.004*\"sample\" + 0.004*\"structure\" + 0.003*\"activity\" + 0.003*\"sequence\" + 0.003*\"age\" + 0.003*\"community\"\n",
      "\n",
      "\n",
      "Topic: 5 \n",
      "Words: 0.007*\"intervention\" + 0.006*\"covid\" + 0.005*\"service\" + 0.005*\"experience\" + 0.005*\"care\" + 0.005*\"support\" + 0.005*\"participant\" + 0.005*\"community\" + 0.005*\"review\" + 0.004*\"impact\"\n",
      "\n",
      "\n",
      "Topic: 6 \n",
      "Words: 0.014*\"cell\" + 0.009*\"protein\" + 0.008*\"expression\" + 0.006*\"gene\" + 0.006*\"target\" + 0.006*\"human\" + 0.005*\"infection\" + 0.005*\"role\" + 0.005*\"response\" + 0.004*\"virus\"\n",
      "\n",
      "\n",
      "Topic: 7 \n",
      "Words: 0.010*\"tumor\" + 0.008*\"specie\" + 0.004*\"genus\" + 0.004*\"describe\" + 0.004*\"diagnosis\" + 0.004*\"feature\" + 0.004*\"new_specie\" + 0.004*\"gene\" + 0.004*\"sample\" + 0.004*\"image\"\n",
      "\n",
      "\n"
     ]
    }
   ],
   "source": [
    "for idx, topic in lda_model.print_topics(-1):\n",
    "    print(\"Topic: {} \\nWords: {}\".format(idx, topic ))\n",
    "    print(\"\\n\")"
   ]
  },
  {
   "cell_type": "markdown",
   "id": "22e4795c",
   "metadata": {},
   "source": [
    "### Using coherence model to evaluate the optimum number of topics extracted"
   ]
  },
  {
   "cell_type": "code",
   "execution_count": 66,
   "id": "455523fe",
   "metadata": {},
   "outputs": [],
   "source": [
    "#get the value of coherence\n",
    "coherence_model_lda = CoherenceModel(model=lda_model, texts=train_data_lemmatized, dictionary=dictionary, coherence='c_v')"
   ]
  },
  {
   "cell_type": "code",
   "execution_count": 67,
   "id": "3c02c2ae",
   "metadata": {},
   "outputs": [
    {
     "name": "stdout",
     "output_type": "stream",
     "text": [
      "Coherence value:  0.3720903985533456\n"
     ]
    }
   ],
   "source": [
    "print('Coherence value: ',coherence_model_lda.get_coherence())"
   ]
  },
  {
   "cell_type": "markdown",
   "id": "032ece73",
   "metadata": {},
   "source": [
    "### Test The Model on unseen document"
   ]
  },
  {
   "cell_type": "code",
   "execution_count": 68,
   "id": "1fb16c7e",
   "metadata": {},
   "outputs": [
    {
     "data": {
      "text/plain": [
       "'the objective of this study were to identify the fatty acid composition for decanoic c tridecanoic c myristic c pentadecanoic c palmitic c stearic c oleic cnc linoleic cnc arachidic c arachidonic cn heneicosanoic c erucic cn and cisdocosahexaenoic cn acids by neocallimastix orpinomyces caecomyces and piromyces species of rumen fungus during in vitro culture fatty acid fa profi le of anaerobic fungi comprises carbon chains of length ranging from to were analyzed as methyl esters analysis of fatty acids was performed using gas chromatographymass spectrophotometer gcms fa measures are presented as proportions of relative amounts total fatty acid the highest amounts of fatty acids for all samples were found as myristic c acid the tridecanoic c acid represented the second abundant fa in the fungi in all experimental groups stearic acid c was the third major fatty acid for isolates investigated in the current study in addition another fatty acid was palmitic c acid with relative amount representing of total fa in all samples pentadecanoic c acid could not be found in any other samples except orpinomyces sp gmlf it is concluded that biohydrogenation of fatty acid composition by anaerobic gut fungi are very variable'"
      ]
     },
     "execution_count": 68,
     "metadata": {},
     "output_type": "execute_result"
    }
   ],
   "source": [
    "test_data.iloc[1]['Abstract']"
   ]
  },
  {
   "cell_type": "code",
   "execution_count": 92,
   "id": "8d027639",
   "metadata": {},
   "outputs": [
    {
     "data": {
      "text/plain": [
       "'microcatheters for antegrade recanalization of chronic total coronary occlusions feasibility and safety of the corsair a retrospective registrybased single operator experience'"
      ]
     },
     "execution_count": 92,
     "metadata": {},
     "output_type": "execute_result"
    }
   ],
   "source": [
    "test_data.iloc[0]['Title']"
   ]
  },
  {
   "cell_type": "markdown",
   "id": "f780cfb1",
   "metadata": {},
   "source": [
    "##### Top  most relevant topic names with their praobability score"
   ]
  },
  {
   "cell_type": "code",
   "execution_count": 91,
   "id": "207f610c",
   "metadata": {},
   "outputs": [
    {
     "name": "stdout",
     "output_type": "stream",
     "text": [
      "Score: 0.3383961617946625 Topic: 0.012*\"child\" + 0.006*\"intervention\" + 0.005*\"rate\" + 0.005*\"score\" + 0.004*\"participant\" + 0.004*\"student\" + 0.003*\"mother\" + 0.003*\"pain\" + 0.003*\"month\" + 0.003*\"number\"\n",
      "\n",
      "Score: 0.2990000545978546 Topic: 0.008*\"covid\" + 0.007*\"risk\" + 0.006*\"outcome\" + 0.006*\"score\" + 0.006*\"woman\" + 0.005*\"symptom\" + 0.005*\"month\" + 0.005*\"day\" + 0.005*\"rate\" + 0.005*\"mortality\"\n",
      "\n",
      "Score: 0.2273796945810318 Topic: 0.005*\"stress\" + 0.005*\"performance\" + 0.004*\"network\" + 0.004*\"exposure\" + 0.004*\"difference\" + 0.004*\"impact\" + 0.003*\"condition\" + 0.003*\"activity\" + 0.003*\"area\" + 0.003*\"temperature\"\n",
      "\n"
     ]
    }
   ],
   "source": [
    "# Data preprocessing step for the unseen document\n",
    "bow_vector = dictionary.doc2bow(test_data_lemmatized[0])\n",
    "\n",
    "for index, score in sorted(lda_model[bow_vector], key=lambda tup: -1*tup[1])[:3]:\n",
    "    print(\"Score: {} Topic: {}\".format(score, lda_model.print_topic(index)))\n",
    "    print('')"
   ]
  },
  {
   "cell_type": "code",
   "execution_count": 93,
   "id": "dc5d1ead",
   "metadata": {},
   "outputs": [
    {
     "data": {
      "text/html": [
       "\n",
       "<link rel=\"stylesheet\" type=\"text/css\" href=\"https://cdn.jsdelivr.net/gh/bmabey/pyLDAvis@3.2.2/pyLDAvis/js/ldavis.v1.0.0.css\">\n",
       "\n",
       "\n",
       "<div id=\"ldavis_el86991400546246450085284123592\"></div>\n",
       "<script type=\"text/javascript\">\n",
       "\n",
       "var ldavis_el86991400546246450085284123592_data = {\"mdsDat\": {\"x\": [0.10662182322638494, -0.16905294010515853, 0.12558058989857024, -0.09543033962271887, -0.09384199723810119, 0.1169124994767185, 0.0029904549940635637, 0.00621990937024139], \"y\": [-0.1203403032916037, -0.015401686185368373, 0.0727449674644067, 0.027233351455650402, -0.08971251179150953, -0.04710185678320906, 0.09125101057646452, 0.08132702855516873], \"topics\": [1, 2, 3, 4, 5, 6, 7, 8], \"cluster\": [1, 1, 1, 1, 1, 1, 1, 1], \"Freq\": [17.3113533707446, 16.33004298686676, 15.040281734441862, 13.344944671606578, 11.164707373753398, 9.604167123844027, 8.810239186944099, 8.394263551798668]}, \"tinfo\": {\"Term\": [\"cell\", \"tumor\", \"protein\", \"child\", \"specie\", \"expression\", \"intervention\", \"covid\", \"gene\", \"service\", \"score\", \"woman\", \"virus\", \"genus\", \"vaccination\", \"new_specie\", \"vaccine\", \"mortality\", \"community\", \"stress\", \"care\", \"participant\", \"infection\", \"lesion\", \"diagnosis\", \"mental_health\", \"month\", \"cancer\", \"ci\", \"practice\", \"inhospital_mortality\", \"pregnant_woman\", \"smoker\", \"lbw\", \"statin\", \"allergic_disease\", \"allcause_mortality\", \"cbt\", \"bacterial_infection\", \"hazard_ratio\", \"regimen\", \"antenatal\", \"mace\", \"diary\", \"icu_admission\", \"day_mortality\", \"neuromuscular\", \"hospitalized_patient\", \"hospitalize\", \"mood\", \"nausea\", \"inhospital\", \"puberty\", \"interval_ci\", \"smoking\", \"hospitalise\", \"multivariate_regression\", \"fatigue\", \"hr_confidence\", \"observational_studie\", \"placebo\", \"episode\", \"hospitalization\", \"ischemic\", \"median_age\", \"mortality\", \"patients_admitte\", \"selfreport\", \"rr_ci\", \"risk_factor\", \"consecutive_patient\", \"stroke\", \"admission\", \"malaria\", \"comorbiditie\", \"woman\", \"symptom\", \"ci\", \"pregnancy\", \"death\", \"discharge\", \"registry\", \"patients_receive\", \"risk\", \"severity\", \"incidence\", \"month\", \"depression\", \"outcome\", \"score\", \"total_patient\", \"covid\", \"severe\", \"day\", \"receive\", \"hospital\", \"prevalence\", \"baseline\", \"age\", \"association\", \"rate\", \"trial\", \"participant\", \"population\", \"cancer\", \"diagnosis\", \"infection\", \"overall\", \"therapy\", \"child\", \"cxcl\", \"immunity\", \"vascular_endothelial\", \"viral\", \"integrin\", \"hepatocyte\", \"inflammatory_response\", \"hbv\", \"neuronal\", \"cardiomyocyte\", \"mapk\", \"interstitial\", \"pathogen\", \"regenerative\", \"cell_signale\", \"chromatin\", \"helper\", \"synaptic\", \"monoclonal_antibodie\", \"astrocyte\", \"transcriptional\", \"apa\", \"skin_cancer\", \"overexpression\", \"neurological_disorder\", \"endothelial\", \"rna\", \"follicle\", \"chd\", \"superresolution\", \"transcriptome\", \"epitope\", \"expression\", \"stem_cell\", \"kinase\", \"cell\", \"peptide\", \"cleavage\", \"virus\", \"transcription\", \"intracellular\", \"immune\", \"receptor\", \"neuron\", \"antibody\", \"suppress\", \"cytokine\", \"inhibitor\", \"apoptosis\", \"mouse\", \"strain\", \"mrna\", \"immune_response\", \"protein\", \"inhibit\", \"induce\", \"activation\", \"lipid\", \"human\", \"gene\", \"signal\", \"regulate\", \"assay\", \"infection\", \"target\", \"activate\", \"role\", \"pathway\", \"drug\", \"bind\", \"interaction\", \"mechanism\", \"function\", \"response\", \"tissue\", \"lead\", \"covid\", \"activity\", \"sample\", \"therapy\", \"cause\", \"important\", \"stigma\", \"trust\", \"behavior_change\", \"organisational\", \"criminal\", \"focus_group\", \"decisionmaker\", \"indepth_interview\", \"staff\", \"healthcare_worker\", \"barriers_facilitator\", \"story\", \"vaccine_hesitancy\", \"lived_experience\", \"mixed_method\", \"ard\", \"confront\", \"immunization\", \"severe_case\", \"mangrove\", \"qualitative_data\", \"stereotype\", \"misconception\", \"thematic_analysis\", \"sick\", \"vaccinate\", \"subtheme\", \"io\", \"preparedness\", \"reflective\", \"vaccination\", \"workplace\", \"knowledge_attitude\", \"social_isolation\", \"mental_health\", \"attitude\", \"belief\", \"client\", \"conversation\", \"organizational\", \"housing\", \"violence\", \"qualitative\", \"perceive\", \"public\", \"cultural\", \"vaccine\", \"school\", \"theme\", \"programme\", \"service\", \"healthcare_professional\", \"interview\", \"pandemic\", \"policy\", \"social\", \"covid_pandemic\", \"respondent\", \"community\", \"experience\", \"intervention\", \"access\", \"care\", \"provider\", \"support\", \"practice\", \"review\", \"participant\", \"people\", \"covid\", \"impact\", \"address\", \"knowledge\", \"conduct\", \"work\", \"barrier\", \"concern\", \"information\", \"relate\", \"design\", \"strategy\", \"risk\", \"condition\", \"algal\", \"coral\", \"mitochondria\", \"adiposity\", \"aptamer\", \"wine\", \"glucose\", \"cyst\", \"algae\", \"colonisation\", \"sarcopenia\", \"chitosan\", \"predator\", \"fish\", \"nk_cell\", \"quercetin\", \"fermentation\", \"glycolysis\", \"printing\", \"gcs\", \"peel\", \"benthic\", \"singlemolecule\", \"homair\", \"oxidase\", \"starch\", \"patch\", \"excretion\", \"conformational_change\", \"linguistic\", \"ethanol\", \"diet\", \"intake\", \"crosslinking\", \"vertebrate\", \"residue\", \"ckd\", \"dietary\", \"habitat\", \"composition\", \"fruit\", \"nutrient\", \"genome\", \"mitochondrial\", \"concentration\", \"ion\", \"rat\", \"food\", \"acid\", \"density\", \"specie\", \"bone\", \"protein\", \"domain\", \"structure\", \"sequence\", \"content\", \"population\", \"substrate\", \"blood\", \"diversity\", \"sample\", \"extract\", \"activity\", \"parameter\", \"community\", \"range\", \"area\", \"adult\", \"age\", \"obtain\", \"application\", \"difference\", \"reveal\", \"characteristic\", \"consider\", \"influence\", \"value\", \"relationship\", \"new_specie\", \"malignant\", \"crc\", \"polyp\", \"benign\", \"multiplex\", \"adenocarcinoma\", \"colorectal_cancer\", \"squamous_cell\", \"rectal_cancer\", \"tumor\", \"species_belonge\", \"islet\", \"tumour\", \"nlrp\", \"neoplasm\", \"tumor_growth\", \"enhancer\", \"described_illustrate\", \"corporate\", \"wind\", \"adenoma\", \"cochlear\", \"borderline\", \"metastasis\", \"melanoma\", \"suppressor\", \"deep_learne\", \"ventral\", \"segmentation\", \"genus\", \"ct_image\", \"pet\", \"sp_nov\", \"convolutional_neural\", \"atypical\", \"colonoscopy\", \"glioma\", \"carcinoma\", \"biopsy\", \"larvae\", \"allele\", \"fusion\", \"specie\", \"dataset\", \"mutation\", \"lateral\", \"image\", \"polymorphism\", \"feature\", \"describe\", \"specimen\", \"breast\", \"chemotherapy\", \"genetic\", \"lesion\", \"diagnosis\", \"diagnostic\", \"detection\", \"cancer\", \"confirm\", \"rare\", \"tissue\", \"gene\", \"sample\", \"collect\", \"know\", \"imaging\", \"record\", \"multiple\", \"demonstrate\", \"large\", \"detect\", \"family\", \"establish\", \"region\", \"sentence\", \"hypotension\", \"pdt\", \"appointment\", \"comprehension\", \"neurotoxicity\", \"nonverbal\", \"ambiguous\", \"prosthesis\", \"skull\", \"therapist\", \"conceive\", \"periimplant\", \"migraine\", \"intubation\", \"profession\", \"carie\", \"positioning\", \"parity\", \"hypertensive\", \"traumatic\", \"sensitivity_ci\", \"patients_suffere\", \"digitally\", \"angiography\", \"prosthetic\", \"horizontal\", \"anesthetic\", \"hip_fracture\", \"aspiration\", \"teach\", \"implant\", \"airborne\", \"dyad\", \"children\", \"mother\", \"infant\", \"child\", \"comfort\", \"girl\", \"student\", \"breastfeed\", \"dementia\", \"vertical\", \"dental\", \"register\", \"device\", \"fixation\", \"tooth\", \"digital\", \"blood_pressure\", \"pain\", \"mapping\", \"intervention\", \"subject\", \"cluster\", \"score\", \"birth\", \"rate\", \"rehabilitation\", \"week\", \"point\", \"participant\", \"month\", \"practice\", \"medical\", \"size\", \"mean\", \"number\", \"age\", \"assessment\", \"period\", \"outcome\", \"trial\", \"difference\", \"index\", \"decrease\", \"diagnosis\", \"early\", \"care\", \"gyrus\", \"prom\", \"trainee\", \"enterprise\", \"humidity\", \"coach\", \"costly\", \"alloy\", \"quantum\", \"arsenic\", \"schizophrenia\", \"adsorbent\", \"asv\", \"dermatology\", \"tax\", \"treadmill\", \"eeg_signal\", \"football\", \"macromolecular\", \"historic\", \"spring\", \"brain_region\", \"insula\", \"rice\", \"angular\", \"watershed\", \"able_predict\", \"paper_provide\", \"meteorological\", \"hcws\", \"microplastic\", \"adsorption\", \"execution\", \"query\", \"sport\", \"flap\", \"air_quality\", \"road\", \"comment\", \"speech\", \"big_data\", \"pollutant\", \"player\", \"temperature\", \"resilience\", \"edge\", \"stress\", \"overlap\", \"bead\", \"insomnia\", \"discrimination\", \"athlete\", \"sensorimotor\", \"participation\", \"academic\", \"performance\", \"network\", \"exposure\", \"brain\", \"groundwater\", \"estimation\", \"cost\", \"task\", \"source\", \"peak\", \"tool\", \"difference\", \"simulate\", \"area\", \"impact\", \"condition\", \"activity\", \"work\", \"lesion\", \"decrease\", \"index\", \"evaluation\", \"rate\", \"region\", \"apply\", \"response\", \"environment\", \"large\", \"propose\", \"function\", \"number\", \"environmental\", \"questionnaire\", \"sample\", \"detector\", \"tinnitus\", \"manure\", \"marketing\", \"encapsulation\", \"imatinib\", \"hygiene\", \"racial_disparitie\", \"pk\", \"cl\", \"m\", \"knowledgebase\", \"contraception\", \"original_article\", \"pain_score\", \"nanotechnology\", \"expenditure\", \"reuse\", \"disinfection\", \"quench\", \"silver\", \"infuse\", \"pcp\", \"polyphenol\", \"spheroid\", \"ami\", \"stride\", \"pro\", \"electrostatic\", \"anaerobic_digestion\", \"byproduct\", \"nutraceutical\", \"olive\", \"glass\", \"stabilization\", \"powder\", \"sludge\", \"synthesize\", \"economy\", \"carbon_dioxide\", \"product\", \"efficiency\", \"walk\", \"hybrid\", \"polymer\", \"appropriateness\", \"energy\", \"technology\", \"nanoparticle\", \"system\", \"wastewater\", \"contact\", \"regional\", \"sector\", \"economic\", \"region\", \"design\", \"conference\", \"property\", \"water\", \"application\", \"testing\", \"information\", \"cost\", \"quality\", \"material\", \"fracture\", \"network\", \"chemical\", \"reduction\", \"solution\", \"structure\", \"decrease\", \"problem\", \"gene\", \"technique\", \"outcome\", \"number\", \"require\", \"activity\", \"difference\", \"population\", \"characteristic\"], \"Freq\": [902.0, 398.0, 807.0, 605.0, 633.0, 467.0, 723.0, 1017.0, 621.0, 403.0, 659.0, 459.0, 281.0, 175.0, 215.0, 154.0, 264.0, 304.0, 455.0, 305.0, 507.0, 762.0, 531.0, 345.0, 454.0, 199.0, 513.0, 479.0, 344.0, 383.0, 53.20202939408393, 71.59670305468416, 30.832797460158403, 23.54234866656423, 30.469847019292008, 25.896567682253476, 32.667902306346555, 21.607037342924386, 22.675642809130498, 29.862247745436406, 66.98855659542326, 32.309270002643935, 16.55762164823351, 20.298433216942144, 19.47159838179034, 15.9700546598448, 25.84330509549068, 18.005392260467378, 40.21489149535893, 20.460279934440766, 17.860586166946213, 17.386291858532207, 14.890737276872283, 15.304075439612298, 27.173264645568437, 15.84767518209579, 15.42431920809947, 92.0708000269353, 14.691477271265706, 16.90375671570866, 51.38898909420715, 33.759666869860716, 57.43945343299277, 26.36252271340915, 24.359142331139676, 262.8949981040578, 31.462317787359336, 38.80895075124558, 45.08242318151571, 182.60415634900534, 40.34172592914631, 116.36042168455644, 123.67920366485004, 64.31711801343673, 63.91166028416831, 318.89978216631977, 292.03058412133686, 237.36350155522678, 98.43456624034104, 189.16255909117035, 58.24871371685166, 69.09856393111284, 74.64044915374052, 419.3169606848818, 136.45183960163496, 152.1336719539805, 288.5140587326241, 120.30036478261137, 343.9035983492823, 331.24068447582425, 73.87014554163585, 445.13952770973543, 167.60143949737545, 272.1681409334931, 187.69973172864053, 159.97035008208678, 181.70908059736922, 150.2144301740131, 248.27940525250173, 204.64666481041837, 267.6230579642794, 158.96523191073453, 250.34479628689323, 229.84956914113278, 182.3964986678403, 166.17840306803026, 175.23264904631012, 153.34048116874754, 148.3004342299201, 151.60887479561546, 32.24594767901673, 49.973532403868134, 24.302511061310227, 123.64625435216563, 36.00210137988099, 22.15693348244302, 23.421484956039677, 15.502013165059816, 50.30544824452011, 17.862004014023555, 16.945202228239637, 15.151524819785864, 84.34487029359262, 21.056846259097235, 17.35011902964349, 29.12342173032963, 20.1086034265058, 15.214240075647524, 14.558004233945764, 13.497984828410308, 41.02779594753274, 15.29379964883668, 12.303598860728542, 47.673503987835225, 12.796711449970774, 19.750594790801014, 121.41480884430207, 12.628906509799544, 40.7850123896556, 12.20126436026141, 31.1143375639278, 35.61212600105142, 411.7225351805896, 55.779898594188936, 43.762587809473466, 768.563533259202, 129.38464202768782, 31.030581863846933, 240.3305518327842, 61.131002330110675, 38.965794639464455, 131.0977572624911, 164.36772359295693, 57.264351670392024, 103.47845972385313, 56.08948650682671, 72.94138393451586, 151.1161471087072, 65.80733234641221, 141.04500186509733, 151.07351219301225, 50.34705380275549, 55.048280418896894, 498.2522749179124, 120.85589607470165, 216.45154896479264, 128.1999932464335, 98.37971540327635, 309.4720453919921, 348.56191695385996, 164.70790891998888, 116.46623738906365, 184.76418667563385, 271.40304459943405, 311.3418118335764, 82.35720307436222, 262.02646066257216, 160.31189151242947, 197.74571264691568, 105.64059516277317, 207.97582593856117, 195.26553408393164, 230.0642756711222, 248.2234759597421, 173.85944446694657, 209.7749413134106, 219.78742262547212, 178.13958203719338, 174.87439721783446, 153.9551842355736, 146.2489421110059, 136.57699868877594, 66.25047712992443, 64.22837111165059, 18.835931650622676, 18.836017178781496, 23.13104561477788, 24.035036214257698, 17.40578196548104, 18.448333980771096, 104.05445099432313, 67.83826245992333, 15.418526497482278, 18.353909443802237, 12.673598814930108, 15.621445678361052, 14.839102214062141, 17.650463531571535, 13.646123562962618, 15.748018655638159, 10.677049045401095, 18.16360059264531, 13.92971609242751, 11.762071590065316, 11.604891853783466, 11.17187945641252, 9.515605641199963, 70.34005678102265, 10.050828537252153, 10.4496492410969, 9.486481853491398, 9.46671542620984, 193.8005918771204, 27.561382497289657, 37.657039386802815, 34.90688868804328, 178.11268647046555, 76.94773039080987, 27.603213015102472, 27.464460248157245, 20.00461305646781, 51.76236653373822, 37.72349621583701, 48.917670978735565, 69.38457098178318, 107.8832828321407, 125.25388373174985, 39.35820606280294, 190.98702277340956, 75.28692430799467, 52.81295384706808, 84.53912279002654, 271.028611091057, 53.98075822687784, 119.57081300771846, 188.95036247183793, 149.9917700603861, 202.19494582543126, 123.23814448760388, 94.37208936231292, 255.54663429676754, 269.6606940136816, 365.2744029057568, 153.92025524989913, 260.73169339716827, 82.92072707694838, 256.9032558586592, 192.47874983364315, 253.63300697647568, 256.61165992301034, 158.466155171277, 296.06629246155046, 222.29259032462, 136.5446212355878, 140.3687794668962, 167.77259300229989, 159.77231801872352, 110.78204378055709, 117.42947783678768, 155.89112555214942, 159.97560250631454, 142.75807091765947, 136.56585541305253, 143.3101943228578, 134.59213223933511, 39.597173393214604, 39.77955278853383, 43.644613531581186, 31.12789018923565, 26.64258464026678, 25.883630447840794, 70.67361189499127, 21.49983914768481, 25.807645249892513, 16.538164956673103, 27.4600544836417, 16.78045170150209, 18.597637015872138, 111.1203233649623, 15.286404129960744, 16.452656527537723, 32.28310546541656, 18.549803487425756, 21.45158630895115, 22.554193578813376, 21.13395490765567, 12.783246479024672, 11.7359637287533, 11.730659324996466, 18.919965721367415, 13.354430695106975, 30.528968469027227, 18.022061617824313, 10.67410801665726, 9.54084865030398, 35.480871186871944, 95.32099985543255, 74.21082087004775, 29.450363497541886, 27.77436741701947, 39.177896547862986, 36.00227967041649, 63.726834054289824, 70.88469732402655, 80.18497891617052, 75.5579850769385, 51.97691089440827, 96.0944652707452, 92.74511759421154, 182.01624688588257, 40.45661799706491, 88.33076294728788, 108.12452371690787, 84.14097854244184, 69.92169851395347, 239.2346392694755, 84.15640813203132, 258.304521280823, 102.26120764414809, 174.05764502497, 135.0968560250534, 104.18971598110639, 187.36314761170888, 64.83864942950976, 84.57181343147894, 68.99538806778921, 176.75347575290954, 94.78967455497113, 143.87168780566932, 100.50925209023488, 115.0183141140675, 110.66085189851441, 112.71533853846964, 102.85736911933658, 116.78597193787967, 101.73633406270807, 102.22075834993254, 108.99853099275985, 101.90877091655291, 101.09095636410747, 101.37566547671238, 96.24895667327692, 94.7144044997214, 93.49915582369896, 151.29998872489892, 61.06167839658049, 41.69765901391428, 33.63466290083047, 49.15932112343567, 25.50068790948845, 30.832049625382563, 32.5409812610493, 21.256910708993896, 18.52910934340449, 378.16027758149266, 16.055681599628628, 17.943387249571742, 81.42547122091027, 16.157346252483716, 15.780907468809339, 14.42832724992119, 32.850746601455036, 14.681440770666807, 13.33133771032551, 33.385401781300196, 25.5159963619157, 13.558672425620044, 14.417746059655682, 54.84978689362481, 14.129381991699907, 12.315462738107405, 12.67837184566989, 19.82178364730425, 35.8268083231305, 160.96444524063853, 22.438814488785976, 26.15029960247138, 26.613754229575, 25.110463340347646, 30.574771637401362, 29.166854580496995, 47.98952980958771, 74.31256118252982, 69.83790893154561, 28.870267034863094, 30.709250570329306, 57.724366897698424, 314.1913404880711, 116.80215336427047, 91.36180826219874, 63.323791172797264, 141.01457678555204, 40.62828839319936, 152.95256984602855, 155.11728358905998, 67.8001694717003, 50.76808387096501, 80.93744300884751, 104.7360711916528, 133.35935196066418, 153.81972598998834, 78.6106529358019, 99.78184879384402, 140.60073850348675, 113.19299147035183, 66.88101236787165, 110.79381929804666, 142.14186255526417, 141.1419685915514, 98.89950687168562, 91.94228549471204, 74.4574286856625, 81.42684000704041, 84.79288310157884, 87.60939730409375, 81.75555528750265, 78.17908069506932, 76.45887809562336, 76.88231509803526, 77.07287767524855, 40.17531992967877, 30.115521042758004, 23.299728597783762, 42.45994613637293, 15.147233040853564, 13.17372508215065, 14.25404817751423, 16.68736727731092, 47.89452785259705, 11.957943539667484, 11.914038540508834, 18.86087301364871, 14.543028789939818, 13.034103852378388, 16.70997608396179, 26.876594732276434, 20.35482970671519, 15.798796002750983, 11.74040135028785, 9.401539556397713, 15.264694418741806, 8.405074731723174, 7.923123178023946, 7.928912380316549, 18.55216060779985, 30.161503267683297, 14.672859103074908, 19.41157481587235, 7.6542784183118, 22.959143180527974, 15.645881083480148, 98.48698319049569, 14.413540052699512, 23.809983741073435, 42.79490527100408, 111.0180531287313, 75.9420928875449, 367.8412112179894, 24.417901819873002, 21.665696166098574, 125.79704421301085, 30.377336651909086, 67.50714924146685, 30.568093366786197, 73.3663181260252, 68.56564572972181, 67.44734291244214, 34.59174447437432, 58.105532853634806, 61.29491862553378, 41.73941539116715, 105.00122243821254, 37.828406571743045, 176.4867588899692, 97.13252090905084, 63.42091661641889, 147.53279398497762, 52.2780740608154, 154.92976161552576, 51.875577318370304, 88.94498558966751, 73.63556509366767, 129.3619487114266, 104.5287405902142, 90.2406486818533, 77.20126197410492, 72.9509914597273, 93.79837730943882, 102.85311180511992, 100.92973404311607, 79.95320473477877, 79.53423459226984, 94.0513100939657, 75.76545094026575, 86.67252281727536, 79.78410152486305, 82.27989013484783, 73.95004448549076, 71.47217703898292, 71.70473745957382, 21.424011249135976, 28.640164870480323, 19.761001961882968, 22.01989644495698, 14.243535877714127, 24.24535445694978, 15.316936949901724, 10.92617022987201, 14.247922631310368, 16.288552771108492, 19.191095925861298, 11.197298095869607, 9.939174447160187, 11.310080800552505, 39.748647764619776, 14.09286880893083, 7.771702082877973, 11.015522099870228, 7.707026763306922, 7.6822975650433305, 22.850791392671347, 6.649660353945073, 6.193610359142433, 28.213664747608686, 8.4646401685122, 6.169450946334335, 6.703004500463814, 6.574316205070273, 8.37464208877981, 5.666927772245623, 9.053098622762802, 52.54628044595545, 13.266462513850943, 47.14813813556588, 43.31719624004128, 26.720021851814707, 13.062880972826814, 28.076907746703824, 22.33844642503426, 26.481460918438675, 17.370187285585896, 35.78375618669383, 26.51392934865661, 89.11368439296628, 40.84293813964661, 28.35398651653465, 153.1065249654999, 38.69112935585922, 19.306736049408183, 20.00214773419569, 48.36350155119511, 29.62370118084389, 26.129136502136685, 51.84973258689157, 37.87717342493498, 131.45568306060665, 116.43221873747129, 110.52334486088343, 86.29664472120082, 34.473823670308484, 41.22111604026745, 80.44386286852958, 67.75149529033062, 78.09981135919824, 43.04520053390133, 85.31780935313473, 108.35219563963804, 36.30075794037849, 91.6768460075909, 102.61175407999201, 97.02726560173798, 94.67275245781398, 78.52369777173901, 69.25129288803431, 82.58562440714648, 74.26471877618265, 66.5714297015478, 84.65355669592377, 73.31792046573928, 68.0307122416472, 76.73144314101675, 61.9273131010588, 66.58594012459321, 64.2799988555637, 65.00842073378912, 64.22810507202257, 56.35222311076513, 57.012328477119716, 57.74634800917913, 41.91693832454864, 39.39405169374454, 15.687503815667927, 16.62071406840019, 19.755221936037596, 17.717028711392054, 13.841112538388815, 11.38907011939597, 15.779185512206736, 20.18067879465926, 10.90365907204334, 9.534650484091172, 8.720314622974131, 8.6047703454004, 9.428759977349092, 9.804868688291767, 28.437034744870207, 7.458162566099696, 8.174462329394675, 7.031890978411026, 13.181965169625167, 6.698991629848552, 6.889672616815444, 29.775213078773522, 18.325551226947685, 7.835109469011998, 6.202334975081026, 10.449113068560695, 9.128741459618308, 9.51101363236081, 14.563710068374506, 12.82166236439546, 11.912281521008202, 9.822427839176726, 15.111508973806206, 14.562499706225315, 13.284553879622026, 37.24013781522278, 25.991645272369876, 16.722256656566234, 117.01166368519219, 73.46845170887083, 33.99541903049792, 42.59977351617594, 40.0129253946857, 20.913146925059483, 64.31342775298482, 100.50929487949975, 56.13293303041878, 87.97417604513802, 21.532242309977164, 56.00471878542771, 38.68973742836274, 36.86285110475522, 51.810454713350154, 116.77101521082356, 125.02110252070568, 27.554829606181602, 71.68556237301266, 68.50126784413686, 97.3387156308065, 59.90395546550869, 97.23882515461148, 65.89999893725413, 77.6849262500123, 60.647454396404946, 39.78035463134484, 70.96498912517755, 52.411147091954, 58.19991442751922, 50.659222315035564, 66.22887439801646, 70.71582280809056, 52.109417400462824, 69.74307351910765, 59.13494831413134, 67.44377378713597, 60.99948855112346, 58.38522928684272, 59.89533406239252, 56.94907958036596, 56.75786177836833, 54.562426652856935], \"Total\": [902.0, 398.0, 807.0, 605.0, 633.0, 467.0, 723.0, 1017.0, 621.0, 403.0, 659.0, 459.0, 281.0, 175.0, 215.0, 154.0, 264.0, 304.0, 455.0, 305.0, 507.0, 762.0, 531.0, 345.0, 454.0, 199.0, 513.0, 479.0, 344.0, 383.0, 54.490264603340314, 73.6353914111255, 31.779387368374444, 24.416404803557825, 31.65862903343292, 26.907432853570754, 33.9609915947902, 22.476507673019267, 23.638863828024984, 31.144969909101473, 70.04970239967673, 33.930413571661504, 17.429858398318334, 21.377732291966705, 20.522760111798203, 16.83781362706776, 27.29108610293982, 19.036433871344492, 42.52403161465068, 21.649394122644186, 18.914030854303554, 18.417151328230336, 15.790087951387825, 16.231613661169185, 28.835594446216483, 16.823799817519287, 16.37750884173529, 97.83284869454594, 15.63048006110779, 17.997965041572183, 55.1773802869489, 36.17366090983044, 62.710108641358296, 28.324297956398656, 26.14426218506851, 304.82749078455674, 34.15601616017628, 42.50713660296377, 49.97469129104858, 219.03588161304305, 44.62999815656996, 138.3869799694527, 153.3851708319964, 75.46250477040877, 75.95469526384872, 459.1779524425436, 422.1883366761082, 344.27777416834243, 127.00188560484101, 272.4385436502636, 69.62344158934101, 85.04181519089906, 93.87487602994707, 761.1805120687957, 195.1042935649711, 224.8423756463138, 513.5301747886158, 174.5656143263028, 671.4748157487547, 659.4893405945047, 96.87457987022512, 1017.405958631206, 291.96130075577025, 573.0012084381975, 347.11159825059366, 295.0886194965577, 358.5153996812914, 271.64032318072867, 596.39405729358, 457.85731305118713, 739.4444136426126, 325.63200492093017, 762.3171627175894, 709.6351986936858, 479.2877862371381, 454.5547448976706, 531.1512464670714, 396.35321963862367, 467.40628251592204, 605.1715601808152, 33.24764289499068, 51.72787356577911, 25.22457981696118, 128.6472003454425, 37.46464567021321, 23.134843836817286, 24.4932626301828, 16.375912765127893, 53.21519295968985, 18.906332451061967, 17.93732455992786, 16.095441248222503, 89.80666483932993, 22.42826358183452, 18.482748553121873, 31.02535119139574, 21.442204204626766, 16.2245835869586, 15.526858409606929, 14.40658566214206, 43.8323497079793, 16.3472803741978, 13.15414287388734, 51.012849380766994, 13.71603866536709, 21.171246726327826, 130.25655660546184, 13.570207244132597, 43.836696475761514, 13.135271592603832, 33.607021967995486, 38.631888189965196, 467.5334222919789, 61.00304080464927, 47.82158179001895, 902.8407207071957, 145.0301711918972, 33.7997341787788, 281.08671935098425, 68.67513452380254, 43.04396225008445, 154.56061953919004, 196.60916241012185, 64.63599755621553, 122.33224449947146, 63.77894107506262, 84.85362006493656, 188.39728850240596, 76.14174301154382, 177.2436862732517, 192.5903616869926, 57.10453211736825, 63.6286326878579, 807.8962470775474, 158.14530294695805, 312.70670169018285, 171.82193861943517, 128.57681644110207, 532.7382342543916, 621.4554400233052, 250.10269967001426, 162.42233111675753, 310.97272920922217, 531.1512464670714, 644.4556396370308, 105.81081217333995, 558.6653801978376, 275.31786002246076, 383.28587557910095, 152.848195322973, 420.10788626286956, 420.5098426948196, 559.6726290888296, 657.7583425759658, 360.35282685462965, 588.9272353378909, 1017.405958631206, 652.1863913156251, 785.5562888129457, 467.40628251592204, 491.14443034145717, 546.7013608586973, 68.20324896512166, 66.37808874319617, 19.757097706865963, 19.76181281350354, 24.278071738616227, 25.37457778509051, 18.377621239680927, 19.573598280730394, 110.50737693642105, 72.07210777286954, 16.40439985680738, 19.56396770223051, 13.554057894468231, 16.736080163551318, 15.93165798715622, 18.995656303012442, 14.70015981579228, 16.966652419986175, 11.539830837408175, 19.642486470051374, 15.130692158483571, 12.777127170168702, 12.619638184579943, 12.1583225386664, 10.359330314994587, 76.63857445825617, 10.95955702818203, 11.397591889259228, 10.36295171382162, 10.350376402126837, 215.5049028045914, 30.216684066361502, 41.43771478035256, 38.50400770404581, 199.89733298443707, 86.39876154758002, 30.394413607668557, 30.834706064302388, 22.200041702004746, 60.5288169949461, 43.33465139766732, 57.825803712604696, 84.49387156032039, 137.41252304647168, 163.02006178713327, 45.976542297782, 264.5898056036931, 94.12821602607364, 63.630843154947435, 108.00769382329638, 403.148756956227, 66.31778401491202, 164.33029897746238, 282.405258688223, 219.92257680113136, 325.79140219138026, 182.9935999545897, 134.1650055719085, 455.0645895590425, 488.7291661489527, 723.545713127103, 249.02983690231727, 507.81057056350926, 115.2458701506478, 552.8493292931612, 383.8132547406231, 635.37408936111, 762.3171627175894, 341.39853395315976, 1017.405958631206, 636.6374940830864, 277.96529438706455, 297.60282911854995, 492.81340237635294, 454.3177391595062, 207.80090869167748, 243.07036819955542, 545.5918626953004, 601.3406917117446, 559.1662301597946, 537.9576051831682, 761.1805120687957, 581.9370883164822, 40.496618144433725, 40.74664810107154, 44.846097818934304, 32.07193361238115, 27.592723272714778, 26.891031621498, 73.56698694234105, 22.406393177547994, 27.12807533578266, 17.389960473751707, 28.895069227283642, 17.66146538129655, 19.57683101598455, 117.00674972448769, 16.158075226562588, 17.391897391216443, 34.220068963197555, 19.688356687660356, 22.820497483865804, 24.014885029121906, 22.54923754995108, 13.72846744640938, 12.637551097564359, 12.633862014175962, 20.524832360561145, 14.537902681419117, 33.35337367456399, 19.697622567975518, 11.673162194987158, 10.441511020305029, 38.90535498303094, 108.26060727456225, 84.07060114695736, 32.824789909976005, 31.054403059983954, 46.280899741857816, 42.25801150382701, 83.89355234755139, 95.56363989089985, 111.32784174176065, 104.43608186866017, 67.14299687146105, 142.4819747095266, 138.22466307628704, 335.1185700574182, 51.63807814131711, 143.68528195837445, 193.58186164186367, 139.2145973866073, 109.42216199252175, 633.4198038557901, 150.65163435361492, 807.8962470775474, 202.6572039557042, 452.1779757682399, 377.88261680368294, 256.7834484549678, 709.6351986936858, 116.49303075926865, 192.81156326134447, 132.7565551954503, 785.5562888129457, 255.92718191006907, 652.1863913156251, 317.5992804479982, 455.0645895590425, 421.5914821461319, 444.9458456404741, 386.70605064211895, 596.39405729358, 415.194096439899, 425.2184024020846, 589.0184236738302, 431.0121669211445, 448.79521121980633, 524.227689278076, 374.47185879436546, 437.9114162051075, 388.90006965094915, 154.0555043930956, 62.84090022575593, 42.95186887837479, 34.76368104448356, 50.904871782108636, 26.50564790186453, 32.275959452770024, 34.09179859364635, 22.279781677218796, 19.47433996886237, 398.3560148805754, 16.92279956850681, 18.96697380006034, 86.1454678906293, 17.154865793652224, 16.80124561360931, 15.369777329339144, 35.00655408245206, 15.645324014444634, 14.215692075108608, 35.640504186057264, 27.249166922212808, 14.483649129118426, 15.403424674675676, 58.63259067141447, 15.133068792540628, 13.191688435303547, 13.598110275633054, 21.272136965121877, 38.45081293041971, 175.392170853202, 24.093976518000552, 28.23453932244592, 28.78613791570786, 27.37426085526463, 33.660191167639105, 32.4184765009298, 55.111688262773875, 92.97362048010764, 87.78548955764576, 33.33730860054545, 35.85955184176511, 77.66452344523204, 633.4198038557901, 188.43189924908498, 142.94690207702388, 90.77899934749898, 271.60326294370265, 52.2530684822299, 325.7827944344967, 333.8191016078664, 106.5067612644336, 71.87863726651645, 141.83072907120112, 230.91774875359113, 345.01936028754415, 454.5547448976706, 160.23870486990378, 246.02990773749397, 479.2877862371381, 360.32236552533703, 130.87871061655778, 360.35282685462965, 621.4554400233052, 785.5562888129457, 342.47841579593415, 319.23073511093963, 186.20442699557708, 287.320646872866, 382.663775998122, 457.76928742396154, 431.19359725761325, 384.76659449190777, 291.0607193427139, 328.466243124767, 471.1728838670613, 41.21040057486137, 30.998747078603103, 24.495514622084226, 44.95475670021055, 16.1006229386569, 14.05645634525049, 15.223797369957007, 17.932370271224247, 51.623738524249944, 12.921693086293029, 12.905311634372952, 20.43911659583032, 15.779927356127846, 14.149550782926944, 18.227342863432185, 29.343174041952555, 22.273235319791986, 17.330984814922978, 12.94075486357217, 10.372026431550228, 16.99622865735986, 9.362638294295065, 8.840445746223962, 8.855404190061215, 20.728157094347644, 33.729265881426954, 16.463354709705662, 21.785728435553935, 8.591048336532435, 25.89385559612027, 17.670838379938875, 115.44770132172991, 16.265717918165798, 27.278750894504444, 52.14987839282266, 145.56737738527852, 100.50154491816261, 605.1715601808152, 29.211549309379233, 25.506960290743926, 195.9873924287226, 38.269466204468294, 105.54516331064903, 40.05940368616937, 121.0074247733109, 119.06940045736272, 133.48623184818805, 52.27947557093699, 110.2728568504685, 119.31612779959559, 68.43094765701494, 266.01603251096554, 61.512061909827246, 723.545713127103, 282.79040250767383, 146.9093585535991, 659.4893405945047, 107.93859087049363, 739.4444136426126, 111.01768838819928, 344.35920976246115, 237.2107312828961, 762.3171627175894, 513.5301747886158, 383.8132547406231, 278.32705523104215, 244.60142128265878, 441.03596935044243, 594.3836137876257, 596.39405729358, 341.4690420362822, 375.2997545965689, 671.4748157487547, 325.63200492093017, 589.0184236738302, 438.28183272046937, 569.9671254720621, 454.5547448976706, 378.7982963890022, 507.81057056350926, 22.31861124130356, 29.93626723193504, 20.691119155372547, 23.166000934911033, 15.189422623757011, 25.872496641299872, 16.452487555178156, 11.817009170441503, 15.420891238158662, 17.660942200857708, 20.8989118982453, 12.195186037192164, 10.825882936719765, 12.338781034102645, 43.50122472329738, 15.521001050722314, 8.700185515989489, 12.332844298459296, 8.696867475350393, 8.699718661803024, 26.030456186480464, 7.575841087129018, 7.075001010760638, 32.25399410122993, 9.683205021471526, 7.078078349503837, 7.706481830142786, 7.561281097920155, 9.632955964539692, 6.539633933862237, 10.448238998610858, 62.38213950506134, 15.503412667028382, 57.509944061469206, 53.47460257776454, 32.89320002044556, 15.431594608492311, 35.05409999116295, 27.710646521869812, 33.382913102799876, 21.493198971187265, 49.07931396852872, 35.103335949900504, 145.85040780382025, 59.08431841275662, 38.43649679772268, 305.9271497225388, 56.843519245635356, 24.38628510758436, 25.558496800854705, 83.66012286246554, 43.556319901254625, 36.772171217779146, 100.15651683813707, 63.92546762250617, 437.37495930182433, 367.45930049597905, 356.0431920057613, 244.09700070131825, 56.93703678022446, 77.69091179947264, 263.11335375487437, 197.1355537485994, 260.18313525497496, 88.01790754317021, 355.81579942145663, 589.0184236738302, 63.37975936782905, 444.9458456404741, 636.6374940830864, 581.9370883164822, 652.1863913156251, 454.3177391595062, 345.01936028754415, 569.9671254720621, 438.28183272046937, 325.54709277135686, 739.4444136426126, 471.1728838670613, 393.01840146584817, 657.7583425759658, 296.4751671404528, 431.19359725761325, 384.75800598071504, 559.6726290888296, 594.3836137876257, 222.80858597129097, 333.9258048873173, 785.5562888129457, 42.91688602450618, 40.64930699780552, 16.624083008214217, 17.694404162527945, 21.05948190450628, 19.06041681168029, 14.917687678605107, 12.380182042493942, 17.238775015991166, 22.088413251369893, 11.939256340021405, 10.446757326631763, 9.629723096826933, 9.538567379699884, 10.468247360759069, 10.923237457163854, 31.936000973187323, 8.388902904731037, 9.203609122471446, 7.921955725228024, 14.855306512973314, 7.578484364942337, 7.796283964020912, 33.735657612685095, 21.022224424447685, 9.003099442624173, 7.142800234411573, 12.039582540708663, 10.52324936180746, 10.991643307504798, 17.092079368631193, 14.991572010042123, 14.101251491187849, 11.477105099066613, 18.494484174527074, 17.879276317762486, 16.183077034653653, 54.83324021751067, 36.03769996205813, 21.5625900724215, 227.4238965647873, 140.29128469002166, 52.959920957471496, 71.41286426098658, 70.26220257893559, 29.60106661602626, 133.79425089391282, 250.98632836849183, 118.5189325042271, 239.70801742740255, 31.563080940729233, 135.49248882855977, 77.75150898017769, 73.00029600778252, 126.4486958759325, 471.1728838670613, 559.1662301597946, 47.21642937114241, 243.58395532615995, 227.54847423198686, 425.2184024020846, 191.5600899330326, 545.5918626953004, 263.11335375487437, 372.2632568048939, 231.1112737661704, 98.56935149475423, 367.45930049597905, 192.6704969346679, 252.2959552975601, 189.8264168285475, 452.1779757682399, 569.9671254720621, 218.8926846303797, 621.4554400233052, 376.4600935675166, 671.4748157487547, 594.3836137876257, 493.29182392752176, 652.1863913156251, 589.0184236738302, 709.6351986936858, 448.79521121980633], \"Category\": [\"Default\", \"Default\", \"Default\", \"Default\", \"Default\", \"Default\", \"Default\", \"Default\", \"Default\", \"Default\", \"Default\", \"Default\", \"Default\", \"Default\", \"Default\", \"Default\", \"Default\", \"Default\", \"Default\", \"Default\", \"Default\", \"Default\", \"Default\", \"Default\", \"Default\", \"Default\", \"Default\", \"Default\", \"Default\", \"Default\", \"Topic1\", \"Topic1\", \"Topic1\", \"Topic1\", \"Topic1\", \"Topic1\", \"Topic1\", \"Topic1\", \"Topic1\", \"Topic1\", \"Topic1\", \"Topic1\", \"Topic1\", \"Topic1\", \"Topic1\", \"Topic1\", \"Topic1\", \"Topic1\", \"Topic1\", \"Topic1\", \"Topic1\", \"Topic1\", \"Topic1\", \"Topic1\", \"Topic1\", \"Topic1\", \"Topic1\", \"Topic1\", \"Topic1\", \"Topic1\", \"Topic1\", \"Topic1\", \"Topic1\", \"Topic1\", \"Topic1\", \"Topic1\", \"Topic1\", \"Topic1\", \"Topic1\", \"Topic1\", \"Topic1\", \"Topic1\", \"Topic1\", \"Topic1\", \"Topic1\", \"Topic1\", \"Topic1\", \"Topic1\", \"Topic1\", \"Topic1\", \"Topic1\", \"Topic1\", \"Topic1\", \"Topic1\", \"Topic1\", \"Topic1\", \"Topic1\", \"Topic1\", \"Topic1\", \"Topic1\", \"Topic1\", \"Topic1\", \"Topic1\", \"Topic1\", \"Topic1\", \"Topic1\", \"Topic1\", \"Topic1\", \"Topic1\", \"Topic1\", \"Topic1\", \"Topic1\", \"Topic1\", \"Topic1\", \"Topic1\", \"Topic1\", \"Topic1\", \"Topic1\", \"Topic1\", \"Topic1\", \"Topic2\", \"Topic2\", \"Topic2\", \"Topic2\", \"Topic2\", \"Topic2\", \"Topic2\", \"Topic2\", \"Topic2\", \"Topic2\", \"Topic2\", \"Topic2\", \"Topic2\", \"Topic2\", \"Topic2\", \"Topic2\", \"Topic2\", \"Topic2\", \"Topic2\", \"Topic2\", \"Topic2\", \"Topic2\", \"Topic2\", \"Topic2\", \"Topic2\", \"Topic2\", \"Topic2\", \"Topic2\", \"Topic2\", \"Topic2\", \"Topic2\", \"Topic2\", \"Topic2\", \"Topic2\", \"Topic2\", \"Topic2\", \"Topic2\", \"Topic2\", \"Topic2\", \"Topic2\", \"Topic2\", \"Topic2\", \"Topic2\", \"Topic2\", \"Topic2\", \"Topic2\", \"Topic2\", \"Topic2\", \"Topic2\", \"Topic2\", \"Topic2\", \"Topic2\", \"Topic2\", \"Topic2\", \"Topic2\", \"Topic2\", \"Topic2\", \"Topic2\", \"Topic2\", \"Topic2\", \"Topic2\", \"Topic2\", \"Topic2\", \"Topic2\", \"Topic2\", \"Topic2\", \"Topic2\", \"Topic2\", \"Topic2\", \"Topic2\", \"Topic2\", \"Topic2\", \"Topic2\", \"Topic2\", \"Topic2\", \"Topic2\", \"Topic2\", \"Topic2\", \"Topic2\", \"Topic2\", \"Topic2\", \"Topic2\", \"Topic3\", \"Topic3\", \"Topic3\", \"Topic3\", \"Topic3\", \"Topic3\", \"Topic3\", \"Topic3\", \"Topic3\", \"Topic3\", \"Topic3\", \"Topic3\", \"Topic3\", \"Topic3\", \"Topic3\", \"Topic3\", \"Topic3\", \"Topic3\", \"Topic3\", \"Topic3\", \"Topic3\", \"Topic3\", \"Topic3\", \"Topic3\", \"Topic3\", \"Topic3\", \"Topic3\", \"Topic3\", \"Topic3\", \"Topic3\", \"Topic3\", \"Topic3\", \"Topic3\", \"Topic3\", \"Topic3\", \"Topic3\", \"Topic3\", \"Topic3\", \"Topic3\", \"Topic3\", \"Topic3\", \"Topic3\", \"Topic3\", \"Topic3\", \"Topic3\", \"Topic3\", \"Topic3\", \"Topic3\", \"Topic3\", \"Topic3\", \"Topic3\", \"Topic3\", \"Topic3\", \"Topic3\", \"Topic3\", \"Topic3\", \"Topic3\", \"Topic3\", \"Topic3\", \"Topic3\", \"Topic3\", \"Topic3\", \"Topic3\", \"Topic3\", \"Topic3\", \"Topic3\", \"Topic3\", \"Topic3\", \"Topic3\", \"Topic3\", \"Topic3\", \"Topic3\", \"Topic3\", \"Topic3\", \"Topic3\", \"Topic3\", \"Topic3\", \"Topic3\", \"Topic3\", \"Topic3\", \"Topic3\", \"Topic3\", \"Topic3\", \"Topic4\", \"Topic4\", \"Topic4\", \"Topic4\", \"Topic4\", \"Topic4\", \"Topic4\", \"Topic4\", \"Topic4\", \"Topic4\", \"Topic4\", \"Topic4\", \"Topic4\", \"Topic4\", \"Topic4\", \"Topic4\", \"Topic4\", \"Topic4\", \"Topic4\", \"Topic4\", \"Topic4\", \"Topic4\", \"Topic4\", \"Topic4\", \"Topic4\", \"Topic4\", \"Topic4\", \"Topic4\", \"Topic4\", \"Topic4\", \"Topic4\", \"Topic4\", \"Topic4\", \"Topic4\", \"Topic4\", \"Topic4\", \"Topic4\", \"Topic4\", \"Topic4\", \"Topic4\", \"Topic4\", \"Topic4\", \"Topic4\", \"Topic4\", \"Topic4\", \"Topic4\", \"Topic4\", \"Topic4\", \"Topic4\", \"Topic4\", \"Topic4\", \"Topic4\", \"Topic4\", \"Topic4\", \"Topic4\", \"Topic4\", \"Topic4\", \"Topic4\", \"Topic4\", \"Topic4\", \"Topic4\", \"Topic4\", \"Topic4\", \"Topic4\", \"Topic4\", \"Topic4\", \"Topic4\", \"Topic4\", \"Topic4\", \"Topic4\", \"Topic4\", \"Topic4\", \"Topic4\", \"Topic4\", \"Topic4\", \"Topic4\", \"Topic4\", \"Topic4\", \"Topic4\", \"Topic5\", \"Topic5\", \"Topic5\", \"Topic5\", \"Topic5\", \"Topic5\", \"Topic5\", \"Topic5\", \"Topic5\", \"Topic5\", \"Topic5\", \"Topic5\", \"Topic5\", \"Topic5\", \"Topic5\", \"Topic5\", \"Topic5\", \"Topic5\", \"Topic5\", \"Topic5\", \"Topic5\", \"Topic5\", \"Topic5\", \"Topic5\", \"Topic5\", \"Topic5\", \"Topic5\", \"Topic5\", \"Topic5\", \"Topic5\", \"Topic5\", \"Topic5\", \"Topic5\", \"Topic5\", \"Topic5\", \"Topic5\", \"Topic5\", \"Topic5\", \"Topic5\", \"Topic5\", \"Topic5\", \"Topic5\", \"Topic5\", \"Topic5\", \"Topic5\", \"Topic5\", \"Topic5\", \"Topic5\", \"Topic5\", \"Topic5\", \"Topic5\", \"Topic5\", \"Topic5\", \"Topic5\", \"Topic5\", \"Topic5\", \"Topic5\", \"Topic5\", \"Topic5\", \"Topic5\", \"Topic5\", \"Topic5\", \"Topic5\", \"Topic5\", \"Topic5\", \"Topic5\", \"Topic5\", \"Topic5\", \"Topic5\", \"Topic5\", \"Topic5\", \"Topic5\", \"Topic5\", \"Topic5\", \"Topic5\", \"Topic5\", \"Topic6\", \"Topic6\", \"Topic6\", \"Topic6\", \"Topic6\", \"Topic6\", \"Topic6\", \"Topic6\", \"Topic6\", \"Topic6\", \"Topic6\", \"Topic6\", \"Topic6\", \"Topic6\", \"Topic6\", \"Topic6\", \"Topic6\", \"Topic6\", \"Topic6\", \"Topic6\", \"Topic6\", \"Topic6\", \"Topic6\", \"Topic6\", \"Topic6\", \"Topic6\", \"Topic6\", \"Topic6\", \"Topic6\", \"Topic6\", \"Topic6\", \"Topic6\", \"Topic6\", \"Topic6\", \"Topic6\", \"Topic6\", \"Topic6\", \"Topic6\", \"Topic6\", \"Topic6\", \"Topic6\", \"Topic6\", \"Topic6\", \"Topic6\", \"Topic6\", \"Topic6\", \"Topic6\", \"Topic6\", \"Topic6\", \"Topic6\", \"Topic6\", \"Topic6\", \"Topic6\", \"Topic6\", \"Topic6\", \"Topic6\", \"Topic6\", \"Topic6\", \"Topic6\", \"Topic6\", \"Topic6\", \"Topic6\", \"Topic6\", \"Topic6\", \"Topic6\", \"Topic6\", \"Topic6\", \"Topic6\", \"Topic6\", \"Topic6\", \"Topic6\", \"Topic6\", \"Topic6\", \"Topic6\", \"Topic6\", \"Topic6\", \"Topic6\", \"Topic6\", \"Topic6\", \"Topic6\", \"Topic7\", \"Topic7\", \"Topic7\", \"Topic7\", \"Topic7\", \"Topic7\", \"Topic7\", \"Topic7\", \"Topic7\", \"Topic7\", \"Topic7\", \"Topic7\", \"Topic7\", \"Topic7\", \"Topic7\", \"Topic7\", \"Topic7\", \"Topic7\", \"Topic7\", \"Topic7\", \"Topic7\", \"Topic7\", \"Topic7\", \"Topic7\", \"Topic7\", \"Topic7\", \"Topic7\", \"Topic7\", \"Topic7\", \"Topic7\", \"Topic7\", \"Topic7\", \"Topic7\", \"Topic7\", \"Topic7\", \"Topic7\", \"Topic7\", \"Topic7\", \"Topic7\", \"Topic7\", \"Topic7\", \"Topic7\", \"Topic7\", \"Topic7\", \"Topic7\", \"Topic7\", \"Topic7\", \"Topic7\", \"Topic7\", \"Topic7\", \"Topic7\", \"Topic7\", \"Topic7\", \"Topic7\", \"Topic7\", \"Topic7\", \"Topic7\", \"Topic7\", \"Topic7\", \"Topic7\", \"Topic7\", \"Topic7\", \"Topic7\", \"Topic7\", \"Topic7\", \"Topic7\", \"Topic7\", \"Topic7\", \"Topic7\", \"Topic7\", \"Topic7\", \"Topic7\", \"Topic7\", \"Topic7\", \"Topic7\", \"Topic7\", \"Topic7\", \"Topic7\", \"Topic7\", \"Topic7\", \"Topic7\", \"Topic7\", \"Topic7\", \"Topic7\", \"Topic7\", \"Topic7\", \"Topic7\", \"Topic7\", \"Topic7\", \"Topic8\", \"Topic8\", \"Topic8\", \"Topic8\", \"Topic8\", \"Topic8\", \"Topic8\", \"Topic8\", \"Topic8\", \"Topic8\", \"Topic8\", \"Topic8\", \"Topic8\", \"Topic8\", \"Topic8\", \"Topic8\", \"Topic8\", \"Topic8\", \"Topic8\", \"Topic8\", \"Topic8\", \"Topic8\", \"Topic8\", \"Topic8\", \"Topic8\", \"Topic8\", \"Topic8\", \"Topic8\", \"Topic8\", \"Topic8\", \"Topic8\", \"Topic8\", \"Topic8\", \"Topic8\", \"Topic8\", \"Topic8\", \"Topic8\", \"Topic8\", \"Topic8\", \"Topic8\", \"Topic8\", \"Topic8\", \"Topic8\", \"Topic8\", \"Topic8\", \"Topic8\", \"Topic8\", \"Topic8\", \"Topic8\", \"Topic8\", \"Topic8\", \"Topic8\", \"Topic8\", \"Topic8\", \"Topic8\", \"Topic8\", \"Topic8\", \"Topic8\", \"Topic8\", \"Topic8\", \"Topic8\", \"Topic8\", \"Topic8\", \"Topic8\", \"Topic8\", \"Topic8\", \"Topic8\", \"Topic8\", \"Topic8\", \"Topic8\", \"Topic8\", \"Topic8\", \"Topic8\", \"Topic8\", \"Topic8\", \"Topic8\", \"Topic8\", \"Topic8\", \"Topic8\", \"Topic8\", \"Topic8\", \"Topic8\", \"Topic8\"], \"logprob\": [30.0, 29.0, 28.0, 27.0, 26.0, 25.0, 24.0, 23.0, 22.0, 21.0, 20.0, 19.0, 18.0, 17.0, 16.0, 15.0, 14.0, 13.0, 12.0, 11.0, 10.0, 9.0, 8.0, 7.0, 6.0, 5.0, 4.0, 3.0, 2.0, 1.0, -6.9825, -6.6855, -7.528, -7.7978, -7.5398, -7.7025, -7.4702, -7.8836, -7.8353, -7.56, -6.7521, -7.4812, -8.1497, -7.946, -7.9876, -8.1859, -7.7045, -8.0659, -7.2623, -7.9381, -8.074, -8.1009, -8.2558, -8.2285, -7.6543, -8.1936, -8.2206, -6.434, -8.2693, -8.129, -7.0172, -7.4373, -6.9058, -7.6846, -7.7637, -5.3848, -7.5078, -7.2979, -7.1481, -5.7493, -7.2592, -6.1999, -6.1389, -6.7928, -6.7991, -5.1917, -5.2797, -5.487, -6.3672, -5.714, -6.8919, -6.721, -6.6439, -4.918, -6.0406, -5.9318, -5.2918, -6.1666, -5.1162, -5.1537, -6.6543, -4.8582, -5.835, -5.3502, -5.7217, -5.8816, -5.7542, -5.9445, -5.442, -5.6353, -5.367, -5.8879, -5.4337, -5.5192, -5.7504, -5.8435, -5.7905, -5.9239, -5.9573, -5.9353, -7.4248, -6.9867, -7.7076, -6.0808, -7.3146, -7.8001, -7.7446, -8.1573, -6.9801, -8.0155, -8.0682, -8.1801, -6.4633, -7.851, -8.0446, -7.5267, -7.8971, -8.176, -8.2201, -8.2957, -7.184, -8.1708, -8.3883, -7.0338, -8.349, -7.915, -6.099, -8.3622, -7.1899, -8.3967, -7.4606, -7.3255, -4.8779, -6.8768, -7.1194, -4.2537, -6.0354, -7.4633, -5.4162, -6.7852, -7.2355, -6.0223, -5.7961, -6.8505, -6.2589, -6.8713, -6.6086, -5.8802, -6.7115, -5.9491, -5.8805, -6.9793, -6.89, -4.6871, -6.1036, -5.5209, -6.0446, -6.3094, -5.1634, -5.0444, -5.794, -6.1406, -5.6791, -5.2946, -5.1573, -6.4872, -5.3298, -5.8211, -5.6112, -6.2382, -5.5608, -5.6239, -5.4599, -5.3839, -5.74, -5.5522, -5.5056, -5.7157, -5.7342, -5.8616, -5.9129, -5.9813, -6.6225, -6.6535, -7.8802, -7.8802, -7.6748, -7.6364, -7.9591, -7.901, -6.171, -6.5988, -8.0804, -7.9061, -8.2764, -8.0673, -8.1187, -7.9452, -8.2025, -8.0592, -8.4479, -7.9165, -8.1819, -8.3511, -8.3645, -8.4025, -8.563, -6.5626, -8.5083, -8.4694, -8.5661, -8.5682, -5.5491, -7.4995, -7.1874, -7.2633, -5.6335, -6.4728, -7.498, -7.5031, -7.82, -6.8693, -7.1857, -6.9258, -6.5763, -6.1349, -5.9856, -7.1432, -5.5637, -6.4946, -6.8492, -6.3787, -5.2137, -6.8273, -6.032, -5.5745, -5.8054, -5.5067, -6.0018, -6.2687, -5.2725, -5.2188, -4.9153, -5.7795, -5.2525, -6.3981, -5.2672, -5.556, -5.2801, -5.2684, -5.7504, -5.1254, -5.412, -5.8993, -5.8717, -5.6933, -5.7422, -6.1084, -6.0501, -5.7668, -5.7409, -5.8548, -5.8991, -5.8509, -5.9137, -7.0176, -7.013, -6.9203, -7.2583, -7.4138, -7.4427, -6.4383, -7.6283, -7.4457, -7.8907, -7.3836, -7.8761, -7.7733, -5.9857, -7.9694, -7.8959, -7.2218, -7.7759, -7.6306, -7.5804, -7.6455, -8.1482, -8.2337, -8.2341, -7.7561, -8.1045, -7.2777, -7.8048, -8.3285, -8.4408, -7.1274, -6.1391, -6.3894, -7.3136, -7.3722, -7.0282, -7.1128, -6.5417, -6.4353, -6.312, -6.3715, -6.7456, -6.131, -6.1665, -5.4923, -6.9961, -6.2153, -6.0131, -6.2639, -6.449, -5.2189, -6.2637, -5.1422, -6.0688, -5.537, -5.7904, -6.0501, -5.4633, -6.5245, -6.2588, -6.4623, -5.5216, -6.1447, -5.7274, -6.0861, -5.9513, -5.9899, -5.9715, -6.063, -5.936, -6.074, -6.0692, -6.005, -6.0723, -6.0803, -6.0775, -6.1294, -6.1455, -6.1584, -5.4987, -6.4061, -6.7875, -7.0024, -6.6229, -7.2793, -7.0894, -7.0355, -7.4613, -7.5986, -4.5827, -7.7419, -7.6308, -6.1183, -7.7356, -7.7592, -7.8488, -7.026, -7.8314, -7.9279, -7.0099, -7.2787, -7.9109, -7.8495, -6.5134, -7.8697, -8.0071, -7.9781, -7.5312, -6.9393, -5.4368, -7.4072, -7.2541, -7.2365, -7.2947, -7.0978, -7.1449, -6.647, -6.2097, -6.2718, -7.1552, -7.0934, -6.4623, -4.768, -5.7575, -6.0031, -6.3697, -5.5691, -6.8135, -5.4878, -5.4738, -6.3014, -6.5907, -6.1243, -5.8665, -5.6249, -5.4822, -6.1535, -5.915, -5.5721, -5.7889, -6.3151, -5.8103, -5.5611, -5.5682, -5.9239, -5.9968, -6.2077, -6.1183, -6.0778, -6.0451, -6.1142, -6.159, -6.1812, -6.1757, -6.1732, -6.6742, -6.9624, -7.219, -6.6189, -7.6496, -7.7892, -7.7104, -7.5528, -6.4984, -7.886, -7.8897, -7.4303, -7.6903, -7.7998, -7.5514, -7.0762, -7.3541, -7.6075, -7.9044, -8.1265, -7.6419, -8.2386, -8.2976, -8.2969, -7.4468, -6.9608, -7.6814, -7.4015, -8.3321, -7.2337, -7.6172, -5.7775, -7.6992, -7.1973, -6.611, -5.6577, -6.0374, -4.4598, -7.1721, -7.2917, -5.5327, -6.9537, -6.1552, -6.9475, -6.0719, -6.1396, -6.1561, -6.8238, -6.3052, -6.2517, -6.636, -5.7134, -6.7344, -5.1942, -5.7913, -6.2176, -5.3734, -6.4108, -5.3244, -6.4186, -5.8794, -6.0683, -5.5048, -5.718, -5.8649, -6.021, -6.0776, -5.8263, -5.7341, -5.753, -5.986, -5.9912, -5.8236, -6.0398, -5.9053, -5.9881, -5.9573, -6.064, -6.0981, -6.0949, -7.2166, -6.9263, -7.2974, -7.1892, -7.6248, -7.0929, -7.5522, -7.89, -7.6245, -7.4907, -7.3267, -7.8655, -7.9846, -7.8554, -6.5986, -7.6355, -8.2306, -7.8818, -8.239, -8.2422, -7.1521, -8.3866, -8.4576, -6.9413, -8.1452, -8.4615, -8.3786, -8.398, -8.1559, -8.5465, -8.078, -6.3194, -7.6959, -6.4278, -6.5126, -6.9957, -7.7114, -6.9462, -7.1748, -7.0047, -7.4264, -6.7036, -7.0035, -5.7912, -6.5714, -6.9364, -5.25, -6.6255, -7.3207, -7.2853, -6.4024, -6.8926, -7.0181, -6.3328, -6.6468, -5.4025, -5.5238, -5.5759, -5.8233, -6.7409, -6.5622, -5.8936, -6.0653, -5.9231, -6.5189, -5.8347, -5.5957, -6.6893, -5.7629, -5.6502, -5.7061, -5.7307, -5.9177, -6.0434, -5.8673, -5.9735, -6.0829, -5.8426, -5.9863, -6.0612, -5.9408, -6.1552, -6.0826, -6.1179, -6.1066, -6.1187, -6.2495, -6.2379, -6.2251, -6.4971, -6.5592, -7.4799, -7.4221, -7.2493, -7.3582, -7.6051, -7.8001, -7.4741, -7.228, -7.8437, -7.9778, -8.0671, -8.0804, -7.989, -7.9499, -6.8851, -8.2235, -8.1318, -8.2823, -7.6539, -8.3308, -8.3027, -6.8391, -7.3245, -8.1742, -8.4078, -7.8862, -8.0213, -7.9803, -7.5542, -7.6816, -7.7552, -7.9481, -7.5173, -7.5543, -7.6462, -6.6154, -6.975, -7.416, -5.4705, -5.9359, -6.7065, -6.4809, -6.5436, -7.1924, -6.069, -5.6225, -6.205, -5.7557, -7.1632, -6.2073, -6.5772, -6.6256, -6.2852, -5.4726, -5.4043, -6.9166, -5.9605, -6.0059, -5.6546, -6.14, -5.6556, -6.0446, -5.8801, -6.1277, -6.5494, -5.9706, -6.2736, -6.1689, -6.3076, -6.0396, -5.9741, -6.2794, -5.9879, -6.1529, -6.0215, -6.1219, -6.1657, -6.1402, -6.1906, -6.194, -6.2334], \"loglift\": [30.0, 29.0, 28.0, 27.0, 26.0, 25.0, 24.0, 23.0, 22.0, 21.0, 20.0, 19.0, 18.0, 17.0, 16.0, 15.0, 14.0, 13.0, 12.0, 11.0, 10.0, 9.0, 8.0, 7.0, 6.0, 5.0, 4.0, 3.0, 2.0, 1.0, 1.7299, 1.7257, 1.7236, 1.7174, 1.7155, 1.7155, 1.715, 1.7144, 1.7122, 1.7117, 1.7091, 1.7049, 1.7025, 1.702, 1.7012, 1.7009, 1.6993, 1.6981, 1.698, 1.6973, 1.6965, 1.6962, 1.6952, 1.695, 1.6944, 1.694, 1.6938, 1.6931, 1.6919, 1.6911, 1.6827, 1.6847, 1.666, 1.682, 1.6831, 1.6058, 1.6717, 1.6628, 1.6508, 1.5719, 1.6528, 1.5804, 1.5385, 1.594, 1.5812, 1.3892, 1.3852, 1.382, 1.499, 1.389, 1.5754, 1.5462, 1.5245, 1.1576, 1.3962, 1.3632, 1.1772, 1.3815, 1.0847, 1.0652, 1.4827, 0.9272, 1.1988, 1.0093, 1.139, 1.1415, 1.0742, 1.1614, 0.8775, 0.9485, 0.7375, 1.0367, 0.6403, 0.6265, 0.7877, 0.7476, 0.6449, 0.8042, 0.6058, 0.3696, 1.7816, 1.7777, 1.7749, 1.7725, 1.7723, 1.769, 1.7674, 1.7573, 1.7559, 1.7553, 1.7553, 1.7517, 1.7494, 1.7491, 1.7489, 1.7489, 1.748, 1.7479, 1.7477, 1.747, 1.746, 1.7455, 1.7453, 1.7445, 1.7428, 1.7427, 1.7419, 1.7403, 1.74, 1.7384, 1.7351, 1.7308, 1.685, 1.7227, 1.7235, 1.6511, 1.698, 1.7267, 1.6555, 1.6958, 1.7126, 1.6475, 1.6331, 1.6911, 1.6448, 1.6837, 1.6609, 1.5917, 1.6663, 1.5837, 1.5694, 1.6862, 1.6673, 1.3288, 1.5432, 1.4443, 1.5193, 1.5445, 1.269, 1.2339, 1.3945, 1.4796, 1.2915, 1.1407, 1.0846, 1.5616, 1.0551, 1.2714, 1.1504, 1.4428, 1.1091, 1.0451, 0.9232, 0.8377, 1.0833, 0.7799, 0.2798, 0.5144, 0.3098, 0.7016, 0.6007, 0.4251, 1.8654, 1.8615, 1.8467, 1.8465, 1.846, 1.8402, 1.8401, 1.8352, 1.8343, 1.8339, 1.8325, 1.8306, 1.8273, 1.8255, 1.8234, 1.821, 1.82, 1.8199, 1.8167, 1.8162, 1.8117, 1.8117, 1.8106, 1.8098, 1.8095, 1.8087, 1.8079, 1.8076, 1.8061, 1.8052, 1.7883, 1.8025, 1.7988, 1.7964, 1.7791, 1.7786, 1.7981, 1.7787, 1.7903, 1.738, 1.7558, 1.7271, 1.6974, 1.6525, 1.6309, 1.739, 1.5685, 1.6711, 1.7081, 1.6495, 1.4974, 1.6886, 1.5765, 1.4926, 1.5117, 1.4174, 1.4991, 1.5426, 1.3174, 1.2998, 1.2109, 1.4133, 1.2278, 1.5653, 1.1281, 1.2043, 0.9761, 0.8056, 1.1269, 0.66, 0.8422, 1.1836, 1.143, 0.8169, 0.8494, 1.2654, 1.1669, 0.6417, 0.5703, 0.5291, 0.5235, 0.2246, 0.4303, 1.9916, 1.99, 1.9869, 1.9842, 1.979, 1.9759, 1.9739, 1.9727, 1.9641, 1.9638, 1.9631, 1.9629, 1.9627, 1.9624, 1.9586, 1.9585, 1.9558, 1.9545, 1.9522, 1.9513, 1.9492, 1.9427, 1.94, 1.9399, 1.9326, 1.9291, 1.9255, 1.9251, 1.9246, 1.9238, 1.9219, 1.8867, 1.8893, 1.9056, 1.9024, 1.8474, 1.8538, 1.7391, 1.7153, 1.6859, 1.6904, 1.758, 1.6201, 1.615, 1.4036, 1.77, 1.5275, 1.4316, 1.5105, 1.5662, 1.0403, 1.4317, 0.8737, 1.33, 1.0593, 0.9854, 1.112, 0.6823, 1.4281, 1.1899, 1.3596, 0.5224, 1.0208, 0.5026, 0.8635, 0.6387, 0.6765, 0.6409, 0.6897, 0.3835, 0.6077, 0.5886, 0.3269, 0.572, 0.5235, 0.3709, 0.6555, 0.4829, 0.5887, 2.1744, 2.1637, 2.1628, 2.1594, 2.1575, 2.1538, 2.1466, 2.1459, 2.1454, 2.1427, 2.1404, 2.1398, 2.1369, 2.1361, 2.1325, 2.1298, 2.1292, 2.1289, 2.1288, 2.1282, 2.127, 2.1267, 2.1264, 2.1263, 2.1257, 2.1238, 2.1237, 2.1224, 2.1218, 2.1217, 2.1066, 2.1212, 2.1157, 2.1139, 2.1061, 2.0963, 2.0867, 2.054, 1.9684, 1.9637, 2.0485, 2.0374, 1.8957, 1.4913, 1.7142, 1.7448, 1.8322, 1.5369, 1.9408, 1.4363, 1.426, 1.7408, 1.8447, 1.6315, 1.4018, 1.2419, 1.1089, 1.4803, 1.2899, 0.966, 1.0345, 1.5211, 1.013, 0.7172, 0.4758, 0.9503, 0.9477, 1.2758, 0.9315, 0.6855, 0.5389, 0.5296, 0.5988, 0.8556, 0.7403, 0.3819, 2.3175, 2.3141, 2.2929, 2.2859, 2.2819, 2.2781, 2.2772, 2.271, 2.268, 2.2655, 2.2631, 2.2626, 2.2613, 2.2609, 2.2561, 2.2552, 2.2529, 2.2504, 2.2456, 2.2447, 2.2355, 2.2351, 2.2334, 2.2325, 2.2321, 2.2312, 2.2278, 2.2276, 2.2275, 2.2227, 2.2213, 2.1841, 2.2221, 2.207, 2.1453, 2.072, 2.0628, 1.8451, 2.1637, 2.1798, 1.8996, 2.112, 1.8961, 2.0726, 1.8426, 1.7911, 1.6603, 1.93, 1.7023, 1.6769, 1.8486, 1.4134, 1.8568, 0.9321, 1.2743, 1.503, 0.8456, 1.618, 0.78, 1.5821, 0.9893, 1.1732, 0.5692, 0.7511, 0.8953, 1.0606, 1.1331, 0.795, 0.5888, 0.5665, 0.8912, 0.7914, 0.3773, 0.8848, 0.4267, 0.6394, 0.4075, 0.527, 0.6753, 0.3854, 2.3883, 2.385, 2.3833, 2.3785, 2.365, 2.3643, 2.3577, 2.3509, 2.3501, 2.3484, 2.344, 2.3439, 2.3438, 2.3422, 2.339, 2.3327, 2.3164, 2.3163, 2.3084, 2.3049, 2.299, 2.2989, 2.2962, 2.2954, 2.2948, 2.2919, 2.2897, 2.2894, 2.2893, 2.286, 2.2859, 2.2577, 2.2734, 2.2306, 2.2186, 2.2214, 2.2626, 2.2073, 2.2137, 2.1977, 2.2163, 2.1133, 2.1486, 1.9366, 2.06, 2.125, 1.737, 2.0446, 2.1957, 2.1841, 1.8812, 2.0438, 2.0876, 1.7709, 1.9059, 1.2271, 1.28, 1.2594, 1.3895, 1.9275, 1.7955, 1.2442, 1.3612, 1.2259, 1.714, 1.0012, 0.7362, 1.8719, 0.8496, 0.604, 0.6379, 0.4994, 0.6739, 0.8234, 0.4975, 0.654, 0.842, 0.2619, 0.5688, 0.6754, 0.2807, 0.8633, 0.5612, 0.6399, 0.2764, 0.2042, 1.0546, 0.6616, -0.1811, 2.454, 2.4463, 2.4196, 2.415, 2.4137, 2.4045, 2.4027, 2.3942, 2.3892, 2.3873, 2.3869, 2.3863, 2.3784, 2.3746, 2.373, 2.3696, 2.3616, 2.36, 2.359, 2.3584, 2.3581, 2.3543, 2.354, 2.3527, 2.3403, 2.3387, 2.3364, 2.3359, 2.3355, 2.3329, 2.3175, 2.3213, 2.3089, 2.3219, 2.2756, 2.2724, 2.2803, 2.0907, 2.1508, 2.2234, 1.8131, 1.8308, 2.0343, 1.961, 1.9146, 2.1302, 1.7451, 1.5625, 1.7303, 1.4752, 2.0952, 1.5941, 1.7797, 1.7944, 1.5854, 1.0826, 0.9797, 1.9391, 1.2544, 1.2771, 1.0032, 1.3152, 0.7529, 1.0932, 0.9107, 1.1398, 1.5702, 0.8332, 1.1758, 1.0109, 1.1566, 0.5567, 0.3907, 1.0424, 0.2904, 0.6266, 0.1794, 0.201, 0.3436, 0.0899, 0.1413, -0.0483, 0.3704]}, \"token.table\": {\"Topic\": [7, 1, 3, 6, 7, 1, 2, 3, 4, 5, 6, 7, 8, 1, 2, 4, 5, 7, 8, 1, 2, 3, 4, 5, 6, 8, 1, 2, 3, 4, 5, 6, 7, 1, 2, 3, 4, 5, 6, 7, 8, 1, 2, 3, 4, 5, 6, 7, 8, 1, 5, 5, 6, 4, 1, 2, 3, 6, 7, 4, 7, 8, 1, 2, 3, 4, 5, 6, 7, 8, 1, 2, 3, 4, 5, 6, 7, 8, 7, 8, 4, 6, 4, 4, 1, 2, 4, 5, 8, 1, 7, 6, 8, 4, 8, 1, 6, 1, 6, 7, 1, 6, 1, 2, 3, 4, 5, 6, 7, 2, 2, 5, 7, 1, 2, 3, 4, 5, 6, 7, 8, 1, 2, 3, 4, 5, 6, 7, 8, 1, 6, 7, 3, 6, 8, 4, 3, 1, 2, 3, 4, 5, 6, 7, 8, 7, 2, 5, 6, 1, 2, 4, 5, 6, 7, 8, 1, 2, 3, 4, 5, 6, 7, 8, 1, 2, 3, 4, 5, 6, 7, 8, 2, 7, 1, 2, 4, 7, 1, 3, 6, 7, 8, 1, 3, 5, 1, 1, 2, 3, 4, 5, 6, 7, 8, 3, 1, 2, 3, 4, 5, 6, 7, 8, 2, 7, 3, 1, 3, 5, 4, 5, 7, 2, 3, 4, 5, 7, 8, 1, 2, 4, 5, 1, 2, 6, 7, 8, 1, 2, 3, 4, 5, 6, 7, 8, 1, 2, 4, 5, 6, 7, 8, 1, 2, 3, 4, 5, 6, 7, 8, 5, 1, 2, 3, 4, 5, 6, 7, 8, 7, 1, 4, 5, 6, 7, 3, 6, 4, 8, 1, 2, 3, 4, 5, 6, 7, 8, 3, 5, 8, 1, 2, 5, 6, 2, 1, 2, 3, 4, 5, 6, 7, 8, 4, 6, 1, 2, 3, 4, 5, 6, 7, 8, 1, 1, 2, 3, 4, 5, 7, 8, 2, 1, 2, 3, 4, 5, 6, 7, 8, 1, 2, 1, 2, 3, 4, 5, 7, 8, 1, 2, 3, 4, 5, 7, 1, 2, 3, 4, 5, 6, 7, 8, 3, 4, 6, 4, 2, 5, 1, 2, 3, 4, 5, 6, 7, 8, 2, 4, 5, 1, 8, 2, 4, 3, 8, 1, 2, 3, 4, 5, 6, 7, 8, 1, 7, 5, 1, 2, 3, 4, 5, 6, 7, 8, 4, 1, 5, 8, 1, 5, 3, 6, 2, 3, 6, 7, 1, 2, 3, 4, 5, 6, 7, 8, 1, 2, 4, 8, 1, 2, 3, 4, 5, 7, 8, 6, 5, 6, 1, 2, 3, 4, 5, 6, 7, 8, 1, 2, 3, 4, 5, 6, 7, 8, 1, 2, 3, 4, 5, 6, 7, 8, 1, 2, 3, 4, 5, 6, 7, 8, 1, 3, 6, 8, 1, 2, 3, 4, 5, 6, 7, 8, 4, 3, 1, 3, 4, 8, 1, 2, 3, 4, 5, 6, 7, 8, 1, 2, 3, 4, 5, 6, 7, 8, 1, 2, 3, 4, 5, 6, 7, 8, 8, 3, 8, 2, 5, 4, 5, 1, 2, 3, 4, 5, 6, 7, 8, 7, 1, 2, 3, 5, 6, 7, 8, 1, 2, 3, 5, 6, 7, 8, 5, 3, 4, 8, 4, 5, 3, 4, 6, 8, 2, 4, 2, 3, 4, 5, 1, 2, 3, 4, 5, 6, 7, 8, 1, 2, 3, 4, 5, 6, 7, 8, 1, 1, 2, 3, 4, 5, 6, 7, 8, 3, 1, 2, 3, 4, 5, 6, 7, 8, 5, 1, 2, 3, 4, 5, 6, 7, 8, 1, 2, 3, 4, 5, 6, 7, 8, 1, 2, 3, 4, 5, 6, 7, 8, 1, 3, 4, 5, 6, 8, 1, 2, 3, 4, 5, 7, 8, 7, 1, 2, 3, 4, 5, 6, 7, 8, 5, 1, 2, 3, 4, 5, 6, 7, 8, 1, 2, 3, 4, 5, 6, 7, 8, 1, 2, 3, 4, 5, 6, 7, 8, 8, 1, 2, 3, 4, 5, 6, 7, 8, 1, 2, 3, 4, 5, 6, 7, 8, 1, 2, 3, 4, 5, 6, 7, 8, 1, 1, 2, 3, 4, 7, 1, 2, 3, 4, 8, 1, 2, 3, 4, 5, 6, 7, 8, 1, 2, 3, 4, 5, 6, 7, 8, 6, 1, 2, 4, 7, 8, 1, 2, 3, 6, 7, 8, 8, 1, 2, 3, 4, 5, 6, 7, 8, 1, 2, 3, 4, 5, 6, 7, 1, 2, 3, 4, 5, 6, 7, 8, 3, 6, 1, 2, 3, 4, 5, 6, 7, 8, 1, 2, 3, 4, 5, 6, 7, 8, 2, 3, 7, 8, 2, 4, 5, 7, 8, 7, 1, 2, 3, 4, 5, 6, 7, 8, 4, 8, 8, 1, 2, 1, 2, 3, 4, 5, 6, 7, 8, 2, 5, 7, 1, 2, 3, 4, 5, 6, 7, 8, 1, 2, 3, 4, 5, 7, 8, 1, 4, 6, 2, 4, 1, 2, 3, 4, 5, 6, 7, 8, 1, 2, 3, 4, 5, 6, 7, 8, 4, 7, 1, 2, 3, 4, 5, 6, 7, 8, 4, 8, 3, 7, 8, 1, 8, 1, 2, 3, 4, 5, 6, 7, 8, 1, 2, 3, 4, 5, 6, 7, 8, 1, 2, 3, 4, 5, 6, 7, 8, 1, 2, 3, 4, 5, 6, 7, 8, 1, 2, 3, 4, 5, 6, 7, 8, 1, 4, 7, 1, 2, 3, 4, 5, 6, 7, 8, 4, 8, 4, 5, 7, 2, 5, 6, 7, 8, 1, 3, 5, 7, 3, 8, 2, 1, 2, 3, 4, 5, 6, 7, 8, 7, 1, 3, 5, 6, 7, 8, 2, 3, 4, 5, 8, 1, 2, 3, 4, 5, 6, 7, 8, 2, 3, 4, 5, 4, 7, 1, 2, 4, 5, 7, 8, 1, 2, 3, 4, 5, 6, 7, 8, 1, 2, 4, 5, 7, 8, 1, 2, 3, 4, 5, 3, 6, 7, 4, 8, 2, 5, 8, 4, 5, 6, 4, 1, 7, 8, 7, 1, 4, 5, 7, 8, 1, 2, 7, 1, 3, 6, 7, 1, 3, 5, 7, 2, 2, 6, 7, 4, 6, 8, 1, 2, 3, 5, 6, 7, 8, 1, 1, 3, 8, 1, 3, 5, 1, 1, 2, 3, 4, 6, 1, 1, 2, 3, 4, 5, 6, 7, 8, 7, 1, 4, 5, 6, 7, 8, 8, 6, 6, 1, 1, 2, 3, 4, 5, 6, 7, 8, 1, 2, 3, 4, 5, 6, 7, 8, 5, 8, 1, 2, 3, 5, 7, 2, 3, 5, 8, 2, 3, 1, 2, 3, 4, 5, 6, 7, 8, 2, 3, 4, 5, 6, 7, 1, 2, 3, 4, 5, 6, 7, 8, 1, 2, 3, 4, 5, 6, 7, 8, 3, 1, 2, 3, 4, 5, 6, 7, 8, 1, 2, 3, 4, 5, 6, 7, 8, 1, 2, 6, 8, 1, 2, 3, 4, 5, 6, 8, 2, 1, 2, 3, 4, 5, 6, 7, 8, 1, 2, 3, 4, 5, 6, 7, 8, 8, 1, 2, 3, 4, 5, 6, 7, 8, 1, 2, 3, 4, 5, 6, 7, 8, 1, 1, 1, 3, 7, 7, 1, 2, 3, 4, 2, 3, 1, 2, 3, 4, 5, 6, 7, 8, 2, 1, 1, 2, 3, 4, 5, 6, 7, 8, 1, 3, 4, 6, 7, 8, 2, 4, 5, 7, 3, 6, 3, 4, 5, 6, 7, 8, 1, 2, 5, 2, 4, 5, 1, 2, 3, 4, 5, 6, 7, 8, 1, 2, 3, 4, 5, 6, 7, 8, 3, 7, 8, 8, 1, 2, 3, 4, 5, 6, 7, 8, 2, 5, 3, 5, 6, 7, 8, 1, 1, 2, 3, 4, 5, 6, 7, 8, 1, 2, 3, 4, 5, 6, 7, 8, 4, 1, 2, 4, 5, 8, 3, 8, 1, 7, 1, 2, 3, 6, 1, 5, 3, 5, 8, 2, 2, 3, 4, 5, 6, 7, 8, 8, 1, 2, 3, 4, 5, 6, 7, 8, 1, 2, 3, 4, 5, 6, 7, 8, 1, 2, 3, 4, 5, 6, 7, 8, 1, 5, 1, 2, 3, 4, 5, 6, 7, 8, 5, 1, 3, 4, 5, 6, 7, 8, 2, 5, 3, 7, 5, 7, 6, 3, 4, 1, 2, 4, 5, 6, 8, 3, 2, 1, 2, 3, 4, 5, 6, 7, 8, 1, 1, 2, 3, 4, 5, 6, 7, 8, 1, 2, 3, 6, 7, 8, 1, 2, 3, 4, 5, 6, 7, 2, 4, 5, 1, 2, 3, 4, 5, 6, 7, 8, 5, 1, 1, 2, 3, 4, 5, 8, 2, 3, 4, 5, 6, 7, 8, 8, 1, 5, 1, 2, 3, 4, 5, 6, 7, 8, 2, 1, 2, 4, 5, 7, 2, 4, 7, 6, 2, 4, 5, 4, 5, 6, 1, 2, 3, 4, 5, 6, 7, 8, 4, 8, 2, 3, 4, 7, 8, 1, 1, 2, 3, 4, 5, 6, 7, 8, 1, 4, 8, 3, 2, 3, 7, 8, 1, 2, 3, 4, 5, 6, 7, 8, 1, 2, 3, 4, 5, 6, 7, 8, 2, 3, 5, 1, 2, 3, 4, 5, 7, 4, 8, 1, 2, 3, 4, 5, 6, 7, 8, 8, 1, 2, 3, 4, 5, 6, 7, 8, 7, 1, 2, 3, 4, 5, 6, 7, 8, 6, 1, 2, 3, 4, 5, 6, 7, 8, 1, 2, 3, 6, 7, 8, 2, 4, 5, 1, 2, 3, 4, 6, 8, 1, 2, 3, 4, 5, 6, 7, 8, 1, 2, 5, 8, 1, 2, 3, 5, 6, 8, 6, 8, 6, 1, 2, 3, 4, 5, 6, 7, 8, 4, 1, 2, 3, 4, 5, 6, 7, 8, 1, 2, 3, 4, 5, 8, 1, 2, 3, 6, 7, 8, 1, 2, 3, 4, 5, 6, 7, 8, 6, 1, 2, 3, 4, 5, 6, 7, 8, 1, 5, 6, 8, 1, 2, 6, 2, 7, 8, 1, 2, 3, 4, 5, 6, 7, 8, 1, 2, 3, 4, 5, 6, 7, 8, 1, 7, 8, 1, 4, 7, 8, 1, 2, 4, 5, 8, 5, 5, 8, 1, 2, 3, 4, 5, 6, 7, 8, 6, 1, 5, 8, 1, 2, 3, 4, 5, 6, 7, 8, 4, 1, 2, 3, 4, 5, 6, 1, 6, 3, 1, 2, 3, 4, 5, 6, 7, 8, 4, 1, 8, 1, 2, 3, 4, 5, 6, 7, 8, 1, 2, 3, 4, 5, 6, 7, 8, 3, 6, 1, 3, 4, 6, 8, 7, 1, 2, 3, 4, 5, 6, 7, 8, 1, 2, 3, 4, 5, 6, 7, 8, 3, 6, 8, 2, 6, 8, 2, 3, 4, 5, 6, 7, 8, 1, 3, 4, 6, 7, 8, 1, 1, 2, 3, 4, 5, 6, 7, 8, 2, 3, 4, 5, 6, 7, 8, 3, 1, 2, 3, 4, 5, 6, 7, 8, 7, 8, 4, 1, 5, 7, 8, 1, 3, 4, 5, 6, 7, 8, 8, 1, 2, 3, 4, 5, 6, 7, 8, 1, 2, 3, 4, 5, 6, 7, 2, 4, 5, 6, 7, 8, 1, 2, 3, 4, 5, 6, 7, 8, 1, 2, 3, 4, 5, 6, 7, 8, 1, 2, 3, 4, 5, 7, 8, 1, 2, 3, 4, 5, 6, 7, 8, 5, 1, 2, 3, 4, 5, 6, 7, 8, 3, 2, 1, 2, 4, 1, 2, 3, 4, 5, 6, 7, 8, 1, 4, 5, 7, 8, 1, 2, 3, 4, 5, 6, 7, 8, 1, 3, 6, 8, 1, 2, 3, 4, 5, 6, 7, 8, 1, 2, 3, 4, 5, 6, 7, 8, 1, 2, 3, 4, 5, 6, 7, 8, 1, 2, 3, 4, 5, 6, 7, 8, 1, 2, 3, 4, 5, 6, 7, 8, 2, 3, 4, 8, 1, 3, 7, 8, 1, 3, 4, 5, 6, 7, 8, 1, 2, 3, 4, 5, 6, 7, 8, 8, 1, 2, 3, 4, 5, 6, 7, 8, 1, 2, 3, 4, 5, 6, 7, 8, 2, 7, 8, 1, 2, 3, 4, 5, 6, 7, 8, 1, 2, 3, 4, 5, 6, 7, 2, 4, 1, 4, 5, 6, 7, 1, 2, 3, 4, 5, 6, 7, 8, 1, 2, 5, 8, 1, 2, 3, 4, 5, 6, 7, 8, 4, 5, 1, 7, 1, 3, 5, 6, 7, 1, 2, 3, 4, 5, 6, 7, 8, 3, 5, 6, 7, 8, 3, 4, 5, 7, 1, 4, 7, 6, 2, 4, 7, 6, 1, 2, 3, 4, 5, 6, 7, 8, 1, 2, 3, 6, 7, 8, 1, 2, 3, 4, 5, 6, 7, 8, 3, 1, 2, 3, 4, 5, 6, 7, 8, 3, 1, 2, 3, 4, 5, 6, 7, 8, 6, 8, 2, 3, 4, 5, 6, 7, 8, 4, 1, 2, 3, 4, 5, 6, 7, 8, 2, 6, 2, 7, 8, 1, 1, 7, 1, 2, 3, 4, 5, 6, 7, 8, 3, 6, 8, 1, 2, 3, 4, 5, 6, 7, 8, 1, 2, 3, 4, 5, 6, 7, 8, 5, 6, 1, 2, 3, 4, 5, 6, 7, 8, 5, 2, 3, 4, 5, 6, 7, 4, 5, 7, 5, 6, 8, 3, 7, 4, 7, 5, 4, 7, 8, 1, 3, 7, 8, 4, 1, 1, 2, 5, 3, 3, 8, 3, 1, 2, 3, 4, 5, 6, 7, 8, 1, 2, 3, 4, 5, 6, 7, 8, 1, 2, 3, 4, 5, 6, 7, 8, 8, 1, 2, 4, 6, 1, 2, 3, 4, 5, 6, 7, 8, 1, 3, 5, 6, 7, 8, 1, 2, 3, 4, 5, 6, 7, 8, 2, 4, 7, 8, 3, 2, 1, 2, 3, 4, 5, 6, 7, 8, 2, 3, 4, 5, 5, 1, 2, 3, 4, 5, 6, 7, 8, 2, 2, 5, 7, 8, 1, 2, 3, 4, 5, 6, 7, 8, 1, 2, 3, 4, 5, 6, 7, 8, 1, 2, 3, 4, 5, 6, 7, 8, 4, 7, 1, 6, 1, 2, 3, 4, 5, 6, 7, 8, 1, 2, 3, 4, 5, 6, 7, 8, 1, 2, 3, 4, 5, 6, 7, 8, 1, 2, 3, 4, 5, 6, 7, 8, 3, 3, 6, 6, 1, 2, 3, 4, 5, 6, 7, 8, 8, 1, 2, 3, 4, 5, 6, 7, 8, 1, 2, 3, 4, 5, 6, 7, 8, 1, 2, 3, 4, 5, 6, 8, 1, 2, 3, 4, 5, 6, 7, 8, 7, 2, 5, 7, 2, 4, 7, 2, 3, 4, 5, 6, 7, 8, 1, 2, 3, 4, 6, 7, 8, 1, 3, 4, 1, 2, 3, 4, 5, 6, 7, 5, 1, 4, 5, 6, 1, 2, 3, 1, 2, 3, 4, 1, 2, 3, 4, 3, 1, 2, 3, 4, 5, 6, 7, 8, 2, 4, 5, 2, 4, 2, 4, 6, 8, 1, 3, 7, 8, 1, 2, 3, 4, 1, 2, 3, 4, 5, 8, 3, 4, 5, 6, 7, 8, 2, 7, 8, 1, 2, 3, 4, 5, 6, 7, 8, 7, 1, 2, 3, 4, 5, 6, 7, 8, 5, 7, 4, 1, 2, 3, 4, 5, 6, 7, 8, 1, 2, 3, 4, 5, 6, 7, 8, 3, 5, 7], \"Freq\": [0.9083262835475088, 0.07821608798430839, 0.18771861116234015, 0.12514574077489343, 0.5944422686807438, 0.12046749246263047, 0.05220258006713987, 0.6183997946415031, 0.004015583082087682, 0.008031166164175364, 0.09637399397010438, 0.04818699698505219, 0.05220258006713987, 0.04309892865140887, 0.07183154775234812, 0.6033850011197243, 0.07901470252758293, 0.04309892865140887, 0.15802940505516586, 0.018901660037573355, 0.7749680615405076, 0.028352490056360032, 0.028352490056360032, 0.009450830018786677, 0.009450830018786677, 0.11340996022544013, 0.052379807097473814, 0.7449572564974053, 0.005819978566385979, 0.005819978566385979, 0.040739849964701855, 0.005819978566385979, 0.13967948559326349, 0.07206528781624698, 0.2729281113040843, 0.10119806374196384, 0.220795775437012, 0.02453286393744578, 0.07206528781624698, 0.14566387962858432, 0.09199823976542168, 0.05396357136266305, 0.05756114278684058, 0.49286728511232253, 0.10432957130114856, 0.039573285665952904, 0.05756114278684058, 0.11152471414950363, 0.08634171418026088, 0.03098281250053364, 0.9604671875165428, 0.9541576105508561, 0.03669836963657139, 0.9665772065589666, 0.8084223483104366, 0.013039070134039299, 0.01955860520105895, 0.1564688416084716, 0.9019952599700279, 0.11221160504493533, 0.8496021524830817, 0.03206045858426723, 0.3672039777091963, 0.05689075710987549, 0.1396409492696944, 0.26635218101441704, 0.03878915257491511, 0.09050802267480192, 0.012929717524971702, 0.028445378554937745, 0.4158324466300306, 0.0368883622010511, 0.051979055828753826, 0.1961790171601354, 0.020120924836936963, 0.1693511173775528, 0.06203951824722231, 0.048625568355930994, 0.8424275215761463, 0.1296042340886379, 0.06147899558021875, 0.8607059381230625, 0.9584166837558616, 0.9877367995850294, 0.9717030760981189, 0.02788657271604031, 0.02788657271604031, 0.8644837541972497, 0.05577314543208062, 0.9662757551599601, 0.9308615946169246, 0.9480063004989137, 0.8885828764841683, 0.0909782069908716, 0.9097820699087159, 0.09180321906225702, 0.8721305810914418, 0.04824355563537724, 0.9166275570721676, 0.8261727374625252, 0.943106689000874, 0.029472084031277313, 0.008174459678162126, 0.841969346850699, 0.01634891935632425, 0.08174459678162127, 0.02452337903448638, 0.008174459678162126, 0.008174459678162126, 0.9175838216903455, 0.8668044280256858, 0.09193380297242122, 0.039400201273894805, 0.05173811828397045, 0.15051088955336858, 0.037627722388342145, 0.23987673022568118, 0.09642103862012676, 0.06584851417959876, 0.13169702835919753, 0.22811806697932427, 0.05597702274994296, 0.07887671387491962, 0.16029783787483667, 0.20609722012479, 0.07633230374992223, 0.16029783787483667, 0.1730198884998237, 0.08650994424991185, 0.022244587078263874, 0.9342726572870828, 0.022244587078263874, 0.03378256645179778, 0.23647796516258449, 0.7094338954877535, 0.9785188556107147, 0.9475850538075621, 0.07866125809000307, 0.06292900647200246, 0.19552941296657905, 0.25396349040486704, 0.0809087226068603, 0.058434077438288, 0.20676673555086522, 0.06517647098885969, 0.9059539303187888, 0.03861920046197492, 0.03861920046197492, 0.8882416106254233, 0.006431432122957643, 0.594907471373582, 0.14470722276654696, 0.1350600745821105, 0.025725728491830573, 0.06431432122957643, 0.028941444553309395, 0.34556573356205483, 0.02635670849202113, 0.0907842181391839, 0.12299797296276528, 0.05564194014982239, 0.23428185326241008, 0.0790701254760634, 0.046856370652482014, 0.4477377430839061, 0.06770668310049312, 0.13541336620098623, 0.1921996165433353, 0.03276129827443215, 0.0655225965488643, 0.04804990413583383, 0.013104519309772862, 0.9023650922481712, 0.9237121866597602, 0.09183512310195842, 0.06887634232646882, 0.16071146542842724, 0.6887634232646882, 0.034722719935608014, 0.8912164783472724, 0.023148479957072008, 0.023148479957072008, 0.011574239978536004, 0.059417369023227626, 0.029708684511613813, 0.9209692198600282, 0.9729740044753089, 0.06737217891945006, 0.08180907440218936, 0.534165132861354, 0.014436895482739298, 0.028873790965478596, 0.19249193976985732, 0.07699677590794292, 0.004812298494246432, 0.9143888304926564, 0.5522007861115725, 0.014725354296308602, 0.055220078611157256, 0.07362677148154301, 0.06994543290746585, 0.18406692870385752, 0.036813385740771504, 0.01104401572223145, 0.16402662325783943, 0.7791264604747372, 0.9616797103451659, 0.0658015655710955, 0.921221917995337, 0.9625797744808753, 0.9469374531969402, 0.1395790363278009, 0.7909478725242051, 0.6934985380495903, 0.019627317114611045, 0.2551551224899436, 0.013084878076407364, 0.013084878076407364, 0.013084878076407364, 0.07973982984287326, 0.09113123410614087, 0.011391404263267608, 0.7973982984287326, 0.4261682464911137, 0.027793581292898717, 0.4817554090769111, 0.027793581292898717, 0.027793581292898717, 0.08816898588679312, 0.2852526013984483, 0.005186410934517242, 0.4408449294339656, 0.11928745149389658, 0.020745643738068968, 0.005186410934517242, 0.0363048765416207, 0.18997252624876304, 0.0292265424998097, 0.08767962749942909, 0.043839813749714546, 0.6137573924960037, 0.01461327124990485, 0.01461327124990485, 0.013275660822275106, 0.033189152055687766, 0.08629179534478819, 0.5575777545355545, 0.059740473700237974, 0.1261187778116135, 0.04646481287796287, 0.08629179534478819, 0.908888789063707, 0.040967320250838275, 0.28677124175586793, 0.008193464050167656, 0.012290196075251482, 0.16796601302843694, 0.09012810455184421, 0.35231895415720915, 0.040967320250838275, 0.9239898143973289, 0.20868509157153314, 0.01391233943810221, 0.7095293113432127, 0.01391233943810221, 0.05564935775240884, 0.1829134475667886, 0.7839147752862369, 0.11701326426500022, 0.8775994819875017, 0.3797301020935082, 0.23159363369439237, 0.004172858264763827, 0.004172858264763827, 0.2941865076658498, 0.004172858264763827, 0.05633358657431166, 0.02503714958858296, 0.04637661786646854, 0.1391298535994056, 0.7884025037299651, 0.03226721713651961, 0.12906886854607844, 0.7959246893674837, 0.021511478091013076, 0.9520619637146464, 0.19692382513627396, 0.0019692382513627395, 0.513971183605675, 0.009846191256813698, 0.003938476502725479, 0.14178515409811723, 0.061046385792244924, 0.07089257704905862, 0.04489693507217609, 0.8979387014435217, 0.21989458360530612, 0.29726490005902495, 0.07533425549441043, 0.06719001165717688, 0.06311788973856008, 0.1018030479654195, 0.09976698700611111, 0.07329819453510204, 0.9787997459413472, 0.003322845249658321, 0.8517559989957496, 0.003322845249658321, 0.06202644466028866, 0.0742102105757025, 0.004430460332877761, 0.0011076150832194402, 0.9197766204057661, 0.24064427894954712, 0.06907382080959223, 0.10472482509841403, 0.2250469645731876, 0.11140938840256812, 0.062389257505438146, 0.062389257505438146, 0.12255032724282493, 0.045623875902826155, 0.9352894560079362, 0.17127687178379924, 0.13494541413269032, 0.010380416471745408, 0.17646708001967196, 0.1141845811891995, 0.1193747894250722, 0.26989082826538063, 0.3454822542398501, 0.021151974749378577, 0.007050658249792859, 0.042303949498757154, 0.5711033182332216, 0.014101316499585717, 0.2511684454480725, 0.01487181584889903, 0.0512251434795411, 0.0033048479664220067, 0.021481511781743044, 0.6080920258216492, 0.0066096959328440135, 0.04296302356348609, 0.11505300079138392, 0.038351000263794635, 0.8245465056715847, 0.962547536854046, 0.9347194757312713, 0.032231706059699015, 0.6883976189648346, 0.011618525214596366, 0.1452315651824546, 0.008713893910947275, 0.023237050429192732, 0.11618525214596366, 0.0029046313036490915, 0.005809262607298183, 0.09465660729534679, 0.8519094656581211, 0.047328303647673396, 0.04527260462849143, 0.9054520925698285, 0.9171669764037194, 0.02958603149689417, 0.8756366914506812, 0.0648619771444949, 0.040841509751817016, 0.020420754875908508, 0.06126226462772552, 0.08168301950363403, 0.2654698133868106, 0.4288358523940786, 0.08168301950363403, 0.013613836583939004, 0.03865108241636469, 0.9276259779927526, 0.9666072324172724, 0.18687309053115456, 0.06423762487008439, 0.13723492585881664, 0.1430747099379152, 0.2890693119153797, 0.09927632934467587, 0.02627902835594361, 0.05255805671188722, 0.9775755399593742, 0.061693213743176295, 0.8945515992760562, 0.030846606871588148, 0.029332567985614254, 0.9679747435252704, 0.13693214138134335, 0.8215928482880601, 0.03608721287721596, 0.07217442575443192, 0.07217442575443192, 0.7939186832987511, 0.06812219784017692, 0.006592470758726799, 0.5625575047446868, 0.2527113790845273, 0.002197490252908933, 0.048344785563996524, 0.006592470758726799, 0.054937256322723324, 0.8426075541173469, 0.05266297213233418, 0.06582871516541772, 0.03949722909925064, 0.008982478994963627, 0.12575470592949078, 0.03592991597985451, 0.7185983195970902, 0.053894873969781765, 0.008982478994963627, 0.04491239497481814, 0.931640971728221, 0.048925793603232584, 0.9295900784614191, 0.07460046154922592, 0.19992923695192547, 0.005968036923938074, 0.5430913600783647, 0.06863242462528785, 0.026856166157721333, 0.06564840616331881, 0.014920092309845185, 0.09462280478843685, 0.01645613996320641, 0.48134209392378746, 0.06171052486202403, 0.02468420994480961, 0.07816666482523044, 0.15633332965046087, 0.08228069981603205, 0.10825912502373093, 0.14262710122174074, 0.2319838393365663, 0.13575350598213878, 0.06358075596631817, 0.06186235715641768, 0.16668468456034763, 0.08935673811482553, 0.28611234864980556, 0.01014582796630516, 0.34089981966785343, 0.07507912695065819, 0.048699974238264776, 0.06493329898435303, 0.10348744525631265, 0.07102079576413613, 0.02117906866992312, 0.27532789270900054, 0.10589534334961559, 0.5930139227578474, 0.22479870180110778, 0.17206814211936644, 0.02497763353345642, 0.17206814211936644, 0.3136080654756195, 0.055505852296569826, 0.016651755688970947, 0.022202340918627928, 0.9423324902247793, 0.9523705983767535, 0.8962581593589337, 0.022406453983973344, 0.022406453983973344, 0.022406453983973344, 0.2651519613384397, 0.06676488235140568, 0.1468827411730925, 0.19266437478548498, 0.10300867562788306, 0.09347083529196795, 0.03624379327647737, 0.09347083529196795, 0.21403400476829412, 0.04428289753826775, 0.1476096584608925, 0.007380482923044625, 0.04428289753826775, 0.059043863384357, 0.06642434630740163, 0.413307043690499, 0.011682995995460785, 0.05062631598033007, 0.10125263196066014, 0.4050105278426406, 0.019471659992434644, 0.0817809719682255, 0.15187894794099022, 0.17913927193039872, 0.9346063131312228, 0.9008992085899516, 0.045044960429497585, 0.03653066671963417, 0.9132666679908542, 0.981675839955731, 0.9144823854733558, 0.144424444665025, 0.019003216403292764, 0.06841157905185395, 0.03800643280658553, 0.019003216403292764, 0.1520257312263421, 0.3040514624526842, 0.2508424565234645, 0.9117162343805567, 0.4373868623677932, 0.2162362016200326, 0.2909359803614984, 0.027520971115276877, 0.0009828918255456026, 0.006880242778819219, 0.01867494468536645, 0.21312220760550063, 0.03278803193930779, 0.6721546547558097, 0.005464671989884632, 0.05464671989884631, 0.005464671989884632, 0.010929343979769263, 0.977838708693441, 0.9473569502398599, 0.8834786172138276, 0.09139433971177527, 0.04150414935670342, 0.9130912858474753, 0.8482586564993044, 0.021750221961520627, 0.021750221961520627, 0.08700088784608251, 0.9624742451989382, 0.9372325047407787, 0.8603050753065661, 0.011785001031596796, 0.011785001031596796, 0.11785001031596797, 0.021227828281412515, 0.07429739898494381, 0.04245565656282503, 0.06368348484423755, 0.6209139772313161, 0.005306957070353129, 0.164515669180947, 0.010613914140706258, 0.4746935887646339, 0.17626489876922066, 0.031413546315306656, 0.1291445792962607, 0.03664913736785776, 0.04886551649047702, 0.04886551649047702, 0.05235591052551109, 0.9502421367985137, 0.6937344381146897, 0.02569386807832184, 0.04037607840879146, 0.007341105165234812, 0.05138773615664368, 0.11745768264375699, 0.003670552582617406, 0.05872884132187849, 0.9250381090286935, 0.17895768973608936, 0.1596583310390601, 0.02982628162268156, 0.14562243380485704, 0.07193397332529082, 0.14386794665058164, 0.14562243380485704, 0.1245685879535524, 0.956015191559019, 0.21791619131143458, 0.009474617013540633, 0.009474617013540633, 0.009474617013540633, 0.0852715531218657, 0.6442739569207631, 0.018949234027081267, 0.009474617013540633, 0.06553519605655762, 0.27524782343754206, 0.08519575487352492, 0.11140983329614797, 0.1922365750992357, 0.05024365031002752, 0.10704082022571079, 0.11577884636658514, 0.06397241539130255, 0.06397241539130255, 0.009138916484471793, 0.6397241539130255, 0.06397241539130255, 0.009138916484471793, 0.10052808132918974, 0.054833498906830765, 0.03305582287610363, 0.17354307009954406, 0.04958373431415545, 0.03305582287610363, 0.6032687674888914, 0.09090351290928499, 0.6874206037833587, 0.005728505031527989, 0.06874206037833587, 0.04582804025222391, 0.022914020126111954, 0.1546696358512557, 0.011457010063055977, 0.8914981123011712, 0.05991268894939924, 0.13180791568867833, 0.14079481903108823, 0.041938882264579466, 0.46432333935784414, 0.08687339897662891, 0.020969441132289733, 0.05392142005445932, 0.9587529146824422, 0.08047696297242453, 0.130551517710822, 0.2557379045568157, 0.12339800989105093, 0.026825654324141506, 0.10730261729656602, 0.05186293169334025, 0.2235471193678459, 0.11955299825532918, 0.2676947569630197, 0.015593869337651632, 0.19752234494358734, 0.20272030138947122, 0.028588760452361327, 0.038984673344129084, 0.12994891114709695, 0.0040645464984158265, 0.26826006889544457, 0.02438727899049496, 0.08942002296514819, 0.40645464984158264, 0.07316183697148487, 0.04877455798098992, 0.08535547646673236, 0.97863577464631, 0.0299656372392708, 0.1273539582669009, 0.037457046549088505, 0.0898969117178124, 0.0149828186196354, 0.5019244237577859, 0.0224742279294531, 0.1797938234356248, 0.3651925359119723, 0.06819860610404303, 0.010999775178071457, 0.028599415462985785, 0.33879307548460086, 0.16279667263545755, 0.021999550356142913, 0.002199955035614291, 0.14353585807295105, 0.08736965274005716, 0.03744413688859593, 0.04368482637002858, 0.4930144690331797, 0.13729516859151839, 0.018722068444297964, 0.03120344740716327, 0.9355529261406071, 0.009236970170173503, 0.02771091051052051, 0.046184850850867515, 0.8775121661664828, 0.02771091051052051, 0.011919867165205182, 0.10727880448684664, 0.03575960149561555, 0.7628714985731316, 0.0715192029912311, 0.2207061694083574, 0.018675137411476396, 0.04583897364635115, 0.1850536343500843, 0.10356212564546001, 0.14770335952713148, 0.1833558945854046, 0.09677116658674133, 0.04190548329223392, 0.008381096658446784, 0.058667676609127486, 0.03352438663378714, 0.0502865799506807, 0.5112468961652538, 0.008381096658446784, 0.3017194797040842, 0.9034031455028027, 0.8330527574620715, 0.014362978576932268, 0.0430889357307968, 0.014362978576932268, 0.10054085003852586, 0.11953126122513193, 0.10757813510261872, 0.07171875673507916, 0.07171875673507916, 0.5737500538806333, 0.03585937836753958, 0.869224224273853, 0.05272809308507801, 0.10545618617015602, 0.09039101671727659, 0.5197483461243404, 0.11298877089659574, 0.007532584726439716, 0.030130338905758863, 0.09039101671727659, 0.07895105472538345, 0.1875087549727857, 0.074016613805047, 0.5033129738743195, 0.004934440920336466, 0.06414773196437407, 0.08388549564571993, 0.23481167904770905, 0.5165856939049599, 0.08087957833865535, 0.018263130592599593, 0.05739841043388444, 0.02087214924868525, 0.03913527984128484, 0.03652626118519919, 0.07331714006021142, 0.8798056807225371, 0.27719237652582146, 0.20063448205678502, 0.10031724102839251, 0.08711760405097245, 0.04223883832774422, 0.18743484507936498, 0.044878765723228235, 0.06071833009613231, 0.0474500741857157, 0.0474500741857157, 0.3796005934857256, 0.015816691395238565, 0.007908345697619282, 0.03163338279047713, 0.06326676558095426, 0.41123397627620273, 0.027748718732128808, 0.19424103112490165, 0.027748718732128808, 0.721466687035349, 0.10406775677425928, 0.05203387838712964, 0.10406775677425928, 0.728474297419815, 0.02601693919356482, 0.9195206223243556, 0.021384079607144533, 0.17107263685715626, 0.007128026535714844, 0.09266434496429297, 0.028512106142859376, 0.042768159214289066, 0.1140484245714375, 0.5203459371071836, 0.09502768257391567, 0.855249143165241, 0.9496909796114417, 0.04723387398609997, 0.9446774797219993, 0.02242248811108288, 0.07474162703694293, 0.08968995244433152, 0.2765440200366888, 0.02242248811108288, 0.007474162703694293, 0.029896650814777173, 0.47834641303643477, 0.028566079301740693, 0.9426806169574429, 0.949667578008517, 0.010118891335606443, 0.10118891335606443, 0.30693970384672875, 0.1787670802623805, 0.053967420456567695, 0.06745927557070962, 0.20912375426919982, 0.07420520312778059, 0.049369731206935434, 0.06732236073673013, 0.13913287885590894, 0.36354074797834274, 0.017952629529794702, 0.2513368134171258, 0.10771577717876822, 0.9399103973676125, 0.027644423451988604, 0.027644423451988604, 0.9318726494282814, 0.05177070274601563, 0.07611132201035288, 0.08524468065159523, 0.14308928537946342, 0.2192006073898163, 0.23442287179188687, 0.09742249217325169, 0.08524468065159523, 0.0608890576082823, 0.1544582206857489, 0.012871518390479076, 0.03861455517143723, 0.11584366551431169, 0.07722911034287445, 0.051486073561916305, 0.5277322540096421, 0.012871518390479076, 0.8996190888186393, 0.07711020761302623, 0.06143504409682043, 0.12594184039848189, 0.2549554330018048, 0.05529153968713839, 0.10136782275975371, 0.17816162788077924, 0.20580739772434845, 0.012287008819364086, 0.9138158647259532, 0.050767548040330734, 0.0645019275095949, 0.8385250576247337, 0.0645019275095949, 0.09393787288892952, 0.8767534802966754, 0.17392045715171023, 0.012276738151885428, 0.5524532168348443, 0.018415107227828142, 0.030691845379713572, 0.08798329008851224, 0.05524532168348443, 0.0695681828606841, 0.37635883232344375, 0.061790256053102705, 0.03370377602896511, 0.15728428813517054, 0.014043240012068796, 0.04493836803862015, 0.3117599282679273, 0.0028086480024137593, 0.00641665356306115, 0.881220422660398, 0.00641665356306115, 0.0128333071261223, 0.07913872727775419, 0.0021388845210203833, 0.008555538084081533, 0.0042777690420407665, 0.06251778291225933, 0.11331348152847003, 0.1015913972324214, 0.37119933604153976, 0.07423986720830796, 0.015629445728064833, 0.16801654157669693, 0.08596195150435658, 0.1271212415181101, 0.07214989383460303, 0.23019251842468588, 0.23019251842468588, 0.2611139014966586, 0.04809992922306869, 0.003435709230219192, 0.027485673841753537, 0.9403794454278104, 0.010221515711171853, 0.04088606284468741, 0.012278119251028334, 0.12585072232304043, 0.06446012606789875, 0.13505931176131167, 0.4696380613518338, 0.015347649063785418, 0.030695298127570835, 0.14733743101234, 0.9351237729653568, 0.0292226179051674, 0.94866322038146, 0.025639546496796218, 0.017093030997864144, 0.019127965402849532, 0.038255930805699064, 0.6694787890997336, 0.019127965402849532, 0.24866355023704392, 0.03040142033546222, 0.03040142033546222, 0.12160568134184888, 0.8208383490574799, 0.9458285455335467, 0.039409522730564445, 0.9579809479785846, 0.03616041265761953, 0.046491959131225113, 0.06715505207843628, 0.5579035095747014, 0.015497319710408372, 0.015497319710408372, 0.02066309294721116, 0.24795711536653395, 0.8919272581244049, 0.010145141312542967, 0.020290282625085934, 0.10145141312542967, 0.45653135906443354, 0.010145141312542967, 0.4058056525017187, 0.12447805171730711, 0.009575234747485162, 0.7277178408088724, 0.06702664323239614, 0.06702664323239614, 0.051816005451639134, 0.41095452599575866, 0.017867588086772114, 0.1429407046941769, 0.10363201090327827, 0.10184525209460106, 0.11613932256401875, 0.057176281877670765, 0.12875891792540084, 0.012875891792540083, 0.11588302613286075, 0.7468017239673248, 0.9577393342549342, 0.04164084061977975, 0.004827377486449386, 0.5615849142569452, 0.09011104641372186, 0.22849586769193758, 0.001609125828816462, 0.11263880801715233, 0.1125942035219831, 0.2251884070439662, 0.038974916603763385, 0.14723857383643946, 0.45470736037723947, 0.004330546289307043, 0.017322185157228172, 0.004330546289307043, 0.021055294931980013, 0.24564510753976682, 0.6737694378233604, 0.014036863287986675, 0.02807372657597335, 0.014036863287986675, 0.005701508768238977, 0.051313578914150795, 0.005701508768238977, 0.022806035072955907, 0.9179429116864753, 0.039204985172728885, 0.8625096738000354, 0.07840997034545777, 0.08712998542475019, 0.8712998542475019, 0.01814497126692936, 0.8709586208126092, 0.10886982760157615, 0.9651068087870317, 0.01359305364488777, 0.01359305364488777, 0.9650373721595676, 0.01756326034071592, 0.5971508515843413, 0.36882846715503437, 0.9409187593687148, 0.01046423096840649, 0.7429603987568608, 0.16742769549450384, 0.05232115484203245, 0.03139269290521947, 0.9632374051911708, 0.9770447748153379, 0.9174825472924393, 0.015078911559758133, 0.8142612242269391, 0.1357102040378232, 0.030157823119516265, 0.027749986254084133, 0.9434995326388605, 0.013874993127042066, 0.013874993127042066, 0.9327399277208838, 0.950946552964785, 0.9312018378456712, 0.9195699666846461, 0.9498283253794658, 0.9111144274354382, 0.060740961829029216, 0.5422099987216431, 0.016944062460051347, 0.18299587456855457, 0.020332874952061618, 0.11860843722035944, 0.040665749904123236, 0.07455387482422593, 0.9510336650189197, 0.9089443669438584, 0.06378556961009532, 0.01594639240252383, 0.9406445833376466, 0.023516114583441165, 0.023516114583441165, 0.9455552506131606, 0.023076221170521043, 0.023076221170521043, 0.8768964044797997, 0.06922866351156313, 0.023076221170521043, 0.9596634230911072, 0.06569830687858402, 0.5800221950137846, 0.0488044565383767, 0.1276424247926775, 0.022525133786943093, 0.005631283446735773, 0.10136310204124391, 0.0488044565383767, 0.921694020028339, 0.16803695138378164, 0.056012317127927216, 0.028006158563963608, 0.014003079281981804, 0.12602771353783623, 0.6021324091252176, 0.9384832489876261, 0.8677185754775248, 0.9677810501156516, 0.925801397886886, 0.014727363569373287, 0.16200099926310615, 0.13990995390904623, 0.014727363569373287, 0.5191395658204083, 0.06259129516983647, 0.07731865873920976, 0.007363681784686643, 0.0537044159548233, 0.31148561253797513, 0.01611132478644699, 0.02148176638192932, 0.3974126780656924, 0.03759309116837631, 0.02685220797741165, 0.13963148148254056, 0.05246474984677126, 0.9443654972418828, 0.006469953361868106, 0.847563890404722, 0.006469953361868106, 0.05822958025681296, 0.07116948698054917, 0.8643907259458605, 0.06286478006878986, 0.04714858505159239, 0.015716195017197464, 0.9665968568458186, 0.9430263321215039, 0.19163181737467383, 0.06754236186156537, 0.3487070775178491, 0.07696687747015588, 0.03612730983293031, 0.042410320238657324, 0.16178751794747054, 0.07539612486872413, 0.008661930801144302, 0.008661930801144302, 0.06929544640915442, 0.04330965400572151, 0.8488692185121416, 0.008661930801144302, 0.12804065438954065, 0.25059385216238667, 0.2103525036399596, 0.15364878526744877, 0.08231184925041898, 0.06402032719477033, 0.045728805139121656, 0.06767863160590006, 0.6760291495901207, 0.035580481557374775, 0.026685361168031083, 0.004447560194671847, 0.08005608350409325, 0.16455972720285836, 0.008895120389343694, 0.004447560194671847, 0.919606080692912, 0.3080209808424829, 0.0775756544344031, 0.05247764858797857, 0.1300533030223817, 0.015971458265906523, 0.18253095161036026, 0.16884113023958322, 0.0661674699587556, 0.019187308642795116, 0.6907431111406243, 0.012791539095196746, 0.11512385185677071, 0.044770386833188604, 0.03517673251179105, 0.0703534650235821, 0.006395769547598373, 0.19900191600323952, 0.02985028740048593, 0.7562072808123103, 0.009950095800161976, 0.3294730101153007, 0.51021248994998, 0.0771908195127276, 0.01694432623450118, 0.007530811659778302, 0.01694432623450118, 0.03953676121383609, 0.9390337394928078, 0.10948753300715827, 0.0640902632237024, 0.3097696055812283, 0.2563610528948096, 0.0640902632237024, 0.06141983558938147, 0.06676069085802333, 0.06676069085802333, 0.07698062026166246, 0.054986157329758895, 0.2859280181147463, 0.06231764497372675, 0.13746539332439722, 0.10080795510455798, 0.10264082701554994, 0.17778857536622042, 0.9236675386415818, 0.006323298772492788, 0.7651191514716273, 0.03161649386246394, 0.06955628649742067, 0.06323298772492789, 0.006323298772492788, 0.050586390179942306, 0.012646597544985577, 0.09023484432889223, 0.8014977349213369, 0.042463456154772816, 0.010615864038693204, 0.02653966009673301, 0.005307932019346602, 0.010615864038693204, 0.015923796058039806, 0.9230526315946546, 0.9726508099347905, 0.15650372677106095, 0.03912593169276524, 0.7825186338553047, 0.8480564159460008, 0.08326335133210049, 0.011894764476014353, 0.011894764476014353, 0.8802125712250622, 0.9609059249323771, 0.026691831248121585, 0.03808545500616595, 0.4951109150801573, 0.061888864385019664, 0.19280761596871512, 0.023803409378853717, 0.04284613688193669, 0.07141022813656116, 0.07379056907444652, 0.9319408998281747, 0.9241225372363582, 0.1271516067760029, 0.005528330729391431, 0.504460179056968, 0.029023736329305008, 0.006910413411739288, 0.24324655209322293, 0.008292496094087146, 0.0746324648467843, 0.15821793157916578, 0.7302366072884575, 0.018255915182211438, 0.04868244048589716, 0.03042652530368573, 0.01217061012147429, 0.9060504182540372, 0.023232062006513773, 0.023232062006513773, 0.023232062006513773, 0.054862631788542615, 0.9326647404052245, 0.877378317907989, 0.7746221672025174, 0.03873110836012587, 0.03873110836012587, 0.09682777090031468, 0.019365554180062933, 0.917939785834177, 0.03530537637823758, 0.9490180241585369, 0.9200866711854234, 0.020911060708759623, 0.041822121417519245, 0.15036146185397517, 0.16289158367513976, 0.056385548195240685, 0.13469880957751942, 0.28819280188678575, 0.05951807865053184, 0.10337350502460793, 0.04698795682936724, 0.13776750752482822, 0.060483295986509956, 0.470425635450633, 0.03696201421397831, 0.07728421153831827, 0.047042563545063296, 0.12096659197301991, 0.047042563545063296, 0.9170389873434206, 0.04826520986018003, 0.024132604930090014, 0.95723483252618, 0.18785065574989784, 0.09508489982402236, 0.07189346084255349, 0.13682948999066633, 0.19016979964804473, 0.09740404372216925, 0.1553826411758414, 0.06725517304625972, 0.08998926805839735, 0.8698962578978411, 0.055078818184150356, 0.6939931091202944, 0.12117340000513079, 0.022031527273660142, 0.08812610909464057, 0.9829456954491044, 0.13074620323140948, 0.35658055426748037, 0.13414220851014738, 0.10867216891961307, 0.07131611085349608, 0.0781081214109719, 0.05263808182043758, 0.06792010557475817, 0.3275178526382524, 0.028983880764447117, 0.0028983880764447117, 0.04347582114667067, 0.38548561416714666, 0.011593552305778847, 0.19998877727468511, 0.0028983880764447117, 0.9577157923363345, 0.046664711151473054, 0.7621902821407266, 0.07777451858578843, 0.015554903717157686, 0.09332942230294611, 0.9560183653305874, 0.9213304151220091, 0.9753378146571857, 0.9198714390755602, 0.8481033089839395, 0.05300645681149622, 0.07950968521724433, 0.013251614202874054, 0.015913202968249978, 0.9707053810632487, 0.9163809290358607, 0.050910051613103365, 0.9624591017798787, 0.9477444611766768, 0.09754184486281109, 0.08128487071900924, 0.016256974143801846, 0.11379881900661293, 0.6177650174644702, 0.048770922431405545, 0.03251394828760369, 0.9607557193703923, 0.012980760094963113, 0.060576880443161195, 0.05192304037985245, 0.33749976246904095, 0.18605756136113794, 0.060576880443161195, 0.030288440221580597, 0.26394212193091665, 0.24941276368457646, 0.02040649884691989, 0.11563682679921272, 0.12470638184228823, 0.09523032795229283, 0.21313454351227443, 0.10203249423459945, 0.08162599538767956, 0.059451640512832124, 0.46372279600009053, 0.07609809985642511, 0.13079360912823065, 0.0927445592000181, 0.04280518116923913, 0.04993937803077898, 0.08085423109745168, 0.9179834500629688, 0.03824931041929036, 0.3089890055014972, 0.021557372476848642, 0.18683056146602156, 0.010778686238424321, 0.057486326604929715, 0.27665294678622426, 0.010778686238424321, 0.12934423486109187, 0.9251263039854059, 0.06503338391719368, 0.8904571028661904, 0.005002567993630283, 0.010005135987260567, 0.005002567993630283, 0.005002567993630283, 0.020010271974521134, 0.03411072199091952, 0.9380448547502866, 0.10381029495838505, 0.8304823596670804, 0.0957099086394324, 0.8613891777548917, 0.9187570827821608, 0.950898894602455, 0.9811333012216489, 0.028938395731826636, 0.2532109626534831, 0.6728177007649693, 0.028938395731826636, 0.007234598932956659, 0.007234598932956659, 0.9415215925481639, 0.9660679323718863, 0.5627712142114355, 0.019473052394859358, 0.04284071526869059, 0.015578441915887488, 0.0759449043399515, 0.20446705014602326, 0.031156883831774975, 0.05257724146612027, 0.9238133818757079, 0.8627830755129654, 0.029524896120215548, 0.00984163204007185, 0.013122176053429132, 0.03280544013357283, 0.016402720066786416, 0.003280544013357283, 0.03280544013357283, 0.19922046079901978, 0.01373934212407033, 0.006869671062035165, 0.7625334878859034, 0.006869671062035165, 0.006869671062035165, 0.01128389982205998, 0.7955149374552286, 0.00564194991102999, 0.07334534884338988, 0.09591314848750983, 0.01128389982205998, 0.00564194991102999, 0.8755872458114858, 0.017511744916229716, 0.08755872458114858, 0.13327626809455384, 0.23258015412579003, 0.15156908920557102, 0.07839780476150225, 0.22212711349092304, 0.047038682856901354, 0.08101106492021899, 0.054878463333051575, 0.9809230129466497, 0.9158902092469068, 0.006995604559944722, 0.25883736871795476, 0.006995604559944722, 0.05596483647955778, 0.6366000149549698, 0.02798241823977889, 0.2193742337248328, 0.01687494105575637, 0.03374988211151274, 0.13499952844605095, 0.008437470527878185, 0.1096871168624164, 0.47249834956117837, 0.9154795031432407, 0.9516744547291682, 0.9523103445996713, 0.024492508388962338, 0.1904972874697071, 0.04354223713593305, 0.06259196588290375, 0.14695505033377404, 0.021771118567966524, 0.3156812192355146, 0.1932186772907029, 0.9477955200596595, 0.952692021927235, 0.8818615346723114, 0.046413764982753236, 0.01547125499425108, 0.046413764982753236, 0.9395812966021689, 0.01879162593204338, 0.01879162593204338, 0.9248419146830379, 0.006491166959204203, 0.006491166959204203, 0.9801662108398346, 0.928328392440035, 0.93267998668462, 0.9196128705462097, 0.21871397021124683, 0.10430973963921003, 0.043742794042249365, 0.12954596697127696, 0.11776906088297906, 0.17328876101352633, 0.10767456995015229, 0.10262732448373889, 0.06670414545787118, 0.8671538909523253, 0.07446793013383107, 0.014893586026766215, 0.7744664733918432, 0.044680758080298644, 0.07446793013383107, 0.9445512290268896, 0.0939319714186866, 0.09874899559400387, 0.09634048350634523, 0.24566823294118034, 0.16377882196078689, 0.1324681648212247, 0.04817024175317262, 0.12042560438293154, 0.07091569146362078, 0.07091569146362078, 0.8509882975634494, 0.9614502565785371, 0.04956316922979822, 0.8590949333165024, 0.0826052820496637, 0.9435379173558001, 0.5123051407615475, 0.04318851477350256, 0.08339851128676355, 0.03425295999277789, 0.04467777390362333, 0.1399903582313531, 0.041699255643381776, 0.09978036171809211, 0.38601931918075055, 0.0655980542398661, 0.11605809596284003, 0.08578207092905568, 0.0630750521537174, 0.09082807510135307, 0.06055205006756872, 0.1286731063935835, 0.9409394021831898, 0.019602904212149788, 0.039205808424299576, 0.01759215497687159, 0.10555292986122954, 0.01759215497687159, 0.07036861990748636, 0.12314508483810112, 0.686094044097992, 0.9257079261952394, 0.04872146979974945, 0.18795859605920154, 0.030073375369472247, 0.16164439261091335, 0.1090159857143369, 0.011277515763552093, 0.39471305172432325, 0.030073375369472247, 0.07518343842368062, 0.8597427716254687, 0.16642749578501392, 0.0601971793264944, 0.669250993688673, 0.007082021097234635, 0.0035410105486173176, 0.021246063291703907, 0.007082021097234635, 0.06727920042372904, 0.9257690475130539, 0.15113384366706473, 0.18891730458383088, 0.003148621743063848, 0.31801079604944865, 0.12594486972255392, 0.05037794788902157, 0.07241830009046851, 0.08816140880578775, 0.9273029376191673, 0.327947489872553, 0.010494319675921696, 0.3371300195889845, 0.04984801846062806, 0.01311789959490212, 0.16922090477423735, 0.06034233813654975, 0.030171169068274876, 0.09984372775424089, 0.009984372775424088, 0.20967182828390585, 0.09984372775424089, 0.5191873843220526, 0.05990623665254453, 0.029981974529989505, 0.9294412104296746, 0.029981974529989505, 0.011135031033488063, 0.9353426068129973, 0.011135031033488063, 0.011135031033488063, 0.022270062066976126, 0.011135031033488063, 0.01089649614360382, 0.5811464609922037, 0.08717196914883056, 0.06901114224282419, 0.09806846529243438, 0.0036321653812012734, 0.13439011910444712, 0.01089649614360382, 0.9075999921836321, 0.029277419102697808, 0.029277419102697808, 0.029277419102697808, 0.7989358087255871, 0.06391486469804697, 0.02130495489934899, 0.031957432349023485, 0.04260990979869798, 0.031957432349023485, 0.9049317454854646, 0.8978636530306381, 0.9389474095499947, 0.04544529757240726, 0.2272264878620363, 0.011361324393101816, 0.02272264878620363, 0.03408397317930545, 0.1476972171103236, 0.48853694890337807, 0.02272264878620363, 0.9312953466156357, 0.28412541459041096, 0.005858255970936308, 0.46280222170396834, 0.02343302388374523, 0.02343302388374523, 0.05272430373842677, 0.076157327622172, 0.0702990716512357, 0.020685351022791933, 0.8894700939800531, 0.006895117007597311, 0.041370702045583865, 0.013790234015194622, 0.027580468030389244, 0.021832071295171743, 0.007277357098390581, 0.7859545666261828, 0.05094149968873407, 0.06549621388551523, 0.07277357098390581, 0.12346385830180918, 0.05944556140457479, 0.027436412955957598, 0.10288654858484099, 0.16233210998941577, 0.1531866390040966, 0.2995141747692038, 0.06859103238989399, 0.9505747182147213, 0.2557955309701598, 0.1039169344566274, 0.1492140597325932, 0.05062619883784412, 0.03996805171408746, 0.21316294247513315, 0.11457508158038406, 0.07194249308535744, 0.035417613461998974, 0.9208579500119733, 0.058008762169723324, 0.9281401947155732, 0.9242917973773942, 0.036246737152054676, 0.018123368576027338, 0.1424366050889295, 0.7691576674802193, 0.0854619630533577, 0.1897047395648103, 0.08009755670514213, 0.1349011481349762, 0.08009755670514213, 0.016862643516872024, 0.3119589050621325, 0.10117586110123215, 0.08431321758436013, 0.031829383330342964, 0.018188219045910264, 0.6820582142216349, 0.004547054761477566, 0.009094109522955132, 0.027282328568865394, 0.04547054761477566, 0.18642924522058021, 0.10187591463088023, 0.7335065853423377, 0.14262628048323234, 0.042697209735628065, 0.3131128713946058, 0.07116201622604677, 0.5692961298083742, 0.03827526417286203, 0.03827526417286203, 0.1339634246050171, 0.7846429155436715, 0.019137632086431013, 0.978032215762584, 0.08892667913703145, 0.8892667913703145, 0.3241101912974297, 0.026774320150657234, 0.13809912498760046, 0.26351567727225805, 0.09864223213400033, 0.036638543364057266, 0.031001844384971534, 0.0803229604519717, 0.9232020090527733, 0.11186135078705979, 0.055930675393529895, 0.8389601309029484, 0.1120336503987048, 0.013027168651012187, 0.500243276198868, 0.005210867460404875, 0.007816301190607312, 0.23448903571821936, 0.036476072222834124, 0.08597931309668043, 0.9705350158300102, 0.7716420865192609, 0.023621696526099824, 0.007873898842033274, 0.039369494210166375, 0.015747797684066547, 0.13385628031456567, 0.9777906876057101, 0.013580426216745973, 0.8684784266625716, 0.5076490442580489, 0.0669427311109515, 0.05020704833321363, 0.12551762083303408, 0.052996328796169945, 0.13946402314781564, 0.03904992648138838, 0.016735682777737876, 0.9202253375434561, 0.08305935829741311, 0.830593582974131, 0.0959374226482736, 0.04111603827783154, 0.2512646783645261, 0.018273794790147353, 0.09136897395073676, 0.20101174269162086, 0.059389833067978896, 0.23755933227191559, 0.07475028023344561, 0.09673565677269433, 0.004397075307849742, 0.20666253946893787, 0.03957367777064768, 0.017588301231398967, 0.04397075307849742, 0.5144578110184198, 0.068158952304906, 0.920145856116231, 0.08332739716417104, 0.7869809732171709, 0.027775799054723677, 0.055551598109447355, 0.04629299842453946, 0.9687246501148192, 0.004105360710893276, 0.2504270033644898, 0.016421442843573105, 0.31611277473878224, 0.028737524976252933, 0.004105360710893276, 0.08621257492875879, 0.2955859711843159, 0.03638650731728169, 0.18713060906030585, 0.09356530453015292, 0.15074410174302413, 0.18193253658640846, 0.101362413240999, 0.1663383191647163, 0.08057012334540946, 0.019370933384265765, 0.9298048024447568, 0.03874186676853153, 0.02964784361199663, 0.8894353083598989, 0.05929568722399326, 0.6164157858158716, 0.002475565404883019, 0.3193479372299094, 0.027231219453713207, 0.0012377827024415095, 0.003713348107324528, 0.028469002156154714, 0.026031301564892882, 0.7201993432953697, 0.00867710052163096, 0.23428171408403595, 0.00867710052163096, 0.00867710052163096, 0.9499630430292579, 0.09814742936910625, 0.018402643006707423, 0.7667767919461426, 0.006134214335569141, 0.006134214335569141, 0.030671071677845704, 0.018402643006707423, 0.04907371468455313, 0.04734071153485244, 0.8166272739762046, 0.03550553365113933, 0.01183517788371311, 0.01183517788371311, 0.05917588941856555, 0.01183517788371311, 0.9252716170126026, 0.08327440173943179, 0.059097962524758046, 0.23907812112288482, 0.1477449063118951, 0.0349215233100843, 0.15848999040730566, 0.0698430466201686, 0.2095291398605058, 0.9078593308120417, 0.8836201870843596, 0.9199686290743986, 0.017388297212237856, 0.05216489163671357, 0.8172499689751792, 0.08694148606118927, 0.31743578498154557, 0.22759546847733456, 0.20363805074287827, 0.0029946772168070335, 0.029946772168070335, 0.1706966013580009, 0.04791483546891254, 0.8885168216625101, 0.17315340345205732, 0.12571411483505532, 0.12334215040420522, 0.26328805182436116, 0.09725054166485411, 0.08301875507975351, 0.05218321747870221, 0.08301875507975351, 0.19101655175411844, 0.11460993105247107, 0.07640662070164737, 0.03056264828065895, 0.5119243587010374, 0.03820331035082369, 0.022921986210494214, 0.25750723731550235, 0.6124496455071408, 0.027838620250324582, 0.09047551581355488, 0.0069596550625811455, 0.0069596550625811455, 0.3624342750522549, 0.0378662675427729, 0.06761833489780875, 0.052742301220290826, 0.08384673527328285, 0.20961683818320712, 0.11495116932627487, 0.07032306829372109, 0.5416125561562922, 0.03169009637084688, 0.21606883889213785, 0.02304734281516137, 0.02304734281516137, 0.10659396052012134, 0.005761835703790343, 0.054737439186008256, 0.025431164746890705, 0.8341422036980151, 0.005086232949378141, 0.025431164746890705, 0.08137972719005025, 0.020344931797512563, 0.005086232949378141, 0.20882592550527312, 0.020882592550527313, 0.05916734555982738, 0.13225641948667297, 0.28191499943211873, 0.1809824687712367, 0.09049123438561835, 0.027843456734036414, 0.9756428218044465, 0.25763393599924506, 0.09512637636895203, 0.08719917833820602, 0.11098077243044403, 0.04756318818447602, 0.09116277735357903, 0.07927198030746002, 0.22988874289163408, 0.8695335947541621, 0.936318584065896, 0.9564637351023092, 0.01427557813585536, 0.01427557813585536, 0.13583124621844161, 0.07428271277571026, 0.023345995443794655, 0.13370888299627848, 0.16342196810656257, 0.06579325988705766, 0.15493251521791, 0.24831649699308858, 0.2572297343463635, 0.025722973434636347, 0.11575338045586356, 0.09003040702122721, 0.5015979819754087, 0.2687508283159518, 0.01679692676974699, 0.05878924369411446, 0.03359385353949398, 0.03359385353949398, 0.5794939735562711, 0.008398463384873494, 0.008398463384873494, 0.8113655599320296, 0.023517842316870426, 0.12934813274278734, 0.023517842316870426, 0.006156788867173372, 0.7141875085921112, 0.036940733203040234, 0.12313577734346745, 0.036940733203040234, 0.012313577734346744, 0.061567888671733725, 0.006156788867173372, 0.40534081238159986, 0.009007573608479997, 0.07206058886783998, 0.009007573608479997, 0.009007573608479997, 0.4683938276409598, 0.018015147216959994, 0.018015147216959994, 0.15798032847166557, 0.17294688590582336, 0.2660721321628052, 0.12139541029927986, 0.08481049212689415, 0.08647344295291168, 0.07815868882282402, 0.03325901652035065, 0.174852115765966, 0.05914115680319438, 0.2134224354202232, 0.23913598185639467, 0.0771406393085144, 0.07971199395213156, 0.06171251144681153, 0.09514012181383444, 0.17433899332707323, 0.1844749813112054, 0.15609421495563533, 0.06081592790479299, 0.10946867022862738, 0.08311510146988375, 0.11149586782545381, 0.1175774606159331, 0.10803592903095295, 0.02160718580619059, 0.842680246441433, 0.02160718580619059, 0.016924964641448662, 0.1353997171315893, 0.6939235502993951, 0.15232468177303796, 0.08944210115631347, 0.7006297923911222, 0.022360525289078368, 0.007453508429692789, 0.022360525289078368, 0.08198859272662068, 0.07453508429692789, 0.159633095019047, 0.37703816728308237, 0.14747057349378626, 0.07297512915156433, 0.0623329228169612, 0.027365673431836626, 0.11706426968063445, 0.03496724938512458, 0.8344356919487356, 0.12760660654403866, 0.29465525511078017, 0.11136576571116101, 0.23665225213621713, 0.1345669669009862, 0.027841441427790253, 0.032481681665755296, 0.03480180178473782, 0.14951821547448638, 0.10387581285595894, 0.39976449190020563, 0.07554604571342469, 0.10230193690359593, 0.04879015452325344, 0.05193790642797947, 0.06767666595160962, 0.031003912162365883, 0.8681095405462447, 0.062007824324731765, 0.5504607558346563, 0.023647478770939888, 0.18786608134691135, 0.06305994338917303, 0.03152997169458652, 0.04992245518309532, 0.051236204003703094, 0.04203996225944869, 0.8354795508952028, 0.013696386080249225, 0.05935100634774664, 0.03652369621399793, 0.009130924053499483, 0.04565462026749742, 0.009130924053499483, 0.9289359641718512, 0.05374009710085089, 0.11410933388700295, 0.028527333471750738, 0.028527333471750738, 0.028527333471750738, 0.7987653372090207, 0.06443928919893244, 0.468974826947786, 0.21658761091863402, 0.07517917073208784, 0.06980922996551013, 0.03579960511051802, 0.02505972357736261, 0.04295952613262162, 0.9004557874689735, 0.020010128610421632, 0.020010128610421632, 0.0600303858312649, 0.07765197843706033, 0.2227720692866485, 0.14002815783732192, 0.22531803579278162, 0.17949063868238538, 0.043281430604263135, 0.07383302867786065, 0.038189497591996885, 0.9344154806352131, 0.03460798076426715, 0.04784938110026491, 0.9091382409050333, 0.09561426296985154, 0.7967855247487629, 0.021247613993300343, 0.031871420989950515, 0.04249522798660069, 0.5019034874795945, 0.007581623677939494, 0.03942444312528536, 0.1137243551690924, 0.016679572091466886, 0.224416060867009, 0.07581623677939493, 0.02122854629823058, 0.3424643647655177, 0.08219144754372425, 0.054794298362482834, 0.013698574590620708, 0.5068472598529662, 0.02600725248149089, 0.02600725248149089, 0.936261089333672, 0.02600725248149089, 0.9174929933361063, 0.02352546136759247, 0.04705092273518494, 0.854460008871072, 0.19036134577268415, 0.08158343390257893, 0.707056427155684, 0.9706287597796436, 0.01058529771449655, 0.30697363372039993, 0.005292648857248275, 0.35725379786425854, 0.19582800771818615, 0.01852427100036896, 0.0026463244286241373, 0.10585297714496548, 0.06449232337041046, 0.0024804739757850174, 0.6722084474377397, 0.07689469324933554, 0.05208995349148537, 0.1289846467408209, 0.5754187269515365, 0.10960356703838792, 0.13015423585808564, 0.01370044587979849, 0.06850222939899245, 0.04110133763939547, 0.05480178351919396, 0.010275334409848867, 0.9532202122358476, 0.6970630810577781, 0.10763474045745104, 0.0717564936383007, 0.015376391493921577, 0.05125463831307193, 0.025627319156535964, 0.005125463831307193, 0.02050185532522877, 0.9653133644677325, 0.01599342992009924, 0.6597289842040935, 0.00799671496004962, 0.10795565196066986, 0.11595236692071947, 0.01599342992009924, 0.07197043464044657, 0.00799671496004962, 0.06731601257279264, 0.8751081634463043, 0.0788895390243143, 0.06311163121945144, 0.04733372341458858, 0.04733372341458858, 0.0788895390243143, 0.568004680975063, 0.11044535463404002, 0.9495510567955501, 0.049059404222074936, 0.0695008226479395, 0.06132425527759367, 0.22485560268451013, 0.15126649635139772, 0.29844470901762254, 0.10629537581449569, 0.0367945531665562, 0.9122601232970898, 0.9286708730707484, 0.061792945671496756, 0.061792945671496756, 0.8033082937294578, 0.9754750662956436, 0.9363427568784756, 0.034679361365869465, 0.07059732038750693, 0.0030694487125003016, 0.6200286399250609, 0.018416692275001808, 0.027625038412502714, 0.02148614098750211, 0.08901401266250875, 0.14733353820001446, 0.9089962860235552, 0.025971322457815863, 0.051942644915631726, 0.026339853448932946, 0.07375158965701224, 0.13169926724466471, 0.26866650517911606, 0.03687579482850612, 0.005267970689786589, 0.1949149155221038, 0.26866650517911606, 0.06918203972890215, 0.08455582633532485, 0.11914684619977593, 0.23060679909634052, 0.08455582633532485, 0.034591019864451074, 0.29978883882524265, 0.08071237968371918, 0.9379514570194145, 0.034738942852570905, 0.012629854562964296, 0.08209405465926793, 0.003157463640741074, 0.37731690506855836, 0.49572179159634866, 0.014208586383334833, 0.009472390922223222, 0.004736195461111611, 0.945470040889444, 0.0281672258585691, 0.0093890752861897, 0.18778150572379398, 0.6384571194608996, 0.0093890752861897, 0.1314470540066558, 0.11982177791621529, 0.08986633343716147, 0.7788415564553993, 0.04756870537625196, 0.04756870537625196, 0.8562366967725353, 0.1683041961258506, 0.8041200481568418, 0.0768330752896581, 0.8835803658310681, 0.9425586078104445, 0.05407017522431502, 0.05407017522431502, 0.8110526283647252, 0.009049169636659974, 0.9411136422126372, 0.018098339273319948, 0.018098339273319948, 0.8942142676890588, 0.9476089431516023, 0.016392625462758676, 0.9179870259144858, 0.049177876388276025, 0.9391782550319219, 0.9676958356302297, 0.01466205811560954, 0.9200587669109574, 0.020769471353405518, 0.7840475435910582, 0.06750078189856792, 0.0778855175752707, 0.010384735676702759, 0.020769471353405518, 0.020769471353405518, 0.0051923678383513795, 0.19332378424985597, 0.19704154933158397, 0.25466690809836795, 0.09108524450233597, 0.03160100319468799, 0.057625358766783985, 0.08550859687974398, 0.08922636196147198, 0.05230003291473552, 0.08498755348644522, 0.1732438590300614, 0.10460006582947104, 0.01307500822868388, 0.07191254525776133, 0.5001190647471584, 0.00326875205717097, 0.8400066924865193, 0.8382291457303688, 0.028904453301047198, 0.007226113325261799, 0.11561781320418879, 0.006634555773980521, 0.09951833660970781, 0.08403770647041993, 0.38480423489087023, 0.15259478280155198, 0.04423037182653681, 0.08403770647041993, 0.14596022702757147, 0.1632758087316146, 0.06122842827435548, 0.01530710706858887, 0.6428984968807325, 0.0816379043658073, 0.03571658316004069, 0.19095414667948163, 0.11315801284710023, 0.09547707333974081, 0.1414475160588753, 0.0777961338323814, 0.34301022644277257, 0.0388980669161907, 0.003536187901471882, 0.1888524992148476, 0.557973293134777, 0.1030104541171896, 0.1373472721562528, 0.9124456375641306, 0.9135707560669643, 0.1573665651566093, 0.0361762218750826, 0.4648644510948114, 0.09586698796896888, 0.04883789953136151, 0.07597006593767346, 0.04341146625009912, 0.07958768812518172, 0.8780327652993261, 0.01567915652320225, 0.0313583130464045, 0.062716626092809, 0.9096636915624572, 0.6916344546581228, 0.07342694552877331, 0.04263500062961031, 0.04026638948352084, 0.07105833438268384, 0.061583889798326, 0.0023686111460894613, 0.01658027802262623, 0.9245229573754405, 0.05471133910926474, 0.03647422607284316, 0.21884535643705896, 0.6747731823475985, 0.06257612974727834, 0.1251522594945567, 0.09177832362934157, 0.1251522594945567, 0.1251522594945567, 0.041717419831518894, 0.05840438776412645, 0.3671132945173663, 0.08534334501437059, 0.4825778236267137, 0.15827311257210544, 0.06517128164733754, 0.05275770419070182, 0.06051619010109914, 0.010861880274556257, 0.08223995065021165, 0.05072651690598986, 0.045653865215390874, 0.030435910143593918, 0.08623507874018277, 0.045653865215390874, 0.2840684946735432, 0.3449403149607311, 0.12174364057437567, 0.06896357560235147, 0.9195143413646862, 0.056590410624504796, 0.9054465699920767, 0.037188536684803104, 0.14875414673921242, 0.11953458220115283, 0.17000473913052846, 0.1381288505435544, 0.172661063179443, 0.058439129076119166, 0.15672311888595594, 0.011952842290260031, 0.07570133450498019, 0.10757558061234028, 0.07171705374156019, 0.10359129984892027, 0.2231197227515206, 0.00796856152684002, 0.40241235710542106, 0.00685634010255957, 0.00685634010255957, 0.06170706092303613, 0.21254654317934665, 0.01371268020511914, 0.01371268020511914, 0.6102142691278017, 0.0685634010255957, 0.2088117624813372, 0.07830441093050146, 0.13572764561286918, 0.08874499905456831, 0.10962617530270204, 0.02610147031016715, 0.03654205843423401, 0.31321764372200583, 0.9047300698774313, 0.8329293998342867, 0.141440841481294, 0.9298496882507139, 0.3166410156135598, 0.3294778135438392, 0.029952528503985384, 0.019255196895419175, 0.1497626425199269, 0.07060238861653698, 0.014976264251992692, 0.06846292229482373, 0.9594259504130155, 0.008325174041746129, 0.4828600944212755, 0.005550116027830752, 0.13597784268185342, 0.30803143954460677, 0.02220046411132301, 0.019425406097407633, 0.016650348083492257, 0.05620885871993111, 0.17143701909578987, 0.227645877815721, 0.12365948918384843, 0.03653575816795522, 0.08993417395188977, 0.2388876495597072, 0.05620885871993111, 0.009068414735604553, 0.10882097682725464, 0.05441048841362732, 0.009068414735604553, 0.10882097682725464, 0.525968054665064, 0.18136829471209107, 0.7638742805298531, 0.010322625412565583, 0.010322625412565583, 0.010322625412565583, 0.04129050165026233, 0.08258100330052466, 0.04129050165026233, 0.04129050165026233, 0.9665982709691614, 0.8882399783120575, 0.043683933359609385, 0.043683933359609385, 0.9353822068210116, 0.022814200166366136, 0.022814200166366136, 0.9224262723880088, 0.0297556862060648, 0.0297556862060648, 0.058836581935897345, 0.8825487290384602, 0.9020036758098454, 0.06442883398641754, 0.48828124262112477, 0.015354756057268075, 0.10441234118942291, 0.012283804845814459, 0.23339229207047474, 0.009212853634360845, 0.13819280451541266, 0.015065212315298867, 0.9641735881791275, 0.015065212315298867, 0.017572221175318654, 0.02259285579683827, 0.002510317310759808, 0.005020634621519616, 0.9488999434672073, 0.002510317310759808, 0.002510317310759808, 0.9108785182772691, 0.011608271734847441, 0.011608271734847441, 0.9402700105226427, 0.023216543469694883, 0.013048259405512354, 0.06524129702756178, 0.9133781583858648, 0.009280531319575108, 0.08352478187617597, 0.9002115379987854, 0.004640265659787554, 0.007558870212088339, 0.2570015872110035, 0.7218721052544363, 0.007558870212088339, 0.9591223603453578, 0.14843184624708552, 0.03196993611475688, 0.11189477640164909, 0.21693885220727885, 0.1621332474391242, 0.14386471251640598, 0.0913426746135911, 0.09362624147893088, 0.9514529151388375, 0.047009851508553906, 0.9401970301710781, 0.03220155280616483, 0.9016434785726153, 0.12481463875924508, 0.024962927751849013, 0.7738507603073195, 0.049925855503698026, 0.103759906733335, 0.8473725716555691, 0.01729331778888917, 0.01729331778888917, 0.00777319675293988, 0.9638763973645451, 0.02331959025881964, 0.00777319675293988, 0.0035576209445574375, 0.853829026693785, 0.09249814455849338, 0.007115241889114875, 0.010672862833672313, 0.024903346611902064, 0.01888220340817789, 0.05664661022453367, 0.05664661022453367, 0.16993983067360102, 0.03776440681635578, 0.6419949158780482, 0.1900955109948584, 0.06336517033161947, 0.6970168736478142, 0.07910402414585696, 0.01757867203241266, 0.013184004024309495, 0.34278410463204684, 0.03955201207292848, 0.004394668008103165, 0.19776006036464241, 0.30323209255911837, 0.8476877061442236, 0.4065522164967562, 0.17133271980934728, 0.017423666421289553, 0.040655221649675624, 0.02613549963193433, 0.25845105191579504, 0.03194338843903085, 0.0493670548603204, 0.9259128273754825, 0.02805796446592371, 0.9668651008247051, 0.694719766711613, 0.013066829467930025, 0.20253585675291538, 0.017422439290573365, 0.02613365893586005, 0.039200488403790076, 0.004355609822643341, 0.004355609822643341, 0.0968485185751289, 0.10125072396490749, 0.3521764311822869, 0.07043528623645738, 0.04842425928756445, 0.08144079971090384, 0.17388711289625416, 0.07703859432112527, 0.9266403930526179, 0.03309429975187921, 0.03309429975187921], \"Term\": [\"able_predict\", \"academic\", \"academic\", \"academic\", \"academic\", \"access\", \"access\", \"access\", \"access\", \"access\", \"access\", \"access\", \"access\", \"acid\", \"acid\", \"acid\", \"acid\", \"acid\", \"acid\", \"activate\", \"activate\", \"activate\", \"activate\", \"activate\", \"activate\", \"activate\", \"activation\", \"activation\", \"activation\", \"activation\", \"activation\", \"activation\", \"activation\", \"activity\", \"activity\", \"activity\", \"activity\", \"activity\", \"activity\", \"activity\", \"activity\", \"address\", \"address\", \"address\", \"address\", \"address\", \"address\", \"address\", \"address\", \"adenocarcinoma\", \"adenocarcinoma\", \"adenoma\", \"adenoma\", \"adiposity\", \"admission\", \"admission\", \"admission\", \"admission\", \"adsorbent\", \"adsorption\", \"adsorption\", \"adsorption\", \"adult\", \"adult\", \"adult\", \"adult\", \"adult\", \"adult\", \"adult\", \"adult\", \"age\", \"age\", \"age\", \"age\", \"age\", \"age\", \"age\", \"age\", \"air_quality\", \"air_quality\", \"airborne\", \"airborne\", \"algae\", \"algal\", \"allcause_mortality\", \"allele\", \"allele\", \"allele\", \"allele\", \"allergic_disease\", \"alloy\", \"ambiguous\", \"ami\", \"anaerobic_digestion\", \"anaerobic_digestion\", \"anesthetic\", \"anesthetic\", \"angiography\", \"angiography\", \"angular\", \"antenatal\", \"antenatal\", \"antibody\", \"antibody\", \"antibody\", \"antibody\", \"antibody\", \"antibody\", \"antibody\", \"apa\", \"apoptosis\", \"apoptosis\", \"apoptosis\", \"application\", \"application\", \"application\", \"application\", \"application\", \"application\", \"application\", \"application\", \"apply\", \"apply\", \"apply\", \"apply\", \"apply\", \"apply\", \"apply\", \"apply\", \"appointment\", \"appointment\", \"appointment\", \"appropriateness\", \"appropriateness\", \"appropriateness\", \"aptamer\", \"ard\", \"area\", \"area\", \"area\", \"area\", \"area\", \"area\", \"area\", \"area\", \"arsenic\", \"aspiration\", \"aspiration\", \"aspiration\", \"assay\", \"assay\", \"assay\", \"assay\", \"assay\", \"assay\", \"assay\", \"assessment\", \"assessment\", \"assessment\", \"assessment\", \"assessment\", \"assessment\", \"assessment\", \"assessment\", \"association\", \"association\", \"association\", \"association\", \"association\", \"association\", \"association\", \"association\", \"astrocyte\", \"asv\", \"athlete\", \"athlete\", \"athlete\", \"athlete\", \"attitude\", \"attitude\", \"attitude\", \"attitude\", \"attitude\", \"atypical\", \"atypical\", \"atypical\", \"bacterial_infection\", \"barrier\", \"barrier\", \"barrier\", \"barrier\", \"barrier\", \"barrier\", \"barrier\", \"barrier\", \"barriers_facilitator\", \"baseline\", \"baseline\", \"baseline\", \"baseline\", \"baseline\", \"baseline\", \"baseline\", \"baseline\", \"bead\", \"bead\", \"behavior_change\", \"belief\", \"belief\", \"benign\", \"benthic\", \"big_data\", \"big_data\", \"bind\", \"bind\", \"bind\", \"bind\", \"bind\", \"bind\", \"biopsy\", \"biopsy\", \"biopsy\", \"biopsy\", \"birth\", \"birth\", \"birth\", \"birth\", \"birth\", \"blood\", \"blood\", \"blood\", \"blood\", \"blood\", \"blood\", \"blood\", \"blood\", \"blood_pressure\", \"blood_pressure\", \"blood_pressure\", \"blood_pressure\", \"blood_pressure\", \"blood_pressure\", \"blood_pressure\", \"bone\", \"bone\", \"bone\", \"bone\", \"bone\", \"bone\", \"bone\", \"bone\", \"borderline\", \"brain\", \"brain\", \"brain\", \"brain\", \"brain\", \"brain\", \"brain\", \"brain\", \"brain_region\", \"breast\", \"breast\", \"breast\", \"breast\", \"breast\", \"breastfeed\", \"breastfeed\", \"byproduct\", \"byproduct\", \"cancer\", \"cancer\", \"cancer\", \"cancer\", \"cancer\", \"cancer\", \"cancer\", \"cancer\", \"carbon_dioxide\", \"carbon_dioxide\", \"carbon_dioxide\", \"carcinoma\", \"carcinoma\", \"carcinoma\", \"carcinoma\", \"cardiomyocyte\", \"care\", \"care\", \"care\", \"care\", \"care\", \"care\", \"care\", \"care\", \"carie\", \"carie\", \"cause\", \"cause\", \"cause\", \"cause\", \"cause\", \"cause\", \"cause\", \"cause\", \"cbt\", \"cell\", \"cell\", \"cell\", \"cell\", \"cell\", \"cell\", \"cell\", \"cell_signale\", \"characteristic\", \"characteristic\", \"characteristic\", \"characteristic\", \"characteristic\", \"characteristic\", \"characteristic\", \"characteristic\", \"chd\", \"chd\", \"chemical\", \"chemical\", \"chemical\", \"chemical\", \"chemical\", \"chemical\", \"chemical\", \"chemotherapy\", \"chemotherapy\", \"chemotherapy\", \"chemotherapy\", \"chemotherapy\", \"chemotherapy\", \"child\", \"child\", \"child\", \"child\", \"child\", \"child\", \"child\", \"child\", \"children\", \"children\", \"children\", \"chitosan\", \"chromatin\", \"chromatin\", \"ci\", \"ci\", \"ci\", \"ci\", \"ci\", \"ci\", \"ci\", \"ci\", \"ckd\", \"ckd\", \"ckd\", \"cl\", \"cl\", \"cleavage\", \"cleavage\", \"client\", \"client\", \"cluster\", \"cluster\", \"cluster\", \"cluster\", \"cluster\", \"cluster\", \"cluster\", \"cluster\", \"coach\", \"coach\", \"cochlear\", \"collect\", \"collect\", \"collect\", \"collect\", \"collect\", \"collect\", \"collect\", \"collect\", \"colonisation\", \"colonoscopy\", \"colonoscopy\", \"colonoscopy\", \"colorectal_cancer\", \"colorectal_cancer\", \"comfort\", \"comfort\", \"comment\", \"comment\", \"comment\", \"comment\", \"community\", \"community\", \"community\", \"community\", \"community\", \"community\", \"community\", \"community\", \"comorbiditie\", \"comorbiditie\", \"comorbiditie\", \"comorbiditie\", \"composition\", \"composition\", \"composition\", \"composition\", \"composition\", \"composition\", \"composition\", \"comprehension\", \"conceive\", \"conceive\", \"concentration\", \"concentration\", \"concentration\", \"concentration\", \"concentration\", \"concentration\", \"concentration\", \"concentration\", \"concern\", \"concern\", \"concern\", \"concern\", \"concern\", \"concern\", \"concern\", \"concern\", \"condition\", \"condition\", \"condition\", \"condition\", \"condition\", \"condition\", \"condition\", \"condition\", \"conduct\", \"conduct\", \"conduct\", \"conduct\", \"conduct\", \"conduct\", \"conduct\", \"conduct\", \"conference\", \"conference\", \"conference\", \"conference\", \"confirm\", \"confirm\", \"confirm\", \"confirm\", \"confirm\", \"confirm\", \"confirm\", \"confirm\", \"conformational_change\", \"confront\", \"consecutive_patient\", \"consecutive_patient\", \"consecutive_patient\", \"consecutive_patient\", \"consider\", \"consider\", \"consider\", \"consider\", \"consider\", \"consider\", \"consider\", \"consider\", \"contact\", \"contact\", \"contact\", \"contact\", \"contact\", \"contact\", \"contact\", \"contact\", \"content\", \"content\", \"content\", \"content\", \"content\", \"content\", \"content\", \"content\", \"contraception\", \"conversation\", \"conversation\", \"convolutional_neural\", \"convolutional_neural\", \"coral\", \"corporate\", \"cost\", \"cost\", \"cost\", \"cost\", \"cost\", \"cost\", \"cost\", \"cost\", \"costly\", \"covid\", \"covid\", \"covid\", \"covid\", \"covid\", \"covid\", \"covid\", \"covid_pandemic\", \"covid_pandemic\", \"covid_pandemic\", \"covid_pandemic\", \"covid_pandemic\", \"covid_pandemic\", \"covid_pandemic\", \"crc\", \"criminal\", \"crosslinking\", \"crosslinking\", \"ct_image\", \"ct_image\", \"cultural\", \"cultural\", \"cultural\", \"cultural\", \"cxcl\", \"cyst\", \"cytokine\", \"cytokine\", \"cytokine\", \"cytokine\", \"dataset\", \"dataset\", \"dataset\", \"dataset\", \"dataset\", \"dataset\", \"dataset\", \"dataset\", \"day\", \"day\", \"day\", \"day\", \"day\", \"day\", \"day\", \"day\", \"day_mortality\", \"death\", \"death\", \"death\", \"death\", \"death\", \"death\", \"death\", \"death\", \"decisionmaker\", \"decrease\", \"decrease\", \"decrease\", \"decrease\", \"decrease\", \"decrease\", \"decrease\", \"decrease\", \"deep_learne\", \"dementia\", \"dementia\", \"dementia\", \"dementia\", \"dementia\", \"dementia\", \"dementia\", \"dementia\", \"demonstrate\", \"demonstrate\", \"demonstrate\", \"demonstrate\", \"demonstrate\", \"demonstrate\", \"demonstrate\", \"demonstrate\", \"density\", \"density\", \"density\", \"density\", \"density\", \"density\", \"density\", \"density\", \"dental\", \"dental\", \"dental\", \"dental\", \"dental\", \"dental\", \"depression\", \"depression\", \"depression\", \"depression\", \"depression\", \"depression\", \"depression\", \"dermatology\", \"describe\", \"describe\", \"describe\", \"describe\", \"describe\", \"describe\", \"describe\", \"describe\", \"described_illustrate\", \"design\", \"design\", \"design\", \"design\", \"design\", \"design\", \"design\", \"design\", \"detect\", \"detect\", \"detect\", \"detect\", \"detect\", \"detect\", \"detect\", \"detect\", \"detection\", \"detection\", \"detection\", \"detection\", \"detection\", \"detection\", \"detection\", \"detection\", \"detector\", \"device\", \"device\", \"device\", \"device\", \"device\", \"device\", \"device\", \"device\", \"diagnosis\", \"diagnosis\", \"diagnosis\", \"diagnosis\", \"diagnosis\", \"diagnosis\", \"diagnosis\", \"diagnosis\", \"diagnostic\", \"diagnostic\", \"diagnostic\", \"diagnostic\", \"diagnostic\", \"diagnostic\", \"diagnostic\", \"diagnostic\", \"diary\", \"diet\", \"diet\", \"diet\", \"diet\", \"diet\", \"dietary\", \"dietary\", \"dietary\", \"dietary\", \"dietary\", \"difference\", \"difference\", \"difference\", \"difference\", \"difference\", \"difference\", \"difference\", \"difference\", \"digital\", \"digital\", \"digital\", \"digital\", \"digital\", \"digital\", \"digital\", \"digital\", \"digitally\", \"discharge\", \"discharge\", \"discharge\", \"discharge\", \"discharge\", \"discrimination\", \"discrimination\", \"discrimination\", \"discrimination\", \"discrimination\", \"discrimination\", \"disinfection\", \"diversity\", \"diversity\", \"diversity\", \"diversity\", \"diversity\", \"diversity\", \"diversity\", \"diversity\", \"domain\", \"domain\", \"domain\", \"domain\", \"domain\", \"domain\", \"domain\", \"drug\", \"drug\", \"drug\", \"drug\", \"drug\", \"drug\", \"drug\", \"drug\", \"dyad\", \"dyad\", \"early\", \"early\", \"early\", \"early\", \"early\", \"early\", \"early\", \"early\", \"economic\", \"economic\", \"economic\", \"economic\", \"economic\", \"economic\", \"economic\", \"economic\", \"economy\", \"economy\", \"economy\", \"economy\", \"edge\", \"edge\", \"edge\", \"edge\", \"edge\", \"eeg_signal\", \"efficiency\", \"efficiency\", \"efficiency\", \"efficiency\", \"efficiency\", \"efficiency\", \"efficiency\", \"efficiency\", \"electrostatic\", \"electrostatic\", \"encapsulation\", \"endothelial\", \"endothelial\", \"energy\", \"energy\", \"energy\", \"energy\", \"energy\", \"energy\", \"energy\", \"energy\", \"enhancer\", \"enhancer\", \"enterprise\", \"environment\", \"environment\", \"environment\", \"environment\", \"environment\", \"environment\", \"environment\", \"environment\", \"environmental\", \"environmental\", \"environmental\", \"environmental\", \"environmental\", \"environmental\", \"environmental\", \"episode\", \"episode\", \"episode\", \"epitope\", \"epitope\", \"establish\", \"establish\", \"establish\", \"establish\", \"establish\", \"establish\", \"establish\", \"establish\", \"estimation\", \"estimation\", \"estimation\", \"estimation\", \"estimation\", \"estimation\", \"estimation\", \"estimation\", \"ethanol\", \"ethanol\", \"evaluation\", \"evaluation\", \"evaluation\", \"evaluation\", \"evaluation\", \"evaluation\", \"evaluation\", \"evaluation\", \"excretion\", \"excretion\", \"execution\", \"execution\", \"execution\", \"expenditure\", \"expenditure\", \"experience\", \"experience\", \"experience\", \"experience\", \"experience\", \"experience\", \"experience\", \"experience\", \"exposure\", \"exposure\", \"exposure\", \"exposure\", \"exposure\", \"exposure\", \"exposure\", \"exposure\", \"expression\", \"expression\", \"expression\", \"expression\", \"expression\", \"expression\", \"expression\", \"expression\", \"extract\", \"extract\", \"extract\", \"extract\", \"extract\", \"extract\", \"extract\", \"extract\", \"family\", \"family\", \"family\", \"family\", \"family\", \"family\", \"family\", \"family\", \"fatigue\", \"fatigue\", \"fatigue\", \"feature\", \"feature\", \"feature\", \"feature\", \"feature\", \"feature\", \"feature\", \"feature\", \"fermentation\", \"fermentation\", \"fish\", \"fish\", \"fish\", \"fixation\", \"fixation\", \"fixation\", \"fixation\", \"fixation\", \"flap\", \"flap\", \"flap\", \"flap\", \"focus_group\", \"focus_group\", \"follicle\", \"food\", \"food\", \"food\", \"food\", \"food\", \"food\", \"food\", \"food\", \"football\", \"fracture\", \"fracture\", \"fracture\", \"fracture\", \"fracture\", \"fracture\", \"fruit\", \"fruit\", \"fruit\", \"fruit\", \"fruit\", \"function\", \"function\", \"function\", \"function\", \"function\", \"function\", \"function\", \"function\", \"fusion\", \"fusion\", \"fusion\", \"fusion\", \"gcs\", \"gcs\", \"gene\", \"gene\", \"gene\", \"gene\", \"gene\", \"gene\", \"genetic\", \"genetic\", \"genetic\", \"genetic\", \"genetic\", \"genetic\", \"genetic\", \"genetic\", \"genome\", \"genome\", \"genome\", \"genome\", \"genome\", \"genome\", \"genus\", \"genus\", \"genus\", \"genus\", \"genus\", \"girl\", \"girl\", \"girl\", \"glass\", \"glass\", \"glioma\", \"glioma\", \"glioma\", \"glucose\", \"glucose\", \"glucose\", \"glycolysis\", \"groundwater\", \"groundwater\", \"groundwater\", \"gyrus\", \"habitat\", \"habitat\", \"habitat\", \"habitat\", \"habitat\", \"hazard_ratio\", \"hbv\", \"hcws\", \"healthcare_professional\", \"healthcare_professional\", \"healthcare_professional\", \"healthcare_professional\", \"healthcare_worker\", \"healthcare_worker\", \"healthcare_worker\", \"healthcare_worker\", \"helper\", \"hepatocyte\", \"hip_fracture\", \"historic\", \"homair\", \"horizontal\", \"horizontal\", \"hospital\", \"hospital\", \"hospital\", \"hospital\", \"hospital\", \"hospital\", \"hospital\", \"hospitalise\", \"hospitalization\", \"hospitalization\", \"hospitalization\", \"hospitalize\", \"hospitalize\", \"hospitalize\", \"hospitalized_patient\", \"housing\", \"housing\", \"housing\", \"housing\", \"housing\", \"hr_confidence\", \"human\", \"human\", \"human\", \"human\", \"human\", \"human\", \"human\", \"human\", \"humidity\", \"hybrid\", \"hybrid\", \"hybrid\", \"hybrid\", \"hybrid\", \"hybrid\", \"hygiene\", \"hypertensive\", \"hypotension\", \"icu_admission\", \"image\", \"image\", \"image\", \"image\", \"image\", \"image\", \"image\", \"image\", \"imaging\", \"imaging\", \"imaging\", \"imaging\", \"imaging\", \"imaging\", \"imaging\", \"imaging\", \"imatinib\", \"imatinib\", \"immune\", \"immune\", \"immune\", \"immune\", \"immune\", \"immune_response\", \"immune_response\", \"immune_response\", \"immune_response\", \"immunity\", \"immunization\", \"impact\", \"impact\", \"impact\", \"impact\", \"impact\", \"impact\", \"impact\", \"impact\", \"implant\", \"implant\", \"implant\", \"implant\", \"implant\", \"implant\", \"important\", \"important\", \"important\", \"important\", \"important\", \"important\", \"important\", \"important\", \"incidence\", \"incidence\", \"incidence\", \"incidence\", \"incidence\", \"incidence\", \"incidence\", \"incidence\", \"indepth_interview\", \"index\", \"index\", \"index\", \"index\", \"index\", \"index\", \"index\", \"index\", \"induce\", \"induce\", \"induce\", \"induce\", \"induce\", \"induce\", \"induce\", \"induce\", \"infant\", \"infant\", \"infant\", \"infant\", \"infection\", \"infection\", \"infection\", \"infection\", \"infection\", \"infection\", \"infection\", \"inflammatory_response\", \"influence\", \"influence\", \"influence\", \"influence\", \"influence\", \"influence\", \"influence\", \"influence\", \"information\", \"information\", \"information\", \"information\", \"information\", \"information\", \"information\", \"information\", \"infuse\", \"inhibit\", \"inhibit\", \"inhibit\", \"inhibit\", \"inhibit\", \"inhibit\", \"inhibit\", \"inhibit\", \"inhibitor\", \"inhibitor\", \"inhibitor\", \"inhibitor\", \"inhibitor\", \"inhibitor\", \"inhibitor\", \"inhibitor\", \"inhospital\", \"inhospital_mortality\", \"insomnia\", \"insomnia\", \"insomnia\", \"insula\", \"intake\", \"intake\", \"intake\", \"intake\", \"integrin\", \"integrin\", \"interaction\", \"interaction\", \"interaction\", \"interaction\", \"interaction\", \"interaction\", \"interaction\", \"interaction\", \"interstitial\", \"interval_ci\", \"intervention\", \"intervention\", \"intervention\", \"intervention\", \"intervention\", \"intervention\", \"intervention\", \"intervention\", \"interview\", \"interview\", \"interview\", \"interview\", \"interview\", \"interview\", \"intracellular\", \"intracellular\", \"intracellular\", \"intracellular\", \"intubation\", \"intubation\", \"io\", \"ion\", \"ion\", \"ion\", \"ion\", \"ion\", \"ischemic\", \"ischemic\", \"islet\", \"kinase\", \"kinase\", \"kinase\", \"know\", \"know\", \"know\", \"know\", \"know\", \"know\", \"know\", \"know\", \"knowledge\", \"knowledge\", \"knowledge\", \"knowledge\", \"knowledge\", \"knowledge\", \"knowledge\", \"knowledge\", \"knowledge_attitude\", \"knowledge_attitude\", \"knowledge_attitude\", \"knowledgebase\", \"large\", \"large\", \"large\", \"large\", \"large\", \"large\", \"large\", \"large\", \"larvae\", \"larvae\", \"lateral\", \"lateral\", \"lateral\", \"lateral\", \"lateral\", \"lbw\", \"lead\", \"lead\", \"lead\", \"lead\", \"lead\", \"lead\", \"lead\", \"lead\", \"lesion\", \"lesion\", \"lesion\", \"lesion\", \"lesion\", \"lesion\", \"lesion\", \"lesion\", \"linguistic\", \"lipid\", \"lipid\", \"lipid\", \"lipid\", \"lipid\", \"lived_experience\", \"m\", \"mace\", \"macromolecular\", \"malaria\", \"malaria\", \"malaria\", \"malaria\", \"malignant\", \"malignant\", \"mangrove\", \"mangrove\", \"manure\", \"mapk\", \"mapping\", \"mapping\", \"mapping\", \"mapping\", \"mapping\", \"mapping\", \"mapping\", \"marketing\", \"material\", \"material\", \"material\", \"material\", \"material\", \"material\", \"material\", \"material\", \"mean\", \"mean\", \"mean\", \"mean\", \"mean\", \"mean\", \"mean\", \"mean\", \"mechanism\", \"mechanism\", \"mechanism\", \"mechanism\", \"mechanism\", \"mechanism\", \"mechanism\", \"mechanism\", \"median_age\", \"median_age\", \"medical\", \"medical\", \"medical\", \"medical\", \"medical\", \"medical\", \"medical\", \"medical\", \"melanoma\", \"mental_health\", \"mental_health\", \"mental_health\", \"mental_health\", \"mental_health\", \"mental_health\", \"mental_health\", \"metastasis\", \"metastasis\", \"meteorological\", \"meteorological\", \"microplastic\", \"microplastic\", \"migraine\", \"misconception\", \"mitochondria\", \"mitochondrial\", \"mitochondrial\", \"mitochondrial\", \"mitochondrial\", \"mitochondrial\", \"mitochondrial\", \"mixed_method\", \"monoclonal_antibodie\", \"month\", \"month\", \"month\", \"month\", \"month\", \"month\", \"month\", \"month\", \"mood\", \"mortality\", \"mortality\", \"mortality\", \"mortality\", \"mortality\", \"mortality\", \"mortality\", \"mortality\", \"mother\", \"mother\", \"mother\", \"mother\", \"mother\", \"mother\", \"mouse\", \"mouse\", \"mouse\", \"mouse\", \"mouse\", \"mouse\", \"mouse\", \"mrna\", \"mrna\", \"mrna\", \"multiple\", \"multiple\", \"multiple\", \"multiple\", \"multiple\", \"multiple\", \"multiple\", \"multiple\", \"multiplex\", \"multivariate_regression\", \"mutation\", \"mutation\", \"mutation\", \"mutation\", \"mutation\", \"mutation\", \"nanoparticle\", \"nanoparticle\", \"nanoparticle\", \"nanoparticle\", \"nanoparticle\", \"nanoparticle\", \"nanoparticle\", \"nanotechnology\", \"nausea\", \"neoplasm\", \"network\", \"network\", \"network\", \"network\", \"network\", \"network\", \"network\", \"network\", \"neurological_disorder\", \"neuromuscular\", \"neuron\", \"neuron\", \"neuron\", \"neuron\", \"neuronal\", \"neuronal\", \"neuronal\", \"neurotoxicity\", \"new_specie\", \"new_specie\", \"new_specie\", \"nk_cell\", \"nlrp\", \"nonverbal\", \"number\", \"number\", \"number\", \"number\", \"number\", \"number\", \"number\", \"number\", \"nutraceutical\", \"nutraceutical\", \"nutrient\", \"nutrient\", \"nutrient\", \"nutrient\", \"nutrient\", \"observational_studie\", \"obtain\", \"obtain\", \"obtain\", \"obtain\", \"obtain\", \"obtain\", \"obtain\", \"obtain\", \"olive\", \"olive\", \"olive\", \"organisational\", \"organizational\", \"organizational\", \"organizational\", \"original_article\", \"outcome\", \"outcome\", \"outcome\", \"outcome\", \"outcome\", \"outcome\", \"outcome\", \"outcome\", \"overall\", \"overall\", \"overall\", \"overall\", \"overall\", \"overall\", \"overall\", \"overall\", \"overexpression\", \"overexpression\", \"overexpression\", \"overlap\", \"overlap\", \"overlap\", \"overlap\", \"overlap\", \"overlap\", \"oxidase\", \"oxidase\", \"pain\", \"pain\", \"pain\", \"pain\", \"pain\", \"pain\", \"pain\", \"pain\", \"pain_score\", \"pandemic\", \"pandemic\", \"pandemic\", \"pandemic\", \"pandemic\", \"pandemic\", \"pandemic\", \"pandemic\", \"paper_provide\", \"parameter\", \"parameter\", \"parameter\", \"parameter\", \"parameter\", \"parameter\", \"parameter\", \"parameter\", \"parity\", \"participant\", \"participant\", \"participant\", \"participant\", \"participant\", \"participant\", \"participant\", \"participant\", \"participation\", \"participation\", \"participation\", \"participation\", \"participation\", \"participation\", \"patch\", \"patch\", \"patch\", \"pathogen\", \"pathogen\", \"pathogen\", \"pathogen\", \"pathogen\", \"pathogen\", \"pathway\", \"pathway\", \"pathway\", \"pathway\", \"pathway\", \"pathway\", \"pathway\", \"pathway\", \"patients_admitte\", \"patients_admitte\", \"patients_admitte\", \"patients_admitte\", \"patients_receive\", \"patients_receive\", \"patients_receive\", \"patients_receive\", \"patients_receive\", \"patients_receive\", \"patients_suffere\", \"pcp\", \"pdt\", \"peak\", \"peak\", \"peak\", \"peak\", \"peak\", \"peak\", \"peak\", \"peak\", \"peel\", \"people\", \"people\", \"people\", \"people\", \"people\", \"people\", \"people\", \"people\", \"peptide\", \"peptide\", \"peptide\", \"peptide\", \"peptide\", \"peptide\", \"perceive\", \"perceive\", \"perceive\", \"perceive\", \"perceive\", \"perceive\", \"performance\", \"performance\", \"performance\", \"performance\", \"performance\", \"performance\", \"performance\", \"performance\", \"periimplant\", \"period\", \"period\", \"period\", \"period\", \"period\", \"period\", \"period\", \"period\", \"pet\", \"pet\", \"pk\", \"pk\", \"placebo\", \"placebo\", \"placebo\", \"player\", \"player\", \"player\", \"point\", \"point\", \"point\", \"point\", \"point\", \"point\", \"point\", \"point\", \"policy\", \"policy\", \"policy\", \"policy\", \"policy\", \"policy\", \"policy\", \"policy\", \"pollutant\", \"pollutant\", \"pollutant\", \"polymer\", \"polymer\", \"polymer\", \"polymer\", \"polymorphism\", \"polymorphism\", \"polymorphism\", \"polymorphism\", \"polymorphism\", \"polyp\", \"polyphenol\", \"polyphenol\", \"population\", \"population\", \"population\", \"population\", \"population\", \"population\", \"population\", \"population\", \"positioning\", \"powder\", \"powder\", \"powder\", \"practice\", \"practice\", \"practice\", \"practice\", \"practice\", \"practice\", \"practice\", \"practice\", \"predator\", \"pregnancy\", \"pregnancy\", \"pregnancy\", \"pregnancy\", \"pregnancy\", \"pregnancy\", \"pregnant_woman\", \"pregnant_woman\", \"preparedness\", \"prevalence\", \"prevalence\", \"prevalence\", \"prevalence\", \"prevalence\", \"prevalence\", \"prevalence\", \"prevalence\", \"printing\", \"pro\", \"pro\", \"problem\", \"problem\", \"problem\", \"problem\", \"problem\", \"problem\", \"problem\", \"problem\", \"product\", \"product\", \"product\", \"product\", \"product\", \"product\", \"product\", \"product\", \"profession\", \"profession\", \"programme\", \"programme\", \"programme\", \"programme\", \"programme\", \"prom\", \"property\", \"property\", \"property\", \"property\", \"property\", \"property\", \"property\", \"property\", \"propose\", \"propose\", \"propose\", \"propose\", \"propose\", \"propose\", \"propose\", \"propose\", \"prosthesis\", \"prosthesis\", \"prosthesis\", \"prosthetic\", \"prosthetic\", \"prosthetic\", \"protein\", \"protein\", \"protein\", \"protein\", \"protein\", \"protein\", \"protein\", \"provider\", \"provider\", \"provider\", \"provider\", \"provider\", \"provider\", \"puberty\", \"public\", \"public\", \"public\", \"public\", \"public\", \"public\", \"public\", \"public\", \"qualitative\", \"qualitative\", \"qualitative\", \"qualitative\", \"qualitative\", \"qualitative\", \"qualitative\", \"qualitative_data\", \"quality\", \"quality\", \"quality\", \"quality\", \"quality\", \"quality\", \"quality\", \"quality\", \"quantum\", \"quench\", \"quercetin\", \"query\", \"query\", \"query\", \"query\", \"questionnaire\", \"questionnaire\", \"questionnaire\", \"questionnaire\", \"questionnaire\", \"questionnaire\", \"questionnaire\", \"racial_disparitie\", \"range\", \"range\", \"range\", \"range\", \"range\", \"range\", \"range\", \"range\", \"rare\", \"rare\", \"rare\", \"rare\", \"rare\", \"rare\", \"rare\", \"rat\", \"rat\", \"rat\", \"rat\", \"rat\", \"rat\", \"rate\", \"rate\", \"rate\", \"rate\", \"rate\", \"rate\", \"rate\", \"rate\", \"receive\", \"receive\", \"receive\", \"receive\", \"receive\", \"receive\", \"receive\", \"receive\", \"receptor\", \"receptor\", \"receptor\", \"receptor\", \"receptor\", \"receptor\", \"receptor\", \"record\", \"record\", \"record\", \"record\", \"record\", \"record\", \"record\", \"record\", \"rectal_cancer\", \"reduction\", \"reduction\", \"reduction\", \"reduction\", \"reduction\", \"reduction\", \"reduction\", \"reduction\", \"reflective\", \"regenerative\", \"regimen\", \"regimen\", \"regimen\", \"region\", \"region\", \"region\", \"region\", \"region\", \"region\", \"region\", \"region\", \"regional\", \"regional\", \"regional\", \"regional\", \"regional\", \"register\", \"register\", \"register\", \"register\", \"register\", \"register\", \"register\", \"register\", \"registry\", \"registry\", \"registry\", \"registry\", \"regulate\", \"regulate\", \"regulate\", \"regulate\", \"regulate\", \"regulate\", \"regulate\", \"regulate\", \"rehabilitation\", \"rehabilitation\", \"rehabilitation\", \"rehabilitation\", \"rehabilitation\", \"rehabilitation\", \"rehabilitation\", \"rehabilitation\", \"relate\", \"relate\", \"relate\", \"relate\", \"relate\", \"relate\", \"relate\", \"relate\", \"relationship\", \"relationship\", \"relationship\", \"relationship\", \"relationship\", \"relationship\", \"relationship\", \"relationship\", \"require\", \"require\", \"require\", \"require\", \"require\", \"require\", \"require\", \"require\", \"residue\", \"residue\", \"residue\", \"residue\", \"resilience\", \"resilience\", \"resilience\", \"resilience\", \"respondent\", \"respondent\", \"respondent\", \"respondent\", \"respondent\", \"respondent\", \"respondent\", \"response\", \"response\", \"response\", \"response\", \"response\", \"response\", \"response\", \"response\", \"reuse\", \"reveal\", \"reveal\", \"reveal\", \"reveal\", \"reveal\", \"reveal\", \"reveal\", \"reveal\", \"review\", \"review\", \"review\", \"review\", \"review\", \"review\", \"review\", \"review\", \"rice\", \"rice\", \"rice\", \"risk\", \"risk\", \"risk\", \"risk\", \"risk\", \"risk\", \"risk\", \"risk\", \"risk_factor\", \"risk_factor\", \"risk_factor\", \"risk_factor\", \"risk_factor\", \"risk_factor\", \"risk_factor\", \"rna\", \"rna\", \"road\", \"road\", \"road\", \"road\", \"road\", \"role\", \"role\", \"role\", \"role\", \"role\", \"role\", \"role\", \"role\", \"rr_ci\", \"rr_ci\", \"rr_ci\", \"rr_ci\", \"sample\", \"sample\", \"sample\", \"sample\", \"sample\", \"sample\", \"sample\", \"sample\", \"sarcopenia\", \"sarcopenia\", \"schizophrenia\", \"schizophrenia\", \"school\", \"school\", \"school\", \"school\", \"school\", \"score\", \"score\", \"score\", \"score\", \"score\", \"score\", \"score\", \"score\", \"sector\", \"sector\", \"sector\", \"sector\", \"sector\", \"segmentation\", \"segmentation\", \"segmentation\", \"segmentation\", \"selfreport\", \"selfreport\", \"selfreport\", \"sensitivity_ci\", \"sensorimotor\", \"sensorimotor\", \"sensorimotor\", \"sentence\", \"sequence\", \"sequence\", \"sequence\", \"sequence\", \"sequence\", \"sequence\", \"sequence\", \"sequence\", \"service\", \"service\", \"service\", \"service\", \"service\", \"service\", \"severe\", \"severe\", \"severe\", \"severe\", \"severe\", \"severe\", \"severe\", \"severe\", \"severe_case\", \"severity\", \"severity\", \"severity\", \"severity\", \"severity\", \"severity\", \"severity\", \"severity\", \"sick\", \"signal\", \"signal\", \"signal\", \"signal\", \"signal\", \"signal\", \"signal\", \"signal\", \"silver\", \"silver\", \"simulate\", \"simulate\", \"simulate\", \"simulate\", \"simulate\", \"simulate\", \"simulate\", \"singlemolecule\", \"size\", \"size\", \"size\", \"size\", \"size\", \"size\", \"size\", \"size\", \"skin_cancer\", \"skull\", \"sludge\", \"sludge\", \"sludge\", \"smoker\", \"smoking\", \"smoking\", \"social\", \"social\", \"social\", \"social\", \"social\", \"social\", \"social\", \"social\", \"social_isolation\", \"social_isolation\", \"social_isolation\", \"solution\", \"solution\", \"solution\", \"solution\", \"solution\", \"solution\", \"solution\", \"solution\", \"source\", \"source\", \"source\", \"source\", \"source\", \"source\", \"source\", \"source\", \"sp_nov\", \"sp_nov\", \"specie\", \"specie\", \"specie\", \"specie\", \"specie\", \"specie\", \"specie\", \"specie\", \"species_belonge\", \"specimen\", \"specimen\", \"specimen\", \"specimen\", \"specimen\", \"specimen\", \"speech\", \"speech\", \"speech\", \"spheroid\", \"spheroid\", \"spheroid\", \"sport\", \"sport\", \"spring\", \"spring\", \"squamous_cell\", \"stabilization\", \"stabilization\", \"stabilization\", \"staff\", \"staff\", \"staff\", \"staff\", \"starch\", \"statin\", \"stem_cell\", \"stem_cell\", \"stem_cell\", \"stereotype\", \"stigma\", \"stigma\", \"story\", \"strain\", \"strain\", \"strain\", \"strain\", \"strain\", \"strain\", \"strain\", \"strain\", \"strategy\", \"strategy\", \"strategy\", \"strategy\", \"strategy\", \"strategy\", \"strategy\", \"strategy\", \"stress\", \"stress\", \"stress\", \"stress\", \"stress\", \"stress\", \"stress\", \"stress\", \"stride\", \"stroke\", \"stroke\", \"stroke\", \"stroke\", \"structure\", \"structure\", \"structure\", \"structure\", \"structure\", \"structure\", \"structure\", \"structure\", \"student\", \"student\", \"student\", \"student\", \"student\", \"student\", \"subject\", \"subject\", \"subject\", \"subject\", \"subject\", \"subject\", \"subject\", \"subject\", \"substrate\", \"substrate\", \"substrate\", \"substrate\", \"subtheme\", \"superresolution\", \"support\", \"support\", \"support\", \"support\", \"support\", \"support\", \"support\", \"support\", \"suppress\", \"suppress\", \"suppress\", \"suppress\", \"suppressor\", \"symptom\", \"symptom\", \"symptom\", \"symptom\", \"symptom\", \"symptom\", \"symptom\", \"symptom\", \"synaptic\", \"synthesize\", \"synthesize\", \"synthesize\", \"synthesize\", \"system\", \"system\", \"system\", \"system\", \"system\", \"system\", \"system\", \"system\", \"target\", \"target\", \"target\", \"target\", \"target\", \"target\", \"target\", \"target\", \"task\", \"task\", \"task\", \"task\", \"task\", \"task\", \"task\", \"task\", \"tax\", \"tax\", \"teach\", \"teach\", \"technique\", \"technique\", \"technique\", \"technique\", \"technique\", \"technique\", \"technique\", \"technique\", \"technology\", \"technology\", \"technology\", \"technology\", \"technology\", \"technology\", \"technology\", \"technology\", \"temperature\", \"temperature\", \"temperature\", \"temperature\", \"temperature\", \"temperature\", \"temperature\", \"temperature\", \"testing\", \"testing\", \"testing\", \"testing\", \"testing\", \"testing\", \"testing\", \"testing\", \"thematic_analysis\", \"theme\", \"theme\", \"therapist\", \"therapy\", \"therapy\", \"therapy\", \"therapy\", \"therapy\", \"therapy\", \"therapy\", \"therapy\", \"tinnitus\", \"tissue\", \"tissue\", \"tissue\", \"tissue\", \"tissue\", \"tissue\", \"tissue\", \"tissue\", \"tool\", \"tool\", \"tool\", \"tool\", \"tool\", \"tool\", \"tool\", \"tool\", \"tooth\", \"tooth\", \"tooth\", \"tooth\", \"tooth\", \"tooth\", \"tooth\", \"total_patient\", \"total_patient\", \"total_patient\", \"total_patient\", \"total_patient\", \"total_patient\", \"total_patient\", \"total_patient\", \"trainee\", \"transcription\", \"transcription\", \"transcription\", \"transcriptional\", \"transcriptional\", \"transcriptional\", \"transcriptome\", \"transcriptome\", \"transcriptome\", \"traumatic\", \"traumatic\", \"treadmill\", \"treadmill\", \"trial\", \"trial\", \"trial\", \"trial\", \"trial\", \"trial\", \"trial\", \"trust\", \"trust\", \"trust\", \"tumor\", \"tumor\", \"tumor\", \"tumor\", \"tumor\", \"tumor\", \"tumor\", \"tumor_growth\", \"tumour\", \"tumour\", \"tumour\", \"tumour\", \"vaccinate\", \"vaccinate\", \"vaccinate\", \"vaccination\", \"vaccination\", \"vaccination\", \"vaccination\", \"vaccine\", \"vaccine\", \"vaccine\", \"vaccine\", \"vaccine_hesitancy\", \"value\", \"value\", \"value\", \"value\", \"value\", \"value\", \"value\", \"value\", \"vascular_endothelial\", \"ventral\", \"ventral\", \"vertebrate\", \"vertebrate\", \"vertical\", \"vertical\", \"vertical\", \"vertical\", \"violence\", \"violence\", \"violence\", \"violence\", \"viral\", \"viral\", \"viral\", \"viral\", \"virus\", \"virus\", \"virus\", \"virus\", \"virus\", \"virus\", \"walk\", \"walk\", \"walk\", \"walk\", \"walk\", \"walk\", \"wastewater\", \"wastewater\", \"wastewater\", \"water\", \"water\", \"water\", \"water\", \"water\", \"water\", \"water\", \"water\", \"watershed\", \"week\", \"week\", \"week\", \"week\", \"week\", \"week\", \"week\", \"week\", \"wind\", \"wind\", \"wine\", \"woman\", \"woman\", \"woman\", \"woman\", \"woman\", \"woman\", \"woman\", \"woman\", \"work\", \"work\", \"work\", \"work\", \"work\", \"work\", \"work\", \"work\", \"workplace\", \"workplace\", \"workplace\"]}, \"R\": 30, \"lambda.step\": 0.01, \"plot.opts\": {\"xlab\": \"PC1\", \"ylab\": \"PC2\"}, \"topic.order\": [1, 7, 6, 5, 8, 3, 2, 4]};\n",
       "\n",
       "function LDAvis_load_lib(url, callback){\n",
       "  var s = document.createElement('script');\n",
       "  s.src = url;\n",
       "  s.async = true;\n",
       "  s.onreadystatechange = s.onload = callback;\n",
       "  s.onerror = function(){console.warn(\"failed to load library \" + url);};\n",
       "  document.getElementsByTagName(\"head\")[0].appendChild(s);\n",
       "}\n",
       "\n",
       "if(typeof(LDAvis) !== \"undefined\"){\n",
       "   // already loaded: just create the visualization\n",
       "   !function(LDAvis){\n",
       "       new LDAvis(\"#\" + \"ldavis_el86991400546246450085284123592\", ldavis_el86991400546246450085284123592_data);\n",
       "   }(LDAvis);\n",
       "}else if(typeof define === \"function\" && define.amd){\n",
       "   // require.js is available: use it to load d3/LDAvis\n",
       "   require.config({paths: {d3: \"https://d3js.org/d3.v5\"}});\n",
       "   require([\"d3\"], function(d3){\n",
       "      window.d3 = d3;\n",
       "      LDAvis_load_lib(\"https://cdn.jsdelivr.net/gh/bmabey/pyLDAvis@3.2.2/pyLDAvis/js/ldavis.v3.0.0.js\", function(){\n",
       "        new LDAvis(\"#\" + \"ldavis_el86991400546246450085284123592\", ldavis_el86991400546246450085284123592_data);\n",
       "      });\n",
       "    });\n",
       "}else{\n",
       "    // require.js not available: dynamically load d3 & LDAvis\n",
       "    LDAvis_load_lib(\"https://d3js.org/d3.v5.js\", function(){\n",
       "         LDAvis_load_lib(\"https://cdn.jsdelivr.net/gh/bmabey/pyLDAvis@3.2.2/pyLDAvis/js/ldavis.v3.0.0.js\", function(){\n",
       "                 new LDAvis(\"#\" + \"ldavis_el86991400546246450085284123592\", ldavis_el86991400546246450085284123592_data);\n",
       "            })\n",
       "         });\n",
       "}\n",
       "</script>"
      ],
      "text/plain": [
       "PreparedData(topic_coordinates=              x         y  topics  cluster       Freq\n",
       "topic                                                \n",
       "0      0.106622 -0.120340       1        1  17.311353\n",
       "6     -0.169053 -0.015402       2        1  16.330043\n",
       "5      0.125581  0.072745       3        1  15.040282\n",
       "4     -0.095430  0.027233       4        1  13.344945\n",
       "7     -0.093842 -0.089713       5        1  11.164707\n",
       "2      0.116912 -0.047102       6        1   9.604167\n",
       "1      0.002990  0.091251       7        1   8.810239\n",
       "3      0.006220  0.081327       8        1   8.394264, topic_info=               Term        Freq       Total Category  logprob  loglift\n",
       "824            cell  902.000000  902.000000  Default  30.0000  30.0000\n",
       "861           tumor  398.000000  398.000000  Default  29.0000  29.0000\n",
       "617         protein  807.000000  807.000000  Default  28.0000  28.0000\n",
       "475           child  605.000000  605.000000  Default  27.0000  27.0000\n",
       "426          specie  633.000000  633.000000  Default  26.0000  26.0000\n",
       "..              ...         ...         ...      ...      ...      ...\n",
       "378         require   58.385229  493.291824   Topic8  -6.1657   0.3436\n",
       "755        activity   59.895334  652.186391   Topic8  -6.1402   0.0899\n",
       "401      difference   56.949080  589.018424   Topic8  -6.1906   0.1413\n",
       "657      population   56.757862  709.635199   Topic8  -6.1940  -0.0483\n",
       "335  characteristic   54.562427  448.795211   Topic8  -6.2334   0.3704\n",
       "\n",
       "[682 rows x 6 columns], token_table=      Topic      Freq          Term\n",
       "term                               \n",
       "4662      7  0.908326  able_predict\n",
       "1209      1  0.078216      academic\n",
       "1209      3  0.187719      academic\n",
       "1209      6  0.125146      academic\n",
       "1209      7  0.594442      academic\n",
       "...     ...       ...           ...\n",
       "1023      7  0.173887          work\n",
       "1023      8  0.077039          work\n",
       "5151      3  0.926640     workplace\n",
       "5151      5  0.033094     workplace\n",
       "5151      7  0.033094     workplace\n",
       "\n",
       "[2500 rows x 3 columns], R=30, lambda_step=0.01, plot_opts={'xlab': 'PC1', 'ylab': 'PC2'}, topic_order=[1, 7, 6, 5, 8, 3, 2, 4])"
      ]
     },
     "execution_count": 93,
     "metadata": {},
     "output_type": "execute_result"
    }
   ],
   "source": [
    "import pyLDAvis.gensim\n",
    "import pickle \n",
    "import pyLDAvis\n",
    "# Visualize the topics\n",
    "pyLDAvis.enable_notebook()\n",
    "LDAvis_prepared = pyLDAvis.gensim.prepare(lda_model, bow_corpus, dictionary)\n",
    "LDAvis_prepared"
   ]
  },
  {
   "cell_type": "code",
   "execution_count": null,
   "id": "7ff15744",
   "metadata": {},
   "outputs": [],
   "source": []
  }
 ],
 "metadata": {
  "kernelspec": {
   "display_name": "Python 3",
   "language": "python",
   "name": "python3"
  },
  "language_info": {
   "codemirror_mode": {
    "name": "ipython",
    "version": 3
   },
   "file_extension": ".py",
   "mimetype": "text/x-python",
   "name": "python",
   "nbconvert_exporter": "python",
   "pygments_lexer": "ipython3",
   "version": "3.8.5"
  }
 },
 "nbformat": 4,
 "nbformat_minor": 5
}
